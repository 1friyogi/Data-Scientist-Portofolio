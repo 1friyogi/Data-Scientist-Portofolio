{
 "cells": [
  {
   "cell_type": "markdown",
   "id": "0ea3c3ac",
   "metadata": {},
   "source": [
    "# Import Library"
   ]
  },
  {
   "cell_type": "code",
   "execution_count": 1,
   "id": "49becf00",
   "metadata": {},
   "outputs": [],
   "source": [
    "import pandas as pd\n",
    "import numpy as np\n",
    "import matplotlib.pyplot as plt\n",
    "import seaborn as sns"
   ]
  },
  {
   "cell_type": "markdown",
   "id": "cb02ffc0",
   "metadata": {},
   "source": [
    "# Load the Dataset"
   ]
  },
  {
   "cell_type": "code",
   "execution_count": 2,
   "id": "02ec2bfe",
   "metadata": {},
   "outputs": [
    {
     "data": {
      "text/html": [
       "<div>\n",
       "<style scoped>\n",
       "    .dataframe tbody tr th:only-of-type {\n",
       "        vertical-align: middle;\n",
       "    }\n",
       "\n",
       "    .dataframe tbody tr th {\n",
       "        vertical-align: top;\n",
       "    }\n",
       "\n",
       "    .dataframe thead th {\n",
       "        text-align: right;\n",
       "    }\n",
       "</style>\n",
       "<table border=\"1\" class=\"dataframe\">\n",
       "  <thead>\n",
       "    <tr style=\"text-align: right;\">\n",
       "      <th></th>\n",
       "      <th>Pregnancies</th>\n",
       "      <th>Glucose</th>\n",
       "      <th>BloodPressure</th>\n",
       "      <th>SkinThickness</th>\n",
       "      <th>Insulin</th>\n",
       "      <th>BMI</th>\n",
       "      <th>DiabetesPedigreeFunction</th>\n",
       "      <th>Age</th>\n",
       "      <th>Outcome</th>\n",
       "    </tr>\n",
       "  </thead>\n",
       "  <tbody>\n",
       "    <tr>\n",
       "      <th>0</th>\n",
       "      <td>6</td>\n",
       "      <td>148</td>\n",
       "      <td>72</td>\n",
       "      <td>35</td>\n",
       "      <td>0</td>\n",
       "      <td>33.6</td>\n",
       "      <td>0.627</td>\n",
       "      <td>50</td>\n",
       "      <td>1</td>\n",
       "    </tr>\n",
       "    <tr>\n",
       "      <th>1</th>\n",
       "      <td>1</td>\n",
       "      <td>85</td>\n",
       "      <td>66</td>\n",
       "      <td>29</td>\n",
       "      <td>0</td>\n",
       "      <td>26.6</td>\n",
       "      <td>0.351</td>\n",
       "      <td>31</td>\n",
       "      <td>0</td>\n",
       "    </tr>\n",
       "    <tr>\n",
       "      <th>2</th>\n",
       "      <td>8</td>\n",
       "      <td>183</td>\n",
       "      <td>64</td>\n",
       "      <td>0</td>\n",
       "      <td>0</td>\n",
       "      <td>23.3</td>\n",
       "      <td>0.672</td>\n",
       "      <td>32</td>\n",
       "      <td>1</td>\n",
       "    </tr>\n",
       "    <tr>\n",
       "      <th>3</th>\n",
       "      <td>1</td>\n",
       "      <td>89</td>\n",
       "      <td>66</td>\n",
       "      <td>23</td>\n",
       "      <td>94</td>\n",
       "      <td>28.1</td>\n",
       "      <td>0.167</td>\n",
       "      <td>21</td>\n",
       "      <td>0</td>\n",
       "    </tr>\n",
       "    <tr>\n",
       "      <th>4</th>\n",
       "      <td>0</td>\n",
       "      <td>137</td>\n",
       "      <td>40</td>\n",
       "      <td>35</td>\n",
       "      <td>168</td>\n",
       "      <td>43.1</td>\n",
       "      <td>2.288</td>\n",
       "      <td>33</td>\n",
       "      <td>1</td>\n",
       "    </tr>\n",
       "    <tr>\n",
       "      <th>...</th>\n",
       "      <td>...</td>\n",
       "      <td>...</td>\n",
       "      <td>...</td>\n",
       "      <td>...</td>\n",
       "      <td>...</td>\n",
       "      <td>...</td>\n",
       "      <td>...</td>\n",
       "      <td>...</td>\n",
       "      <td>...</td>\n",
       "    </tr>\n",
       "    <tr>\n",
       "      <th>763</th>\n",
       "      <td>10</td>\n",
       "      <td>101</td>\n",
       "      <td>76</td>\n",
       "      <td>48</td>\n",
       "      <td>180</td>\n",
       "      <td>32.9</td>\n",
       "      <td>0.171</td>\n",
       "      <td>63</td>\n",
       "      <td>0</td>\n",
       "    </tr>\n",
       "    <tr>\n",
       "      <th>764</th>\n",
       "      <td>2</td>\n",
       "      <td>122</td>\n",
       "      <td>70</td>\n",
       "      <td>27</td>\n",
       "      <td>0</td>\n",
       "      <td>36.8</td>\n",
       "      <td>0.340</td>\n",
       "      <td>27</td>\n",
       "      <td>0</td>\n",
       "    </tr>\n",
       "    <tr>\n",
       "      <th>765</th>\n",
       "      <td>5</td>\n",
       "      <td>121</td>\n",
       "      <td>72</td>\n",
       "      <td>23</td>\n",
       "      <td>112</td>\n",
       "      <td>26.2</td>\n",
       "      <td>0.245</td>\n",
       "      <td>30</td>\n",
       "      <td>0</td>\n",
       "    </tr>\n",
       "    <tr>\n",
       "      <th>766</th>\n",
       "      <td>1</td>\n",
       "      <td>126</td>\n",
       "      <td>60</td>\n",
       "      <td>0</td>\n",
       "      <td>0</td>\n",
       "      <td>30.1</td>\n",
       "      <td>0.349</td>\n",
       "      <td>47</td>\n",
       "      <td>1</td>\n",
       "    </tr>\n",
       "    <tr>\n",
       "      <th>767</th>\n",
       "      <td>1</td>\n",
       "      <td>93</td>\n",
       "      <td>70</td>\n",
       "      <td>31</td>\n",
       "      <td>0</td>\n",
       "      <td>30.4</td>\n",
       "      <td>0.315</td>\n",
       "      <td>23</td>\n",
       "      <td>0</td>\n",
       "    </tr>\n",
       "  </tbody>\n",
       "</table>\n",
       "<p>768 rows × 9 columns</p>\n",
       "</div>"
      ],
      "text/plain": [
       "     Pregnancies  Glucose  BloodPressure  SkinThickness  Insulin   BMI  \\\n",
       "0              6      148             72             35        0  33.6   \n",
       "1              1       85             66             29        0  26.6   \n",
       "2              8      183             64              0        0  23.3   \n",
       "3              1       89             66             23       94  28.1   \n",
       "4              0      137             40             35      168  43.1   \n",
       "..           ...      ...            ...            ...      ...   ...   \n",
       "763           10      101             76             48      180  32.9   \n",
       "764            2      122             70             27        0  36.8   \n",
       "765            5      121             72             23      112  26.2   \n",
       "766            1      126             60              0        0  30.1   \n",
       "767            1       93             70             31        0  30.4   \n",
       "\n",
       "     DiabetesPedigreeFunction  Age  Outcome  \n",
       "0                       0.627   50        1  \n",
       "1                       0.351   31        0  \n",
       "2                       0.672   32        1  \n",
       "3                       0.167   21        0  \n",
       "4                       2.288   33        1  \n",
       "..                        ...  ...      ...  \n",
       "763                     0.171   63        0  \n",
       "764                     0.340   27        0  \n",
       "765                     0.245   30        0  \n",
       "766                     0.349   47        1  \n",
       "767                     0.315   23        0  \n",
       "\n",
       "[768 rows x 9 columns]"
      ]
     },
     "execution_count": 2,
     "metadata": {},
     "output_type": "execute_result"
    }
   ],
   "source": [
    "data = pd.read_csv('diabetes.csv')\n",
    "data"
   ]
  },
  {
   "cell_type": "code",
   "execution_count": 3,
   "id": "366b5dc2",
   "metadata": {},
   "outputs": [
    {
     "name": "stdout",
     "output_type": "stream",
     "text": [
      "<class 'pandas.core.frame.DataFrame'>\n",
      "RangeIndex: 768 entries, 0 to 767\n",
      "Data columns (total 9 columns):\n",
      " #   Column                    Non-Null Count  Dtype  \n",
      "---  ------                    --------------  -----  \n",
      " 0   Pregnancies               768 non-null    int64  \n",
      " 1   Glucose                   768 non-null    int64  \n",
      " 2   BloodPressure             768 non-null    int64  \n",
      " 3   SkinThickness             768 non-null    int64  \n",
      " 4   Insulin                   768 non-null    int64  \n",
      " 5   BMI                       768 non-null    float64\n",
      " 6   DiabetesPedigreeFunction  768 non-null    float64\n",
      " 7   Age                       768 non-null    int64  \n",
      " 8   Outcome                   768 non-null    int64  \n",
      "dtypes: float64(2), int64(7)\n",
      "memory usage: 54.1 KB\n"
     ]
    }
   ],
   "source": [
    "data.info()"
   ]
  },
  {
   "cell_type": "code",
   "execution_count": 4,
   "id": "5c057bbb",
   "metadata": {},
   "outputs": [
    {
     "data": {
      "text/plain": [
       "Pregnancies                 0\n",
       "Glucose                     0\n",
       "BloodPressure               0\n",
       "SkinThickness               0\n",
       "Insulin                     0\n",
       "BMI                         0\n",
       "DiabetesPedigreeFunction    0\n",
       "Age                         0\n",
       "Outcome                     0\n",
       "dtype: int64"
      ]
     },
     "execution_count": 4,
     "metadata": {},
     "output_type": "execute_result"
    }
   ],
   "source": [
    "data.isnull().sum()"
   ]
  },
  {
   "cell_type": "code",
   "execution_count": 5,
   "id": "1617b052",
   "metadata": {},
   "outputs": [
    {
     "data": {
      "text/html": [
       "<div>\n",
       "<style scoped>\n",
       "    .dataframe tbody tr th:only-of-type {\n",
       "        vertical-align: middle;\n",
       "    }\n",
       "\n",
       "    .dataframe tbody tr th {\n",
       "        vertical-align: top;\n",
       "    }\n",
       "\n",
       "    .dataframe thead th {\n",
       "        text-align: right;\n",
       "    }\n",
       "</style>\n",
       "<table border=\"1\" class=\"dataframe\">\n",
       "  <thead>\n",
       "    <tr style=\"text-align: right;\">\n",
       "      <th></th>\n",
       "      <th>Pregnancies</th>\n",
       "      <th>Glucose</th>\n",
       "      <th>BloodPressure</th>\n",
       "      <th>SkinThickness</th>\n",
       "      <th>Insulin</th>\n",
       "      <th>BMI</th>\n",
       "      <th>DiabetesPedigreeFunction</th>\n",
       "      <th>Age</th>\n",
       "      <th>Outcome</th>\n",
       "    </tr>\n",
       "  </thead>\n",
       "  <tbody>\n",
       "    <tr>\n",
       "      <th>0</th>\n",
       "      <td>6</td>\n",
       "      <td>148</td>\n",
       "      <td>72</td>\n",
       "      <td>35</td>\n",
       "      <td>0</td>\n",
       "      <td>33.6</td>\n",
       "      <td>0.627</td>\n",
       "      <td>50</td>\n",
       "      <td>1</td>\n",
       "    </tr>\n",
       "    <tr>\n",
       "      <th>1</th>\n",
       "      <td>1</td>\n",
       "      <td>85</td>\n",
       "      <td>66</td>\n",
       "      <td>29</td>\n",
       "      <td>0</td>\n",
       "      <td>26.6</td>\n",
       "      <td>0.351</td>\n",
       "      <td>31</td>\n",
       "      <td>0</td>\n",
       "    </tr>\n",
       "    <tr>\n",
       "      <th>2</th>\n",
       "      <td>8</td>\n",
       "      <td>183</td>\n",
       "      <td>64</td>\n",
       "      <td>0</td>\n",
       "      <td>0</td>\n",
       "      <td>23.3</td>\n",
       "      <td>0.672</td>\n",
       "      <td>32</td>\n",
       "      <td>1</td>\n",
       "    </tr>\n",
       "    <tr>\n",
       "      <th>3</th>\n",
       "      <td>1</td>\n",
       "      <td>89</td>\n",
       "      <td>66</td>\n",
       "      <td>23</td>\n",
       "      <td>94</td>\n",
       "      <td>28.1</td>\n",
       "      <td>0.167</td>\n",
       "      <td>21</td>\n",
       "      <td>0</td>\n",
       "    </tr>\n",
       "    <tr>\n",
       "      <th>4</th>\n",
       "      <td>0</td>\n",
       "      <td>137</td>\n",
       "      <td>40</td>\n",
       "      <td>35</td>\n",
       "      <td>168</td>\n",
       "      <td>43.1</td>\n",
       "      <td>2.288</td>\n",
       "      <td>33</td>\n",
       "      <td>1</td>\n",
       "    </tr>\n",
       "    <tr>\n",
       "      <th>...</th>\n",
       "      <td>...</td>\n",
       "      <td>...</td>\n",
       "      <td>...</td>\n",
       "      <td>...</td>\n",
       "      <td>...</td>\n",
       "      <td>...</td>\n",
       "      <td>...</td>\n",
       "      <td>...</td>\n",
       "      <td>...</td>\n",
       "    </tr>\n",
       "    <tr>\n",
       "      <th>763</th>\n",
       "      <td>10</td>\n",
       "      <td>101</td>\n",
       "      <td>76</td>\n",
       "      <td>48</td>\n",
       "      <td>180</td>\n",
       "      <td>32.9</td>\n",
       "      <td>0.171</td>\n",
       "      <td>63</td>\n",
       "      <td>0</td>\n",
       "    </tr>\n",
       "    <tr>\n",
       "      <th>764</th>\n",
       "      <td>2</td>\n",
       "      <td>122</td>\n",
       "      <td>70</td>\n",
       "      <td>27</td>\n",
       "      <td>0</td>\n",
       "      <td>36.8</td>\n",
       "      <td>0.340</td>\n",
       "      <td>27</td>\n",
       "      <td>0</td>\n",
       "    </tr>\n",
       "    <tr>\n",
       "      <th>765</th>\n",
       "      <td>5</td>\n",
       "      <td>121</td>\n",
       "      <td>72</td>\n",
       "      <td>23</td>\n",
       "      <td>112</td>\n",
       "      <td>26.2</td>\n",
       "      <td>0.245</td>\n",
       "      <td>30</td>\n",
       "      <td>0</td>\n",
       "    </tr>\n",
       "    <tr>\n",
       "      <th>766</th>\n",
       "      <td>1</td>\n",
       "      <td>126</td>\n",
       "      <td>60</td>\n",
       "      <td>0</td>\n",
       "      <td>0</td>\n",
       "      <td>30.1</td>\n",
       "      <td>0.349</td>\n",
       "      <td>47</td>\n",
       "      <td>1</td>\n",
       "    </tr>\n",
       "    <tr>\n",
       "      <th>767</th>\n",
       "      <td>1</td>\n",
       "      <td>93</td>\n",
       "      <td>70</td>\n",
       "      <td>31</td>\n",
       "      <td>0</td>\n",
       "      <td>30.4</td>\n",
       "      <td>0.315</td>\n",
       "      <td>23</td>\n",
       "      <td>0</td>\n",
       "    </tr>\n",
       "  </tbody>\n",
       "</table>\n",
       "<p>768 rows × 9 columns</p>\n",
       "</div>"
      ],
      "text/plain": [
       "     Pregnancies  Glucose  BloodPressure  SkinThickness  Insulin   BMI  \\\n",
       "0              6      148             72             35        0  33.6   \n",
       "1              1       85             66             29        0  26.6   \n",
       "2              8      183             64              0        0  23.3   \n",
       "3              1       89             66             23       94  28.1   \n",
       "4              0      137             40             35      168  43.1   \n",
       "..           ...      ...            ...            ...      ...   ...   \n",
       "763           10      101             76             48      180  32.9   \n",
       "764            2      122             70             27        0  36.8   \n",
       "765            5      121             72             23      112  26.2   \n",
       "766            1      126             60              0        0  30.1   \n",
       "767            1       93             70             31        0  30.4   \n",
       "\n",
       "     DiabetesPedigreeFunction  Age  Outcome  \n",
       "0                       0.627   50        1  \n",
       "1                       0.351   31        0  \n",
       "2                       0.672   32        1  \n",
       "3                       0.167   21        0  \n",
       "4                       2.288   33        1  \n",
       "..                        ...  ...      ...  \n",
       "763                     0.171   63        0  \n",
       "764                     0.340   27        0  \n",
       "765                     0.245   30        0  \n",
       "766                     0.349   47        1  \n",
       "767                     0.315   23        0  \n",
       "\n",
       "[768 rows x 9 columns]"
      ]
     },
     "execution_count": 5,
     "metadata": {},
     "output_type": "execute_result"
    }
   ],
   "source": [
    "data[~data.duplicated()]"
   ]
  },
  {
   "cell_type": "markdown",
   "id": "5506d95f",
   "metadata": {},
   "source": [
    "# Data Visualization"
   ]
  },
  {
   "cell_type": "code",
   "execution_count": 6,
   "id": "b3a082eb",
   "metadata": {},
   "outputs": [
    {
     "data": {
      "text/plain": [
       "Index(['Pregnancies', 'Glucose', 'BloodPressure', 'SkinThickness', 'Insulin',\n",
       "       'BMI', 'DiabetesPedigreeFunction', 'Age', 'Outcome'],\n",
       "      dtype='object')"
      ]
     },
     "execution_count": 6,
     "metadata": {},
     "output_type": "execute_result"
    }
   ],
   "source": [
    "data.columns"
   ]
  },
  {
   "cell_type": "code",
   "execution_count": 7,
   "id": "5e8a36cd",
   "metadata": {},
   "outputs": [
    {
     "data": {
      "text/plain": [
       "<AxesSubplot:xlabel='Age', ylabel='Count'>"
      ]
     },
     "execution_count": 7,
     "metadata": {},
     "output_type": "execute_result"
    },
    {
     "data": {
      "image/png": "[encoded data removed]",
      "text/plain": [
       "<Figure size 1440x360 with 3 Axes>"
      ]
     },
     "metadata": {
      "needs_background": "light"
     },
     "output_type": "display_data"
    },
    {
     "data": {
      "image/png": "[encoded data removed]",
      "text/plain": [
       "<Figure size 1440x360 with 3 Axes>"
      ]
     },
     "metadata": {
      "needs_background": "light"
     },
     "output_type": "display_data"
    },
    {
     "data": {
      "image/png": "[encoded data removed]",
      "text/plain": [
       "<Figure size 1440x360 with 2 Axes>"
      ]
     },
     "metadata": {
      "needs_background": "light"
     },
     "output_type": "display_data"
    }
   ],
   "source": [
    "fig, ax = plt.subplots(1,3,figsize=(20,5))\n",
    "sns.histplot(data['Pregnancies'],ax=ax[0],kde=True)\n",
    "sns.histplot(data['Glucose'],ax=ax[1],kde=True)\n",
    "sns.histplot(data['BloodPressure'],ax=ax[2],kde=True)\n",
    "\n",
    "fig, ax = plt.subplots(1,3,figsize=(20,5))\n",
    "sns.histplot(data['SkinThickness'],ax=ax[0],kde=True)\n",
    "sns.histplot(data['Insulin'],ax=ax[1],kde=True)\n",
    "sns.histplot(data['BMI'],ax=ax[2],kde=True)\n",
    "\n",
    "fig, ax = plt.subplots(1,2,figsize=(20,5))\n",
    "sns.histplot(data['DiabetesPedigreeFunction'],ax=ax[0],kde=True)\n",
    "sns.histplot(data['Age'],ax=ax[1],kde=True)"
   ]
  },
  {
   "cell_type": "code",
   "execution_count": 8,
   "id": "6a3c1c6b",
   "metadata": {},
   "outputs": [
    {
     "data": {
      "text/plain": [
       "<AxesSubplot:xlabel='BMI', ylabel='Age'>"
      ]
     },
     "execution_count": 8,
     "metadata": {},
     "output_type": "execute_result"
    },
    {
     "data": {
      "image/png": "[encoded data removed]",
      "text/plain": [
       "<Figure size 432x288 with 1 Axes>"
      ]
     },
     "metadata": {
      "needs_background": "light"
     },
     "output_type": "display_data"
    }
   ],
   "source": [
    "sns.scatterplot(x='BMI',y='Age',hue='Outcome',data=data)"
   ]
  },
  {
   "cell_type": "code",
   "execution_count": 9,
   "id": "02db9a48",
   "metadata": {},
   "outputs": [
    {
     "data": {
      "text/plain": [
       "<AxesSubplot:xlabel='Outcome', ylabel='count'>"
      ]
     },
     "execution_count": 9,
     "metadata": {},
     "output_type": "execute_result"
    },
    {
     "data": {
      "image/png": "[encoded data removed]",
      "text/plain": [
       "<Figure size 432x288 with 1 Axes>"
      ]
     },
     "metadata": {
      "needs_background": "light"
     },
     "output_type": "display_data"
    }
   ],
   "source": [
    "sns.countplot(x='Outcome',data=data)"
   ]
  },
  {
   "cell_type": "code",
   "execution_count": 10,
   "id": "7c785f52",
   "metadata": {},
   "outputs": [
    {
     "data": {
      "text/plain": [
       "0    500\n",
       "1    268\n",
       "Name: Outcome, dtype: int64"
      ]
     },
     "execution_count": 10,
     "metadata": {},
     "output_type": "execute_result"
    }
   ],
   "source": [
    "data['Outcome'].value_counts()"
   ]
  },
  {
   "cell_type": "markdown",
   "id": "7ebd43cd",
   "metadata": {},
   "source": [
    "# Correlation Plot"
   ]
  },
  {
   "cell_type": "code",
   "execution_count": 11,
   "id": "2c40019c",
   "metadata": {},
   "outputs": [
    {
     "data": {
      "text/html": [
       "<div>\n",
       "<style scoped>\n",
       "    .dataframe tbody tr th:only-of-type {\n",
       "        vertical-align: middle;\n",
       "    }\n",
       "\n",
       "    .dataframe tbody tr th {\n",
       "        vertical-align: top;\n",
       "    }\n",
       "\n",
       "    .dataframe thead th {\n",
       "        text-align: right;\n",
       "    }\n",
       "</style>\n",
       "<table border=\"1\" class=\"dataframe\">\n",
       "  <thead>\n",
       "    <tr style=\"text-align: right;\">\n",
       "      <th></th>\n",
       "      <th>Pregnancies</th>\n",
       "      <th>Glucose</th>\n",
       "      <th>BloodPressure</th>\n",
       "      <th>SkinThickness</th>\n",
       "      <th>Insulin</th>\n",
       "      <th>BMI</th>\n",
       "      <th>DiabetesPedigreeFunction</th>\n",
       "      <th>Age</th>\n",
       "      <th>Outcome</th>\n",
       "    </tr>\n",
       "  </thead>\n",
       "  <tbody>\n",
       "    <tr>\n",
       "      <th>Pregnancies</th>\n",
       "      <td>1.000000</td>\n",
       "      <td>0.129459</td>\n",
       "      <td>0.141282</td>\n",
       "      <td>-0.081672</td>\n",
       "      <td>-0.073535</td>\n",
       "      <td>0.017683</td>\n",
       "      <td>-0.033523</td>\n",
       "      <td>0.544341</td>\n",
       "      <td>0.221898</td>\n",
       "    </tr>\n",
       "    <tr>\n",
       "      <th>Glucose</th>\n",
       "      <td>0.129459</td>\n",
       "      <td>1.000000</td>\n",
       "      <td>0.152590</td>\n",
       "      <td>0.057328</td>\n",
       "      <td>0.331357</td>\n",
       "      <td>0.221071</td>\n",
       "      <td>0.137337</td>\n",
       "      <td>0.263514</td>\n",
       "      <td>0.466581</td>\n",
       "    </tr>\n",
       "    <tr>\n",
       "      <th>BloodPressure</th>\n",
       "      <td>0.141282</td>\n",
       "      <td>0.152590</td>\n",
       "      <td>1.000000</td>\n",
       "      <td>0.207371</td>\n",
       "      <td>0.088933</td>\n",
       "      <td>0.281805</td>\n",
       "      <td>0.041265</td>\n",
       "      <td>0.239528</td>\n",
       "      <td>0.065068</td>\n",
       "    </tr>\n",
       "    <tr>\n",
       "      <th>SkinThickness</th>\n",
       "      <td>-0.081672</td>\n",
       "      <td>0.057328</td>\n",
       "      <td>0.207371</td>\n",
       "      <td>1.000000</td>\n",
       "      <td>0.436783</td>\n",
       "      <td>0.392573</td>\n",
       "      <td>0.183928</td>\n",
       "      <td>-0.113970</td>\n",
       "      <td>0.074752</td>\n",
       "    </tr>\n",
       "    <tr>\n",
       "      <th>Insulin</th>\n",
       "      <td>-0.073535</td>\n",
       "      <td>0.331357</td>\n",
       "      <td>0.088933</td>\n",
       "      <td>0.436783</td>\n",
       "      <td>1.000000</td>\n",
       "      <td>0.197859</td>\n",
       "      <td>0.185071</td>\n",
       "      <td>-0.042163</td>\n",
       "      <td>0.130548</td>\n",
       "    </tr>\n",
       "    <tr>\n",
       "      <th>BMI</th>\n",
       "      <td>0.017683</td>\n",
       "      <td>0.221071</td>\n",
       "      <td>0.281805</td>\n",
       "      <td>0.392573</td>\n",
       "      <td>0.197859</td>\n",
       "      <td>1.000000</td>\n",
       "      <td>0.140647</td>\n",
       "      <td>0.036242</td>\n",
       "      <td>0.292695</td>\n",
       "    </tr>\n",
       "    <tr>\n",
       "      <th>DiabetesPedigreeFunction</th>\n",
       "      <td>-0.033523</td>\n",
       "      <td>0.137337</td>\n",
       "      <td>0.041265</td>\n",
       "      <td>0.183928</td>\n",
       "      <td>0.185071</td>\n",
       "      <td>0.140647</td>\n",
       "      <td>1.000000</td>\n",
       "      <td>0.033561</td>\n",
       "      <td>0.173844</td>\n",
       "    </tr>\n",
       "    <tr>\n",
       "      <th>Age</th>\n",
       "      <td>0.544341</td>\n",
       "      <td>0.263514</td>\n",
       "      <td>0.239528</td>\n",
       "      <td>-0.113970</td>\n",
       "      <td>-0.042163</td>\n",
       "      <td>0.036242</td>\n",
       "      <td>0.033561</td>\n",
       "      <td>1.000000</td>\n",
       "      <td>0.238356</td>\n",
       "    </tr>\n",
       "    <tr>\n",
       "      <th>Outcome</th>\n",
       "      <td>0.221898</td>\n",
       "      <td>0.466581</td>\n",
       "      <td>0.065068</td>\n",
       "      <td>0.074752</td>\n",
       "      <td>0.130548</td>\n",
       "      <td>0.292695</td>\n",
       "      <td>0.173844</td>\n",
       "      <td>0.238356</td>\n",
       "      <td>1.000000</td>\n",
       "    </tr>\n",
       "  </tbody>\n",
       "</table>\n",
       "</div>"
      ],
      "text/plain": [
       "                          Pregnancies   Glucose  BloodPressure  SkinThickness  \\\n",
       "Pregnancies                  1.000000  0.129459       0.141282      -0.081672   \n",
       "Glucose                      0.129459  1.000000       0.152590       0.057328   \n",
       "BloodPressure                0.141282  0.152590       1.000000       0.207371   \n",
       "SkinThickness               -0.081672  0.057328       0.207371       1.000000   \n",
       "Insulin                     -0.073535  0.331357       0.088933       0.436783   \n",
       "BMI                          0.017683  0.221071       0.281805       0.392573   \n",
       "DiabetesPedigreeFunction    -0.033523  0.137337       0.041265       0.183928   \n",
       "Age                          0.544341  0.263514       0.239528      -0.113970   \n",
       "Outcome                      0.221898  0.466581       0.065068       0.074752   \n",
       "\n",
       "                           Insulin       BMI  DiabetesPedigreeFunction  \\\n",
       "Pregnancies              -0.073535  0.017683                 -0.033523   \n",
       "Glucose                   0.331357  0.221071                  0.137337   \n",
       "BloodPressure             0.088933  0.281805                  0.041265   \n",
       "SkinThickness             0.436783  0.392573                  0.183928   \n",
       "Insulin                   1.000000  0.197859                  0.185071   \n",
       "BMI                       0.197859  1.000000                  0.140647   \n",
       "DiabetesPedigreeFunction  0.185071  0.140647                  1.000000   \n",
       "Age                      -0.042163  0.036242                  0.033561   \n",
       "Outcome                   0.130548  0.292695                  0.173844   \n",
       "\n",
       "                               Age   Outcome  \n",
       "Pregnancies               0.544341  0.221898  \n",
       "Glucose                   0.263514  0.466581  \n",
       "BloodPressure             0.239528  0.065068  \n",
       "SkinThickness            -0.113970  0.074752  \n",
       "Insulin                  -0.042163  0.130548  \n",
       "BMI                       0.036242  0.292695  \n",
       "DiabetesPedigreeFunction  0.033561  0.173844  \n",
       "Age                       1.000000  0.238356  \n",
       "Outcome                   0.238356  1.000000  "
      ]
     },
     "execution_count": 11,
     "metadata": {},
     "output_type": "execute_result"
    }
   ],
   "source": [
    "data.corr()"
   ]
  },
  {
   "cell_type": "code",
   "execution_count": 12,
   "id": "4d668a6f",
   "metadata": {},
   "outputs": [
    {
     "data": {
      "text/plain": [
       "<AxesSubplot:>"
      ]
     },
     "execution_count": 12,
     "metadata": {},
     "output_type": "execute_result"
    },
    {
     "data": {
      "image/png": "[encoded data removed]",
      "text/plain": [
       "<Figure size 720x360 with 2 Axes>"
      ]
     },
     "metadata": {
      "needs_background": "light"
     },
     "output_type": "display_data"
    }
   ],
   "source": [
    "plt.figure(figsize=(10,5))\n",
    "sns.heatmap(data.corr(),annot=True,cmap='coolwarm')"
   ]
  },
  {
   "cell_type": "markdown",
   "id": "f5dd2473",
   "metadata": {},
   "source": [
    "# Train - Test Split"
   ]
  },
  {
   "cell_type": "code",
   "execution_count": 13,
   "id": "6aae4b34",
   "metadata": {},
   "outputs": [],
   "source": [
    "X = data.iloc[:,:-1]\n",
    "y = data.iloc[:,-1]"
   ]
  },
  {
   "cell_type": "code",
   "execution_count": 14,
   "id": "7561f082",
   "metadata": {},
   "outputs": [],
   "source": [
    "from sklearn.model_selection import train_test_split"
   ]
  },
  {
   "cell_type": "code",
   "execution_count": 15,
   "id": "5fc23047",
   "metadata": {},
   "outputs": [],
   "source": [
    "X_train, X_test, y_train, y_test = train_test_split(X,y,test_size=0.2,random_state=10)"
   ]
  },
  {
   "cell_type": "code",
   "execution_count": 16,
   "id": "775d3dd8",
   "metadata": {},
   "outputs": [],
   "source": [
    "# To check the Outcome distribution of class 0 or 1\n",
    "from collections import Counter"
   ]
  },
  {
   "cell_type": "code",
   "execution_count": 17,
   "id": "bfda0942",
   "metadata": {},
   "outputs": [
    {
     "data": {
      "text/plain": [
       "Counter({1: 209, 0: 405})"
      ]
     },
     "execution_count": 17,
     "metadata": {},
     "output_type": "execute_result"
    }
   ],
   "source": [
    "Counter(y_train)"
   ]
  },
  {
   "cell_type": "code",
   "execution_count": 18,
   "id": "88b7e42f",
   "metadata": {},
   "outputs": [
    {
     "data": {
      "text/plain": [
       "Counter({0: 95, 1: 59})"
      ]
     },
     "execution_count": 18,
     "metadata": {},
     "output_type": "execute_result"
    }
   ],
   "source": [
    "Counter(y_test)"
   ]
  },
  {
   "cell_type": "markdown",
   "id": "0e771018",
   "metadata": {},
   "source": [
    "# Balancing Data"
   ]
  },
  {
   "cell_type": "code",
   "execution_count": 19,
   "id": "5a40bc7a",
   "metadata": {},
   "outputs": [],
   "source": [
    "# Doing data balancing because on y_train it reaches 50%\n",
    "from imblearn.over_sampling import SMOTE"
   ]
  },
  {
   "cell_type": "code",
   "execution_count": 20,
   "id": "cad1c9fe",
   "metadata": {},
   "outputs": [],
   "source": [
    "sm = SMOTE()\n",
    "X_res, y_res = sm.fit_resample(X_train,y_train)"
   ]
  },
  {
   "cell_type": "code",
   "execution_count": 21,
   "id": "ae784756",
   "metadata": {},
   "outputs": [
    {
     "data": {
      "text/plain": [
       "Counter({1: 405, 0: 405})"
      ]
     },
     "execution_count": 21,
     "metadata": {},
     "output_type": "execute_result"
    }
   ],
   "source": [
    "Counter(y_res)"
   ]
  },
  {
   "cell_type": "markdown",
   "id": "42e9a502",
   "metadata": {},
   "source": [
    "# Data Preprocessing"
   ]
  },
  {
   "cell_type": "code",
   "execution_count": 22,
   "id": "e9548d69",
   "metadata": {},
   "outputs": [],
   "source": [
    "from sklearn.preprocessing import MinMaxScaler"
   ]
  },
  {
   "cell_type": "code",
   "execution_count": 23,
   "id": "f6f9b3a7",
   "metadata": {},
   "outputs": [],
   "source": [
    "scaler = MinMaxScaler()\n",
    "scaler.fit(X_res)\n",
    "X_res_train = scaler.transform(X_res)\n",
    "X_test = scaler.transform(X_test)"
   ]
  },
  {
   "cell_type": "code",
   "execution_count": 24,
   "id": "38218754",
   "metadata": {},
   "outputs": [
    {
     "data": {
      "text/plain": [
       "(array([[0.        , 0.81407035, 0.62295082, ..., 0.7928465 , 0.29077711,\n",
       "         0.06666667],\n",
       "        [0.11764706, 0.43718593, 0.        , ..., 0.43070045, 0.29675491,\n",
       "         0.06666667],\n",
       "        [0.        , 0.68844221, 0.55737705, ..., 0.36959762, 0.02775406,\n",
       "         0.        ],\n",
       "        ...,\n",
       "        [0.23529412, 0.91457286, 0.53278689, ..., 0.47826393, 0.19446996,\n",
       "         0.15      ],\n",
       "        [0.        , 0.88442211, 0.68852459, ..., 0.51267581, 0.09452069,\n",
       "         0.2       ],\n",
       "        [0.23529412, 0.86934673, 0.59016393, ..., 0.49293554, 0.1345666 ,\n",
       "         0.11666667]]),\n",
       " array([[0.23529412, 0.77386935, 0.59016393, ..., 0.46646796, 0.11101623,\n",
       "         0.26666667],\n",
       "        [0.11764706, 0.56281407, 0.70491803, ..., 0.57228018, 0.07173356,\n",
       "         0.11666667],\n",
       "        [0.05882353, 0.67839196, 0.44262295, ..., 0.39791356, 0.26003416,\n",
       "         0.68333333],\n",
       "        ...,\n",
       "        [0.47058824, 0.42713568, 0.45081967, ..., 0.36363636, 0.02476516,\n",
       "         0.35      ],\n",
       "        [0.29411765, 0.65326633, 0.67213115, ..., 0.58271237, 0.37489325,\n",
       "         0.26666667],\n",
       "        [0.17647059, 0.49748744, 0.44262295, ..., 0.38152012, 0.0324509 ,\n",
       "         0.05      ]]))"
      ]
     },
     "execution_count": 24,
     "metadata": {},
     "output_type": "execute_result"
    }
   ],
   "source": [
    "(X_res_train,X_test)"
   ]
  },
  {
   "cell_type": "markdown",
   "id": "b687d493",
   "metadata": {},
   "source": [
    "# Modelling"
   ]
  },
  {
   "cell_type": "code",
   "execution_count": 25,
   "id": "b2138037",
   "metadata": {},
   "outputs": [],
   "source": [
    "from keras.models import Sequential\n",
    "from keras.layers import Dense"
   ]
  },
  {
   "cell_type": "code",
   "execution_count": 26,
   "id": "dd975e1f",
   "metadata": {},
   "outputs": [],
   "source": [
    "model = Sequential()\n",
    "model.add(Dense(15,input_dim=8,activation='relu'))\n",
    "model.add(Dense(40,activation='relu'))\n",
    "model.add(Dense(2,activation='softmax'))"
   ]
  },
  {
   "cell_type": "code",
   "execution_count": 27,
   "id": "ad4f5dec",
   "metadata": {},
   "outputs": [
    {
     "name": "stdout",
     "output_type": "stream",
     "text": [
      "Model: \"sequential\"\n",
      "_________________________________________________________________\n",
      "Layer (type)                 Output Shape              Param #   \n",
      "=================================================================\n",
      "dense (Dense)                (None, 15)                135       \n",
      "_________________________________________________________________\n",
      "dense_1 (Dense)              (None, 40)                640       \n",
      "_________________________________________________________________\n",
      "dense_2 (Dense)              (None, 2)                 82        \n",
      "=================================================================\n",
      "Total params: 857\n",
      "Trainable params: 857\n",
      "Non-trainable params: 0\n",
      "_________________________________________________________________\n"
     ]
    }
   ],
   "source": [
    "model.summary()"
   ]
  },
  {
   "cell_type": "code",
   "execution_count": 28,
   "id": "8639ea49",
   "metadata": {},
   "outputs": [],
   "source": [
    "model.compile(loss='sparse_categorical_crossentropy',optimizer='adam',metrics=['accuracy'])"
   ]
  },
  {
   "cell_type": "code",
   "execution_count": 29,
   "id": "98698c44",
   "metadata": {},
   "outputs": [],
   "source": [
    "from keras.callbacks import ModelCheckpoint\n",
    "import os"
   ]
  },
  {
   "cell_type": "code",
   "execution_count": 32,
   "id": "2c9efbc4",
   "metadata": {},
   "outputs": [],
   "source": [
    "checkpoint_path = \"./Hasil Model Diabetes/cp-{epoch:04d}.hdf5\"\n",
    "checkpoint_dir = os.path.dirname(checkpoint_path)\n",
    "\n",
    "cp_callback = ModelCheckpoint(\n",
    "    checkpoint_path, verbose=1, save_weights_only = True, save_freq = 'epoch'\n",
    ")"
   ]
  },
  {
   "cell_type": "code",
   "execution_count": 33,
   "id": "eb67855d",
   "metadata": {},
   "outputs": [
    {
     "name": "stdout",
     "output_type": "stream",
     "text": [
      "Epoch 1/50\n",
      "45/45 [==============================] - 0s 3ms/step - loss: 0.6675 - accuracy: 0.6039 - val_loss: 0.7585 - val_accuracy: 0.2857\n",
      "\n",
      "Epoch 00001: saving model to ./Hasil Model Diabetes\\cp-0001.hdf5\n",
      "Epoch 2/50\n",
      "45/45 [==============================] - 0s 2ms/step - loss: 0.6479 - accuracy: 0.6362 - val_loss: 0.7044 - val_accuracy: 0.5714\n",
      "\n",
      "Epoch 00002: saving model to ./Hasil Model Diabetes\\cp-0002.hdf5\n",
      "Epoch 3/50\n",
      "45/45 [==============================] - 0s 2ms/step - loss: 0.6326 - accuracy: 0.6742 - val_loss: 0.7294 - val_accuracy: 0.4898\n",
      "\n",
      "Epoch 00003: saving model to ./Hasil Model Diabetes\\cp-0003.hdf5\n",
      "Epoch 4/50\n",
      "45/45 [==============================] - 0s 2ms/step - loss: 0.6130 - accuracy: 0.6826 - val_loss: 0.6106 - val_accuracy: 0.7041\n",
      "\n",
      "Epoch 00004: saving model to ./Hasil Model Diabetes\\cp-0004.hdf5\n",
      "Epoch 5/50\n",
      "45/45 [==============================] - 0s 2ms/step - loss: 0.5990 - accuracy: 0.6882 - val_loss: 0.7274 - val_accuracy: 0.5306\n",
      "\n",
      "Epoch 00005: saving model to ./Hasil Model Diabetes\\cp-0005.hdf5\n",
      "Epoch 6/50\n",
      "45/45 [==============================] - 0s 2ms/step - loss: 0.5844 - accuracy: 0.7065 - val_loss: 0.6150 - val_accuracy: 0.6735\n",
      "\n",
      "Epoch 00006: saving model to ./Hasil Model Diabetes\\cp-0006.hdf5\n",
      "Epoch 7/50\n",
      "45/45 [==============================] - 0s 2ms/step - loss: 0.5740 - accuracy: 0.7065 - val_loss: 0.5849 - val_accuracy: 0.7143\n",
      "\n",
      "Epoch 00007: saving model to ./Hasil Model Diabetes\\cp-0007.hdf5\n",
      "Epoch 8/50\n",
      "45/45 [==============================] - 0s 2ms/step - loss: 0.5577 - accuracy: 0.7275 - val_loss: 0.6135 - val_accuracy: 0.6735\n",
      "\n",
      "Epoch 00008: saving model to ./Hasil Model Diabetes\\cp-0008.hdf5\n",
      "Epoch 9/50\n",
      "45/45 [==============================] - 0s 2ms/step - loss: 0.5457 - accuracy: 0.7289 - val_loss: 0.5900 - val_accuracy: 0.6939\n",
      "\n",
      "Epoch 00009: saving model to ./Hasil Model Diabetes\\cp-0009.hdf5\n",
      "Epoch 10/50\n",
      "45/45 [==============================] - 0s 2ms/step - loss: 0.5302 - accuracy: 0.7430 - val_loss: 0.5244 - val_accuracy: 0.7551\n",
      "\n",
      "Epoch 00010: saving model to ./Hasil Model Diabetes\\cp-0010.hdf5\n",
      "Epoch 11/50\n",
      "45/45 [==============================] - 0s 2ms/step - loss: 0.5236 - accuracy: 0.7416 - val_loss: 0.5628 - val_accuracy: 0.7347\n",
      "\n",
      "Epoch 00011: saving model to ./Hasil Model Diabetes\\cp-0011.hdf5\n",
      "Epoch 12/50\n",
      "45/45 [==============================] - 0s 2ms/step - loss: 0.5135 - accuracy: 0.7556 - val_loss: 0.5616 - val_accuracy: 0.7245\n",
      "\n",
      "Epoch 00012: saving model to ./Hasil Model Diabetes\\cp-0012.hdf5\n",
      "Epoch 13/50\n",
      "45/45 [==============================] - 0s 2ms/step - loss: 0.5150 - accuracy: 0.7472 - val_loss: 0.6461 - val_accuracy: 0.6939\n",
      "\n",
      "Epoch 00013: saving model to ./Hasil Model Diabetes\\cp-0013.hdf5\n",
      "Epoch 14/50\n",
      "45/45 [==============================] - 0s 2ms/step - loss: 0.5052 - accuracy: 0.7570 - val_loss: 0.5290 - val_accuracy: 0.7551\n",
      "\n",
      "Epoch 00014: saving model to ./Hasil Model Diabetes\\cp-0014.hdf5\n",
      "Epoch 15/50\n",
      "45/45 [==============================] - 0s 2ms/step - loss: 0.4966 - accuracy: 0.7556 - val_loss: 0.5418 - val_accuracy: 0.7551\n",
      "\n",
      "Epoch 00015: saving model to ./Hasil Model Diabetes\\cp-0015.hdf5\n",
      "Epoch 16/50\n",
      "45/45 [==============================] - 0s 2ms/step - loss: 0.4935 - accuracy: 0.7542 - val_loss: 0.5459 - val_accuracy: 0.7449\n",
      "\n",
      "Epoch 00016: saving model to ./Hasil Model Diabetes\\cp-0016.hdf5\n",
      "Epoch 17/50\n",
      "45/45 [==============================] - 0s 2ms/step - loss: 0.4854 - accuracy: 0.7697 - val_loss: 0.5772 - val_accuracy: 0.6939\n",
      "\n",
      "Epoch 00017: saving model to ./Hasil Model Diabetes\\cp-0017.hdf5\n",
      "Epoch 18/50\n",
      "45/45 [==============================] - 0s 2ms/step - loss: 0.4826 - accuracy: 0.7725 - val_loss: 0.5035 - val_accuracy: 0.7551\n",
      "\n",
      "Epoch 00018: saving model to ./Hasil Model Diabetes\\cp-0018.hdf5\n",
      "Epoch 19/50\n",
      "45/45 [==============================] - 0s 2ms/step - loss: 0.4801 - accuracy: 0.7795 - val_loss: 0.5100 - val_accuracy: 0.7449\n",
      "\n",
      "Epoch 00019: saving model to ./Hasil Model Diabetes\\cp-0019.hdf5\n",
      "Epoch 20/50\n",
      "45/45 [==============================] - 0s 2ms/step - loss: 0.4776 - accuracy: 0.7767 - val_loss: 0.6004 - val_accuracy: 0.6837\n",
      "\n",
      "Epoch 00020: saving model to ./Hasil Model Diabetes\\cp-0020.hdf5\n",
      "Epoch 21/50\n",
      "45/45 [==============================] - 0s 2ms/step - loss: 0.4785 - accuracy: 0.7823 - val_loss: 0.6790 - val_accuracy: 0.6429\n",
      "\n",
      "Epoch 00021: saving model to ./Hasil Model Diabetes\\cp-0021.hdf5\n",
      "Epoch 22/50\n",
      "45/45 [==============================] - 0s 3ms/step - loss: 0.4772 - accuracy: 0.7669 - val_loss: 0.5678 - val_accuracy: 0.7245\n",
      "\n",
      "Epoch 00022: saving model to ./Hasil Model Diabetes\\cp-0022.hdf5\n",
      "Epoch 23/50\n",
      "45/45 [==============================] - 0s 2ms/step - loss: 0.4724 - accuracy: 0.7711 - val_loss: 0.4183 - val_accuracy: 0.8163\n",
      "\n",
      "Epoch 00023: saving model to ./Hasil Model Diabetes\\cp-0023.hdf5\n",
      "Epoch 24/50\n",
      "45/45 [==============================] - 0s 2ms/step - loss: 0.4735 - accuracy: 0.7711 - val_loss: 0.5383 - val_accuracy: 0.7245\n",
      "\n",
      "Epoch 00024: saving model to ./Hasil Model Diabetes\\cp-0024.hdf5\n",
      "Epoch 25/50\n",
      "45/45 [==============================] - 0s 3ms/step - loss: 0.4693 - accuracy: 0.7753 - val_loss: 0.6412 - val_accuracy: 0.6735\n",
      "\n",
      "Epoch 00025: saving model to ./Hasil Model Diabetes\\cp-0025.hdf5\n",
      "Epoch 26/50\n",
      "45/45 [==============================] - 0s 2ms/step - loss: 0.4705 - accuracy: 0.7767 - val_loss: 0.4935 - val_accuracy: 0.7347\n",
      "\n",
      "Epoch 00026: saving model to ./Hasil Model Diabetes\\cp-0026.hdf5\n",
      "Epoch 27/50\n",
      "45/45 [==============================] - 0s 2ms/step - loss: 0.4654 - accuracy: 0.7795 - val_loss: 0.6858 - val_accuracy: 0.6531\n",
      "\n",
      "Epoch 00027: saving model to ./Hasil Model Diabetes\\cp-0027.hdf5\n",
      "Epoch 28/50\n",
      "45/45 [==============================] - 0s 2ms/step - loss: 0.4656 - accuracy: 0.7767 - val_loss: 0.4525 - val_accuracy: 0.7857\n",
      "\n",
      "Epoch 00028: saving model to ./Hasil Model Diabetes\\cp-0028.hdf5\n",
      "Epoch 29/50\n",
      "45/45 [==============================] - 0s 2ms/step - loss: 0.4680 - accuracy: 0.7781 - val_loss: 0.6289 - val_accuracy: 0.6837\n",
      "\n",
      "Epoch 00029: saving model to ./Hasil Model Diabetes\\cp-0029.hdf5\n",
      "Epoch 30/50\n",
      "45/45 [==============================] - 0s 2ms/step - loss: 0.4710 - accuracy: 0.7640 - val_loss: 0.6415 - val_accuracy: 0.6735\n",
      "\n",
      "Epoch 00030: saving model to ./Hasil Model Diabetes\\cp-0030.hdf5\n",
      "Epoch 31/50\n",
      "45/45 [==============================] - 0s 2ms/step - loss: 0.4651 - accuracy: 0.7781 - val_loss: 0.5345 - val_accuracy: 0.7041\n",
      "\n",
      "Epoch 00031: saving model to ./Hasil Model Diabetes\\cp-0031.hdf5\n",
      "Epoch 32/50\n",
      "45/45 [==============================] - 0s 2ms/step - loss: 0.4612 - accuracy: 0.7739 - val_loss: 0.6291 - val_accuracy: 0.6735\n",
      "\n",
      "Epoch 00032: saving model to ./Hasil Model Diabetes\\cp-0032.hdf5\n",
      "Epoch 33/50\n",
      "45/45 [==============================] - 0s 2ms/step - loss: 0.4634 - accuracy: 0.7767 - val_loss: 0.4135 - val_accuracy: 0.8061\n",
      "\n",
      "Epoch 00033: saving model to ./Hasil Model Diabetes\\cp-0033.hdf5\n",
      "Epoch 34/50\n",
      "45/45 [==============================] - 0s 2ms/step - loss: 0.4669 - accuracy: 0.7640 - val_loss: 0.6386 - val_accuracy: 0.6735\n",
      "\n",
      "Epoch 00034: saving model to ./Hasil Model Diabetes\\cp-0034.hdf5\n",
      "Epoch 35/50\n",
      "45/45 [==============================] - 0s 2ms/step - loss: 0.4660 - accuracy: 0.7879 - val_loss: 0.5750 - val_accuracy: 0.7143\n",
      "\n",
      "Epoch 00035: saving model to ./Hasil Model Diabetes\\cp-0035.hdf5\n",
      "Epoch 36/50\n",
      "45/45 [==============================] - 0s 2ms/step - loss: 0.4620 - accuracy: 0.7865 - val_loss: 0.5537 - val_accuracy: 0.6939\n",
      "\n",
      "Epoch 00036: saving model to ./Hasil Model Diabetes\\cp-0036.hdf5\n",
      "Epoch 37/50\n",
      "45/45 [==============================] - 0s 2ms/step - loss: 0.4580 - accuracy: 0.7823 - val_loss: 0.5466 - val_accuracy: 0.7143\n",
      "\n",
      "Epoch 00037: saving model to ./Hasil Model Diabetes\\cp-0037.hdf5\n",
      "Epoch 38/50\n",
      "45/45 [==============================] - 0s 2ms/step - loss: 0.4600 - accuracy: 0.7767 - val_loss: 0.6806 - val_accuracy: 0.6531\n",
      "\n",
      "Epoch 00038: saving model to ./Hasil Model Diabetes\\cp-0038.hdf5\n",
      "Epoch 39/50\n",
      "45/45 [==============================] - 0s 3ms/step - loss: 0.4571 - accuracy: 0.7851 - val_loss: 0.5211 - val_accuracy: 0.7245\n",
      "\n",
      "Epoch 00039: saving model to ./Hasil Model Diabetes\\cp-0039.hdf5\n",
      "Epoch 40/50\n",
      "45/45 [==============================] - 0s 3ms/step - loss: 0.4588 - accuracy: 0.7837 - val_loss: 0.5813 - val_accuracy: 0.7143\n"
     ]
    },
    {
     "name": "stdout",
     "output_type": "stream",
     "text": [
      "\n",
      "Epoch 00040: saving model to ./Hasil Model Diabetes\\cp-0040.hdf5\n",
      "Epoch 41/50\n",
      "45/45 [==============================] - 0s 2ms/step - loss: 0.4576 - accuracy: 0.7837 - val_loss: 0.5065 - val_accuracy: 0.7143\n",
      "\n",
      "Epoch 00041: saving model to ./Hasil Model Diabetes\\cp-0041.hdf5\n",
      "Epoch 42/50\n",
      "45/45 [==============================] - 0s 2ms/step - loss: 0.4515 - accuracy: 0.7921 - val_loss: 0.5218 - val_accuracy: 0.7143\n",
      "\n",
      "Epoch 00042: saving model to ./Hasil Model Diabetes\\cp-0042.hdf5\n",
      "Epoch 43/50\n",
      "45/45 [==============================] - 0s 2ms/step - loss: 0.4520 - accuracy: 0.7851 - val_loss: 0.5038 - val_accuracy: 0.7245\n",
      "\n",
      "Epoch 00043: saving model to ./Hasil Model Diabetes\\cp-0043.hdf5\n",
      "Epoch 44/50\n",
      "45/45 [==============================] - 0s 2ms/step - loss: 0.4577 - accuracy: 0.7669 - val_loss: 0.5145 - val_accuracy: 0.7245\n",
      "\n",
      "Epoch 00044: saving model to ./Hasil Model Diabetes\\cp-0044.hdf5\n",
      "Epoch 45/50\n",
      "45/45 [==============================] - 0s 2ms/step - loss: 0.4524 - accuracy: 0.7823 - val_loss: 0.4655 - val_accuracy: 0.7653\n",
      "\n",
      "Epoch 00045: saving model to ./Hasil Model Diabetes\\cp-0045.hdf5\n",
      "Epoch 46/50\n",
      "45/45 [==============================] - 0s 2ms/step - loss: 0.4513 - accuracy: 0.7893 - val_loss: 0.6119 - val_accuracy: 0.6939\n",
      "\n",
      "Epoch 00046: saving model to ./Hasil Model Diabetes\\cp-0046.hdf5\n",
      "Epoch 47/50\n",
      "45/45 [==============================] - 0s 2ms/step - loss: 0.4516 - accuracy: 0.7823 - val_loss: 0.5396 - val_accuracy: 0.7245\n",
      "\n",
      "Epoch 00047: saving model to ./Hasil Model Diabetes\\cp-0047.hdf5\n",
      "Epoch 48/50\n",
      "45/45 [==============================] - 0s 2ms/step - loss: 0.4497 - accuracy: 0.7725 - val_loss: 0.6493 - val_accuracy: 0.6837\n",
      "\n",
      "Epoch 00048: saving model to ./Hasil Model Diabetes\\cp-0048.hdf5\n",
      "Epoch 49/50\n",
      "45/45 [==============================] - 0s 2ms/step - loss: 0.4498 - accuracy: 0.7795 - val_loss: 0.4500 - val_accuracy: 0.7755\n",
      "\n",
      "Epoch 00049: saving model to ./Hasil Model Diabetes\\cp-0049.hdf5\n",
      "Epoch 50/50\n",
      "45/45 [==============================] - 0s 2ms/step - loss: 0.4488 - accuracy: 0.7795 - val_loss: 0.5550 - val_accuracy: 0.7041\n",
      "\n",
      "Epoch 00050: saving model to ./Hasil Model Diabetes\\cp-0050.hdf5\n"
     ]
    }
   ],
   "source": [
    "history = model.fit(X_res_train,y_res, validation_split=0.12, epochs = 50, batch_size = 16, verbose=1, callbacks=[cp_callback])"
   ]
  },
  {
   "cell_type": "code",
   "execution_count": 34,
   "id": "ca0e395a",
   "metadata": {},
   "outputs": [
    {
     "data": {
      "image/png": "[encoded data removed]",
      "text/plain": [
       "<Figure size 432x288 with 1 Axes>"
      ]
     },
     "metadata": {
      "needs_background": "light"
     },
     "output_type": "display_data"
    }
   ],
   "source": [
    "plt.plot(history.history['loss'],label='train loss')\n",
    "plt.plot(history.history['val_loss'],label='val loss')\n",
    "plt.title('Loss')\n",
    "plt.xlabel('epoch')\n",
    "plt.ylabel('loss value')\n",
    "plt.show()"
   ]
  },
  {
   "cell_type": "code",
   "execution_count": 35,
   "id": "87f750d0",
   "metadata": {},
   "outputs": [
    {
     "data": {
      "image/png": "[encoded data removed]",
      "text/plain": [
       "<Figure size 432x288 with 1 Axes>"
      ]
     },
     "metadata": {
      "needs_background": "light"
     },
     "output_type": "display_data"
    }
   ],
   "source": [
    "plt.plot(history.history['accuracy'],label='train accuracy')\n",
    "plt.plot(history.history['val_accuracy'],label='val accuracy')\n",
    "plt.title('Accuracy')\n",
    "plt.xlabel('epoch')\n",
    "plt.ylabel('accuracy value')\n",
    "plt.show()"
   ]
  },
  {
   "cell_type": "markdown",
   "id": "a9a5b797",
   "metadata": {},
   "source": [
    "# Predict Class"
   ]
  },
  {
   "cell_type": "code",
   "execution_count": 36,
   "id": "7d502fe0",
   "metadata": {},
   "outputs": [
    {
     "data": {
      "text/plain": [
       "array([1, 0, 1, 0, 0, 0, 0, 1, 0, 0, 0, 0, 1, 0, 0, 1, 1, 0, 0, 1, 1, 1,\n",
       "       0, 1, 0, 1, 0, 0, 1, 1, 0, 0, 0, 0, 0, 0, 0, 0, 1, 0, 1, 0, 0, 0,\n",
       "       1, 0, 1, 0, 1, 1, 0, 1, 0, 0, 1, 0, 0, 0, 0, 0, 0, 0, 0, 1, 0, 1,\n",
       "       1, 0, 0, 1, 1, 0, 0, 1, 0, 0, 1, 1, 0, 0, 0, 1, 0, 0, 0, 1, 1, 1,\n",
       "       1, 0, 0, 0, 0, 0, 0, 0, 1, 0, 0, 0, 1, 1, 1, 1, 0, 1, 1, 1, 0, 1,\n",
       "       0, 1, 0, 0, 0, 0, 0, 1, 0, 1, 0, 0, 0, 1, 1, 0, 0, 0, 0, 0, 1, 0,\n",
       "       1, 0, 0, 0, 1, 1, 1, 1, 0, 0, 1, 0, 1, 0, 0, 1, 1, 1, 0, 0, 1, 0],\n",
       "      dtype=int64)"
      ]
     },
     "execution_count": 36,
     "metadata": {},
     "output_type": "execute_result"
    }
   ],
   "source": [
    "np.argmax(model.predict(X_test), axis=-1)"
   ]
  },
  {
   "cell_type": "code",
   "execution_count": 37,
   "id": "72bba21f",
   "metadata": {},
   "outputs": [
    {
     "data": {
      "text/plain": [
       "array([0, 0, 0, 1, 0, 0, 0, 1, 0, 0, 0, 0, 1, 0, 1, 0, 0, 0, 0, 1, 1, 0,\n",
       "       0, 1, 0, 1, 0, 1, 1, 1, 0, 0, 0, 0, 1, 0, 1, 0, 0, 0, 1, 1, 1, 0,\n",
       "       1, 0, 0, 0, 1, 0, 0, 1, 0, 0, 0, 0, 0, 0, 0, 0, 0, 0, 0, 1, 0, 0,\n",
       "       1, 0, 0, 1, 1, 1, 0, 1, 0, 0, 1, 1, 0, 1, 0, 1, 0, 0, 1, 1, 0, 1,\n",
       "       1, 0, 0, 1, 0, 0, 0, 0, 1, 0, 0, 0, 1, 1, 1, 0, 0, 0, 1, 1, 0, 0,\n",
       "       0, 1, 0, 0, 1, 0, 0, 1, 0, 1, 0, 0, 0, 0, 0, 1, 0, 1, 0, 0, 1, 1,\n",
       "       0, 0, 0, 1, 0, 1, 1, 1, 0, 0, 1, 0, 1, 0, 0, 1, 1, 1, 1, 0, 1, 0],\n",
       "      dtype=int64)"
      ]
     },
     "execution_count": 37,
     "metadata": {},
     "output_type": "execute_result"
    }
   ],
   "source": [
    "np.array(y_test)"
   ]
  },
  {
   "cell_type": "code",
   "execution_count": 38,
   "id": "e16ac8df",
   "metadata": {},
   "outputs": [
    {
     "name": "stdout",
     "output_type": "stream",
     "text": [
      "5/5 [==============================] - 0s 2ms/step - loss: 0.4782 - accuracy: 0.7727\n",
      "loss: 0.4782342314720154\n",
      "acc: 0.7727272510528564\n"
     ]
    }
   ],
   "source": [
    "loss, acc = model.evaluate(X_test,y_test)\n",
    "print(f'loss: {loss}')\n",
    "print(f'acc: {acc}')"
   ]
  },
  {
   "cell_type": "markdown",
   "id": "6c5fc7da",
   "metadata": {},
   "source": [
    "# Load Model"
   ]
  },
  {
   "cell_type": "code",
   "execution_count": 39,
   "id": "44d6f1aa",
   "metadata": {},
   "outputs": [],
   "source": [
    "models = model\n",
    "models.load_weights('./Hasil Model Diabetes/cp-0044.hdf5')"
   ]
  },
  {
   "cell_type": "code",
   "execution_count": 40,
   "id": "35eb090f",
   "metadata": {},
   "outputs": [
    {
     "name": "stdout",
     "output_type": "stream",
     "text": [
      "26/26 [==============================] - 0s 1ms/step - loss: 0.4543 - accuracy: 0.7802\n",
      "loss train: 0.45429709553718567\n",
      "acc train: 0.780246913433075\n"
     ]
    }
   ],
   "source": [
    "loss, acc = model.evaluate(X_res_train,y_res)\n",
    "print(f'loss train: {loss}')\n",
    "print(f'acc train: {acc}')"
   ]
  },
  {
   "cell_type": "code",
   "execution_count": 41,
   "id": "7c4f19e5",
   "metadata": {},
   "outputs": [
    {
     "name": "stdout",
     "output_type": "stream",
     "text": [
      "5/5 [==============================] - 0s 2ms/step - loss: 0.4768 - accuracy: 0.7792\n",
      "loss test: 0.4767850935459137\n",
      "acc test: 0.7792207598686218\n"
     ]
    }
   ],
   "source": [
    "loss, acc = model.evaluate(X_test,y_test)\n",
    "print(f'loss test: {loss}')\n",
    "print(f'acc test: {acc}')"
   ]
  },
  {
   "cell_type": "code",
   "execution_count": 42,
   "id": "416d4462",
   "metadata": {},
   "outputs": [
    {
     "data": {
      "text/plain": [
       "[array([[-0.00862948,  0.11887359, -0.32391423,  0.54880214, -0.1167508 ,\n",
       "          0.04579648, -0.14600967,  0.30352804,  0.12608877, -0.02557679,\n",
       "          0.5053212 , -0.26214817, -0.2256733 ,  0.14507633, -0.61034846],\n",
       "        [-0.01473502, -0.24429512,  0.41959235,  0.07965953,  0.24316597,\n",
       "          0.14255151,  0.62281173,  0.48605752, -0.2165161 ,  0.7148789 ,\n",
       "          0.242937  , -0.45146194, -0.02525517, -0.23769024,  0.4391083 ],\n",
       "        [-0.08950709, -0.03913284,  0.36818463,  0.1875024 , -0.09873017,\n",
       "         -0.00979904, -0.17200135, -0.33486965,  0.41398206, -0.11295917,\n",
       "          0.23368461, -0.42155966, -0.39847365, -0.14239933,  0.56490827],\n",
       "        [ 0.14068532,  0.3273183 , -0.3724234 ,  0.16494097, -0.05967802,\n",
       "          0.06951018,  0.5885284 , -0.07215012, -0.37375128, -0.20162699,\n",
       "          0.395363  , -0.39814243, -0.44508195,  0.5494356 , -0.567554  ],\n",
       "        [ 0.3174944 , -0.21836852, -0.57072926, -0.3481888 , -0.3989727 ,\n",
       "          0.29202196,  0.41220194,  0.2755444 , -0.35757646, -0.07279216,\n",
       "         -0.08734759, -0.18305182, -0.49923357,  0.19132096, -0.37018386],\n",
       "        [-0.08614951, -0.07348949, -0.15692589,  0.1583522 ,  0.26554924,\n",
       "         -0.5486676 , -0.27343157,  0.3611613 ,  0.20700273, -0.04756212,\n",
       "         -0.16256666, -0.27111882,  0.38324004, -0.00965659,  0.28836825],\n",
       "        [-0.03511946, -0.6730053 , -0.07752186,  0.5305369 , -0.02304545,\n",
       "         -0.12958296,  0.27016348,  0.10451703, -0.01497524, -0.15547515,\n",
       "         -0.23003674, -0.17821306, -0.06153426, -0.7896585 , -0.30892125],\n",
       "        [-0.84232885,  0.45017537,  0.11648819,  0.25606534, -0.28201908,\n",
       "         -0.470689  ,  0.08319013,  0.2354494 , -0.02356526,  0.65908664,\n",
       "         -0.49619567, -0.2833835 , -0.5534247 , -0.08715124, -0.7685148 ]],\n",
       "       dtype=float32),\n",
       " array([ 0.1347808 ,  0.07315955, -0.12774807, -0.09801209,  0.00047751,\n",
       "         0.30273652, -0.13099198, -0.12139889,  0.16302934, -0.08474493,\n",
       "         0.07489207,  0.        ,  0.01217619,  0.03416616,  0.15662059],\n",
       "       dtype=float32),\n",
       " array([[-8.15021992e-02, -1.33299470e-01,  2.33827978e-01,\n",
       "          1.34306446e-01,  4.41809148e-01, -2.12413162e-01,\n",
       "         -2.23994702e-01,  2.71743000e-01, -4.73960787e-01,\n",
       "          1.89490721e-01, -5.19900769e-02, -3.43859553e-01,\n",
       "          9.47030336e-02,  1.53910816e-02,  5.42380512e-01,\n",
       "          2.78104454e-01,  4.60724592e-01,  2.28560194e-02,\n",
       "         -9.41608101e-03,  3.55493009e-01,  1.58757254e-01,\n",
       "         -1.98715925e-01, -8.92596617e-02, -3.94276232e-01,\n",
       "          3.15488786e-01,  1.39598787e-01, -2.17965275e-01,\n",
       "          7.30272382e-02,  1.89738557e-01,  8.71123672e-02,\n",
       "          2.18564004e-01,  4.32603478e-01,  2.69477814e-01,\n",
       "          4.31341350e-01, -1.28045408e-02, -3.51722777e-01,\n",
       "          9.42838788e-02,  1.09721638e-01,  4.48157161e-01,\n",
       "         -1.49670271e-02],\n",
       "        [ 2.23911434e-01, -5.08177698e-01, -9.00571793e-02,\n",
       "          1.31355226e-02,  6.03706896e-01, -5.95028877e-01,\n",
       "         -4.85713392e-01,  1.79188251e-02, -1.51782036e-01,\n",
       "          4.63820845e-01,  6.49828017e-01, -1.75100595e-01,\n",
       "          4.87792283e-01, -6.06674969e-01,  3.29043925e-01,\n",
       "          3.30622584e-01,  2.63233464e-02, -6.15969718e-01,\n",
       "         -4.07192111e-01,  1.04110368e-01,  6.07876241e-01,\n",
       "         -1.01199813e-01, -1.93144143e-01, -5.19519985e-01,\n",
       "          1.62514552e-01,  7.16433898e-02, -4.62226391e-01,\n",
       "          4.46523547e-01, -1.15119278e-01,  3.75745028e-01,\n",
       "         -4.48734537e-02,  5.02493203e-01, -4.78144795e-01,\n",
       "          6.45602465e-01, -3.13229561e-01, -2.78412014e-01,\n",
       "         -1.42667040e-01, -5.95102370e-01,  4.58806932e-01,\n",
       "         -4.67371643e-01],\n",
       "        [-1.06012233e-01, -2.59428266e-02, -2.36383766e-01,\n",
       "         -7.62689188e-02, -5.42325601e-02, -1.48877606e-01,\n",
       "          2.57527947e-01,  4.08339240e-02,  5.26790023e-02,\n",
       "         -2.53253013e-01, -2.22305655e-01, -2.45651782e-01,\n",
       "          2.42314428e-01,  5.64494096e-02, -5.90662770e-02,\n",
       "          4.89755906e-02, -2.30291367e-01,  4.59411889e-01,\n",
       "          3.20903927e-01, -1.87444583e-01, -1.37813821e-01,\n",
       "          2.87927210e-01, -2.35493451e-01,  3.15995395e-01,\n",
       "          3.94153744e-02, -3.49416658e-02,  8.67389068e-02,\n",
       "         -2.15617433e-01,  2.48222888e-01,  2.07373515e-01,\n",
       "         -3.95517021e-01,  1.41997680e-01, -5.33590652e-02,\n",
       "         -1.35572374e-01, -5.20226397e-02,  3.08759272e-01,\n",
       "         -6.40220642e-02,  1.66320086e-01, -6.71048686e-02,\n",
       "         -1.89331010e-01],\n",
       "        [ 2.66096383e-01,  9.15182456e-02, -2.37941414e-01,\n",
       "         -1.55659959e-01,  1.89609796e-01, -2.28158146e-01,\n",
       "          3.95512670e-01, -8.75937343e-02,  3.10354412e-01,\n",
       "         -2.78789282e-01,  2.50892401e-01,  2.40327641e-01,\n",
       "         -1.68869764e-01,  7.34368116e-02, -3.12091261e-01,\n",
       "         -1.45444855e-01,  2.18542501e-01, -5.21651097e-02,\n",
       "          1.52287945e-01, -1.97319373e-01,  1.73161458e-02,\n",
       "         -1.84278831e-01, -1.26557767e-01,  3.68590325e-01,\n",
       "          3.10656130e-02, -1.93415508e-01, -1.50237337e-01,\n",
       "         -1.57672420e-01, -4.60606247e-01,  1.76175274e-02,\n",
       "         -2.95716494e-01,  1.74201757e-01, -1.00942299e-01,\n",
       "          1.87914819e-01,  6.60840943e-02, -2.87001878e-01,\n",
       "          3.39229047e-01,  2.65800059e-01,  2.08072662e-01,\n",
       "          3.02495480e-01],\n",
       "        [-1.75530426e-02,  1.76666621e-02, -2.50194937e-01,\n",
       "          4.42180075e-02, -2.09859282e-01, -1.84644252e-01,\n",
       "          1.65087894e-01, -2.53011882e-01,  4.14919972e-01,\n",
       "         -5.27327061e-02, -3.61019492e-01,  3.82437706e-01,\n",
       "         -1.65664405e-01, -1.93701491e-01,  2.41734356e-01,\n",
       "         -3.02790314e-01, -2.25803256e-01, -1.25601441e-02,\n",
       "         -5.70624232e-01,  1.78761691e-01, -3.86167079e-01,\n",
       "          3.16002443e-02, -7.39086419e-02,  3.38123649e-01,\n",
       "          1.27441674e-01,  1.43866315e-01,  2.35460639e-01,\n",
       "         -3.47623788e-02,  2.32971147e-01, -7.97516033e-02,\n",
       "         -1.37934819e-01,  1.68485090e-01,  1.82829589e-01,\n",
       "         -1.05549857e-01,  7.78379058e-03, -3.59765850e-02,\n",
       "          1.04166707e-02,  1.81754693e-01,  1.56783089e-01,\n",
       "          2.38843992e-01],\n",
       "        [ 3.42462957e-01, -6.79390907e-01, -2.14406893e-01,\n",
       "          1.02632456e-01,  7.34577775e-01, -7.16929257e-01,\n",
       "         -4.36378807e-01,  2.25410387e-01, -4.97083396e-01,\n",
       "          5.71734726e-01,  8.58819038e-02, -1.30852669e-01,\n",
       "          4.52261388e-01, -2.36013472e-01,  6.37150824e-01,\n",
       "          7.57556558e-01,  8.61422956e-01, -4.07953769e-01,\n",
       "          3.10270954e-02,  6.72509015e-01, -2.26746485e-01,\n",
       "         -6.74031019e-01, -4.95115876e-01, -5.12481928e-01,\n",
       "          3.68456960e-01,  5.45920908e-01, -5.99389374e-01,\n",
       "         -6.33251607e-01,  1.51466886e-02, -1.68054104e-01,\n",
       "          2.96747208e-01,  7.44205594e-01, -1.35755911e-01,\n",
       "          6.62213027e-01, -2.97547996e-01, -4.97769594e-01,\n",
       "         -5.38022101e-01, -6.37463689e-01,  6.70062244e-01,\n",
       "         -2.68932313e-01],\n",
       "        [-4.71582979e-01,  1.17085136e-01, -1.92308247e-01,\n",
       "         -2.60528654e-01,  7.52536729e-02,  4.45090741e-01,\n",
       "          1.90580845e-01, -2.33871028e-01,  4.39817369e-01,\n",
       "         -2.96347946e-01, -2.80742735e-01, -6.69187121e-03,\n",
       "         -1.51051104e-01, -7.61721563e-03, -4.94340241e-01,\n",
       "         -5.40627062e-01, -3.15310746e-01, -5.54997940e-04,\n",
       "          3.99275452e-01, -3.91689658e-01,  1.25516847e-01,\n",
       "          4.68598962e-01,  3.96803766e-01, -6.75693452e-02,\n",
       "          8.03391710e-02, -2.68830419e-01, -4.63180318e-02,\n",
       "         -3.15176733e-02,  1.17641911e-02, -9.68331546e-02,\n",
       "         -4.01463151e-01, -3.59356105e-01,  9.35544744e-02,\n",
       "         -2.80026972e-01,  7.20527954e-03,  8.69815126e-02,\n",
       "          4.60976720e-01,  2.22985193e-01,  6.24331385e-02,\n",
       "          4.79080528e-02],\n",
       "        [-7.28925467e-02,  4.63324696e-01,  3.26766483e-02,\n",
       "          1.60153702e-01, -1.88832000e-01,  2.39984289e-01,\n",
       "          2.48915851e-01, -1.63445786e-01,  3.33820701e-01,\n",
       "         -4.92435545e-01,  3.47703299e-03,  3.69795531e-01,\n",
       "         -1.06162176e-01,  4.09874707e-01, -1.31950095e-01,\n",
       "         -2.86626875e-01, -4.92823809e-01,  1.97496176e-01,\n",
       "         -3.65252979e-02,  5.10002784e-02,  2.60843098e-01,\n",
       "          5.40423512e-01,  4.40392286e-01,  3.20787877e-01,\n",
       "         -8.41471255e-02, -6.03186369e-01,  3.37807573e-02,\n",
       "          1.95260614e-01,  2.71960020e-01, -4.47608940e-02,\n",
       "          3.79722789e-02, -7.96807781e-02,  2.64574319e-01,\n",
       "         -7.30589479e-02,  1.23079330e-01,  3.36900294e-01,\n",
       "          4.51638073e-01,  7.58524165e-02,  4.32918360e-03,\n",
       "          2.98167348e-01],\n",
       "        [ 2.80512385e-02, -1.58540964e-01, -2.39931539e-01,\n",
       "          1.50157705e-01,  4.16405350e-01, -5.53108118e-02,\n",
       "          2.59767706e-03, -1.58474877e-01, -7.76423886e-02,\n",
       "          2.44283676e-01,  9.56833661e-02,  2.10437149e-01,\n",
       "          2.17164502e-01,  5.12871034e-02,  2.60822386e-01,\n",
       "         -9.32802539e-03, -1.41353354e-01, -2.81544626e-01,\n",
       "         -8.51337165e-02,  3.89227346e-02,  3.25700581e-01,\n",
       "          4.02258784e-02,  1.65611636e-02,  1.45374805e-01,\n",
       "          2.38786519e-01, -8.92582983e-02,  3.10219172e-02,\n",
       "          2.48008072e-01, -2.77211905e-01, -1.59689948e-01,\n",
       "          3.87267858e-01,  6.29581437e-02, -3.01669389e-01,\n",
       "          2.68070310e-01,  1.05934113e-01, -1.13547064e-01,\n",
       "         -9.65899751e-02,  1.49565954e-02,  3.17879409e-01,\n",
       "          6.41896427e-02],\n",
       "        [ 1.78113058e-01,  3.93980145e-01, -4.97808047e-02,\n",
       "         -3.17835808e-01,  9.60555747e-02,  2.50133306e-01,\n",
       "          3.64229351e-01,  5.63419648e-02, -7.05559328e-02,\n",
       "         -4.68386918e-01,  2.91339278e-01,  1.88324347e-01,\n",
       "          3.91964940e-03,  3.00526381e-01, -3.53909433e-01,\n",
       "          1.22876808e-01, -3.47580612e-01,  2.23645329e-01,\n",
       "         -1.56442910e-01, -5.62790781e-02,  3.01411808e-01,\n",
       "          2.57391274e-01,  4.82380614e-02,  4.47334290e-01,\n",
       "         -1.31317660e-01, -2.19400808e-01,  2.69533068e-01,\n",
       "          2.84772068e-01, -7.48717366e-03,  4.72252876e-01,\n",
       "         -1.71227887e-01, -6.89558983e-02, -3.64892036e-01,\n",
       "          1.33411273e-01,  2.46163592e-01,  1.89632878e-01,\n",
       "          3.58285010e-01,  3.26223314e-01,  1.52576104e-01,\n",
       "          4.15154666e-01],\n",
       "        [ 1.77809060e-01,  1.05646504e-02,  2.24151865e-01,\n",
       "         -2.49947861e-01, -3.59289616e-01,  3.42572749e-01,\n",
       "          1.26455307e-01, -1.05276763e-01,  2.92683333e-01,\n",
       "          1.25901580e-01, -3.43330324e-01, -8.84515122e-02,\n",
       "         -2.94040553e-02,  1.39169917e-01,  3.42346579e-01,\n",
       "          2.04081565e-01, -1.85905963e-01, -1.47148401e-01,\n",
       "         -2.84236103e-01,  7.57310688e-02, -3.90112728e-01,\n",
       "          3.90825391e-01,  2.14641348e-01,  3.26184094e-01,\n",
       "         -3.83326635e-02,  2.63137281e-01, -2.64535576e-01,\n",
       "         -4.07464266e-01, -5.52798882e-02, -1.02130383e-01,\n",
       "          2.48587728e-01,  1.77154496e-01,  3.33464622e-01,\n",
       "          2.28440799e-02,  3.86965394e-01,  3.66040766e-01,\n",
       "         -2.19580397e-01,  3.31594646e-01,  2.10125685e-01,\n",
       "          2.61328876e-01],\n",
       "        [-2.26555616e-01, -1.21589303e-02,  2.55469561e-01,\n",
       "         -2.94232190e-01,  9.09503400e-02,  2.80970395e-01,\n",
       "         -1.59559742e-01, -2.96466231e-01, -2.65824795e-02,\n",
       "          1.32872283e-01,  2.99748480e-01,  1.47415757e-01,\n",
       "          3.04699838e-02,  1.18644744e-01,  1.92940414e-01,\n",
       "         -4.44700420e-02,  1.38778955e-01, -1.26136497e-01,\n",
       "         -7.45995343e-02, -9.25047249e-02, -2.65230030e-01,\n",
       "          1.49219632e-01, -2.41019100e-01, -9.66027975e-02,\n",
       "          3.36952507e-02,  1.53648347e-01,  2.27356613e-01,\n",
       "          2.06129432e-01,  2.82915056e-01, -1.51181608e-01,\n",
       "         -2.30164349e-01, -3.75054181e-02, -5.47748804e-03,\n",
       "          2.77353644e-01, -1.63301885e-01,  1.76215470e-02,\n",
       "         -9.34024453e-02, -3.18997979e-01, -1.44774988e-01,\n",
       "         -3.30015093e-01],\n",
       "        [-6.26493931e-01,  2.49890357e-01, -2.67018825e-01,\n",
       "         -1.04226299e-01, -1.53180346e-01,  3.65461200e-01,\n",
       "          2.63055652e-01,  2.18191445e-02,  6.42106473e-01,\n",
       "         -3.95110667e-01, -2.55219966e-01,  3.38725477e-01,\n",
       "         -2.85820693e-01,  1.25536740e-01, -4.16119695e-01,\n",
       "         -2.53182232e-01, -2.70382881e-01,  6.49926305e-01,\n",
       "         -1.33911431e-01, -1.41883954e-01, -3.24625343e-01,\n",
       "          7.46748820e-02,  2.49388710e-01,  2.86524236e-01,\n",
       "         -3.34451646e-01, -2.35159323e-02,  3.26427758e-01,\n",
       "          4.90971953e-02,  6.37381002e-02, -2.35018849e-01,\n",
       "         -6.89483657e-02, -4.31234986e-01,  7.10255653e-02,\n",
       "         -8.37408900e-02,  6.57945037e-01,  2.03673169e-02,\n",
       "          2.24457368e-01,  6.63120508e-01, -1.30751416e-01,\n",
       "          3.57521057e-01],\n",
       "        [ 1.72881171e-01, -2.04208791e-01,  1.29157051e-01,\n",
       "          1.91191643e-01,  5.67880392e-01, -6.35943532e-01,\n",
       "         -6.58126056e-01, -2.91630626e-01, -6.75625265e-01,\n",
       "          3.62120986e-01,  6.56137347e-01, -6.74804389e-01,\n",
       "          5.97852170e-01, -7.13348985e-01,  2.25642130e-01,\n",
       "          7.54255831e-01,  5.95477760e-01, -4.30579722e-01,\n",
       "          1.59911945e-01,  7.07502246e-01,  4.88939762e-01,\n",
       "         -2.13043451e-01, -2.39091560e-01, -3.14777195e-01,\n",
       "          4.09699082e-01,  7.30527639e-02, -7.86209181e-02,\n",
       "          1.27823234e-01,  5.40477991e-01,  1.11805364e-01,\n",
       "          2.36312285e-01,  3.44872832e-01, -1.94138158e-02,\n",
       "          5.59824646e-01, -4.13588881e-01, -3.23478997e-01,\n",
       "         -3.40567768e-01, -4.53139812e-01,  6.91875637e-01,\n",
       "         -2.16105551e-01],\n",
       "        [-4.85996716e-02,  1.65645272e-01,  1.60518855e-01,\n",
       "          1.53450876e-01, -2.31496483e-01, -8.13516006e-02,\n",
       "         -2.00504035e-01, -2.21471205e-01,  6.40335400e-03,\n",
       "          4.25822169e-01, -1.73891544e-01,  1.29259028e-03,\n",
       "          3.38737696e-01,  7.16344565e-02,  3.07534665e-01,\n",
       "          3.34483624e-01,  4.00604397e-01,  4.16741788e-01,\n",
       "         -4.42724437e-01, -2.70694923e-02, -2.89957047e-01,\n",
       "         -2.63409857e-02,  2.31978059e-01, -9.26961228e-02,\n",
       "          1.02383196e-01,  3.72170538e-01,  3.56655300e-01,\n",
       "         -3.79584759e-01, -2.19972327e-01, -5.03338695e-01,\n",
       "          1.20834336e-01, -1.39765456e-01, -5.62949002e-01,\n",
       "         -2.60585964e-01, -7.96214342e-02,  3.12792957e-01,\n",
       "          3.12687725e-01, -8.23490471e-02,  2.54716158e-01,\n",
       "          1.07859202e-01]], dtype=float32),\n",
       " array([ 0.13661388, -0.04686112, -0.05585488, -0.07486603,  0.18369374,\n",
       "         0.0177292 , -0.03835666, -0.02428046, -0.10935027,  0.24809216,\n",
       "         0.11908693, -0.08199055,  0.16233522, -0.12600693,  0.12806003,\n",
       "         0.15025061,  0.21642265, -0.05945312,  0.0515091 ,  0.20452914,\n",
       "         0.02314432, -0.10690529, -0.13869381, -0.11429062,  0.14176007,\n",
       "         0.17138396, -0.02955408, -0.00097692,  0.01628325,  0.16664405,\n",
       "         0.16108854,  0.14231205,  0.01373323,  0.18194973, -0.08429568,\n",
       "        -0.10664809, -0.19190721, -0.10601462,  0.13174953, -0.16404042],\n",
       "       dtype=float32),\n",
       " array([[ 0.10328466, -0.11784939],\n",
       "        [-0.15741181,  0.37990397],\n",
       "        [-0.2622805 ,  0.34408468],\n",
       "        [-0.30473888, -0.24622206],\n",
       "        [ 0.4911071 , -0.49067608],\n",
       "        [-0.23471884,  0.28181952],\n",
       "        [-0.2779681 ,  0.08623691],\n",
       "        [-0.3151578 ,  0.35083023],\n",
       "        [-0.62909675,  0.02802983],\n",
       "        [ 0.6086534 , -0.6469209 ],\n",
       "        [ 0.64484596, -0.06902609],\n",
       "        [-0.2633872 ,  0.44251788],\n",
       "        [ 0.22190587, -0.03916601],\n",
       "        [-0.39415225,  0.35767466],\n",
       "        [ 0.5741325 , -0.1536735 ],\n",
       "        [ 0.5746139 , -0.0892069 ],\n",
       "        [ 0.34397164, -0.6874444 ],\n",
       "        [-0.11324199,  0.6493892 ],\n",
       "        [ 0.49223617, -0.60575086],\n",
       "        [ 0.65538543, -0.1908184 ],\n",
       "        [ 0.2058077 , -0.6537368 ],\n",
       "        [-0.51348925,  0.06365863],\n",
       "        [-0.03830485,  0.38128826],\n",
       "        [-0.42052174,  0.06711055],\n",
       "        [ 0.18782157, -0.22843488],\n",
       "        [ 0.572186  , -0.7461385 ],\n",
       "        [-0.7037853 ,  0.323602  ],\n",
       "        [ 0.7534092 , -0.79578745],\n",
       "        [-0.48432708,  0.40144113],\n",
       "        [ 0.6621194 , -0.5260148 ],\n",
       "        [ 0.37172788, -0.42779428],\n",
       "        [ 0.24624768, -0.49893492],\n",
       "        [ 0.3573048 , -0.43704078],\n",
       "        [ 0.29266146, -0.25927815],\n",
       "        [-0.3556762 ,  0.19015   ],\n",
       "        [-0.51905984,  0.6280404 ],\n",
       "        [-0.35677677, -0.04981769],\n",
       "        [-0.12447785,  0.4484775 ],\n",
       "        [ 0.12137594, -0.11511279],\n",
       "        [-0.09348754,  0.25669137]], dtype=float32),\n",
       " array([ 0.13692419, -0.1369242 ], dtype=float32)]"
      ]
     },
     "execution_count": 42,
     "metadata": {},
     "output_type": "execute_result"
    }
   ],
   "source": [
    "models.get_weights()"
   ]
  },
  {
   "cell_type": "code",
   "execution_count": 44,
   "id": "87bec1d0",
   "metadata": {},
   "outputs": [
    {
     "name": "stdout",
     "output_type": "stream",
     "text": [
      "Epoch 1/50\n",
      "45/45 [==============================] - 0s 3ms/step - loss: 0.4294 - accuracy: 0.7865 - val_loss: 0.5956 - val_accuracy: 0.7041\n",
      "\n",
      "Epoch 00001: saving model to ./Hasil Model Diabetes\\cp-0001.hdf5\n",
      "Epoch 2/50\n",
      "45/45 [==============================] - 0s 2ms/step - loss: 0.4309 - accuracy: 0.7893 - val_loss: 0.5365 - val_accuracy: 0.7143\n",
      "\n",
      "Epoch 00002: saving model to ./Hasil Model Diabetes\\cp-0002.hdf5\n",
      "Epoch 3/50\n",
      "45/45 [==============================] - 0s 2ms/step - loss: 0.4322 - accuracy: 0.7935 - val_loss: 0.6074 - val_accuracy: 0.6939\n",
      "\n",
      "Epoch 00003: saving model to ./Hasil Model Diabetes\\cp-0003.hdf5\n",
      "Epoch 4/50\n",
      "45/45 [==============================] - 0s 2ms/step - loss: 0.4286 - accuracy: 0.7907 - val_loss: 0.4293 - val_accuracy: 0.7857\n",
      "\n",
      "Epoch 00004: saving model to ./Hasil Model Diabetes\\cp-0004.hdf5\n",
      "Epoch 5/50\n",
      "45/45 [==============================] - 0s 2ms/step - loss: 0.4259 - accuracy: 0.7865 - val_loss: 0.4474 - val_accuracy: 0.7755\n",
      "\n",
      "Epoch 00005: saving model to ./Hasil Model Diabetes\\cp-0005.hdf5\n",
      "Epoch 6/50\n",
      "45/45 [==============================] - 0s 2ms/step - loss: 0.4372 - accuracy: 0.7837 - val_loss: 0.5401 - val_accuracy: 0.7245\n",
      "\n",
      "Epoch 00006: saving model to ./Hasil Model Diabetes\\cp-0006.hdf5\n",
      "Epoch 7/50\n",
      "45/45 [==============================] - 0s 2ms/step - loss: 0.4268 - accuracy: 0.7963 - val_loss: 0.4458 - val_accuracy: 0.7857\n",
      "\n",
      "Epoch 00007: saving model to ./Hasil Model Diabetes\\cp-0007.hdf5\n",
      "Epoch 8/50\n",
      "45/45 [==============================] - 0s 2ms/step - loss: 0.4282 - accuracy: 0.7809 - val_loss: 0.4799 - val_accuracy: 0.7551\n",
      "\n",
      "Epoch 00008: saving model to ./Hasil Model Diabetes\\cp-0008.hdf5\n",
      "Epoch 9/50\n",
      "45/45 [==============================] - 0s 2ms/step - loss: 0.4313 - accuracy: 0.7978 - val_loss: 0.4886 - val_accuracy: 0.7449\n",
      "\n",
      "Epoch 00009: saving model to ./Hasil Model Diabetes\\cp-0009.hdf5\n",
      "Epoch 10/50\n",
      "45/45 [==============================] - 0s 2ms/step - loss: 0.4243 - accuracy: 0.7978 - val_loss: 0.4862 - val_accuracy: 0.7551\n",
      "\n",
      "Epoch 00010: saving model to ./Hasil Model Diabetes\\cp-0010.hdf5\n",
      "Epoch 11/50\n",
      "45/45 [==============================] - 0s 2ms/step - loss: 0.4254 - accuracy: 0.7935 - val_loss: 0.6536 - val_accuracy: 0.6837\n",
      "\n",
      "Epoch 00011: saving model to ./Hasil Model Diabetes\\cp-0011.hdf5\n",
      "Epoch 12/50\n",
      "45/45 [==============================] - 0s 2ms/step - loss: 0.4282 - accuracy: 0.7978 - val_loss: 0.5305 - val_accuracy: 0.7245\n",
      "\n",
      "Epoch 00012: saving model to ./Hasil Model Diabetes\\cp-0012.hdf5\n",
      "Epoch 13/50\n",
      "45/45 [==============================] - 0s 2ms/step - loss: 0.4241 - accuracy: 0.7935 - val_loss: 0.5532 - val_accuracy: 0.7143\n",
      "\n",
      "Epoch 00013: saving model to ./Hasil Model Diabetes\\cp-0013.hdf5\n",
      "Epoch 14/50\n",
      "45/45 [==============================] - 0s 2ms/step - loss: 0.4254 - accuracy: 0.7823 - val_loss: 0.4962 - val_accuracy: 0.7551\n",
      "\n",
      "Epoch 00014: saving model to ./Hasil Model Diabetes\\cp-0014.hdf5\n",
      "Epoch 15/50\n",
      "45/45 [==============================] - 0s 2ms/step - loss: 0.4292 - accuracy: 0.7893 - val_loss: 0.4475 - val_accuracy: 0.7755\n",
      "\n",
      "Epoch 00015: saving model to ./Hasil Model Diabetes\\cp-0015.hdf5\n",
      "Epoch 16/50\n",
      "45/45 [==============================] - 0s 2ms/step - loss: 0.4224 - accuracy: 0.7935 - val_loss: 0.5111 - val_accuracy: 0.7449\n",
      "\n",
      "Epoch 00016: saving model to ./Hasil Model Diabetes\\cp-0016.hdf5\n",
      "Epoch 17/50\n",
      "45/45 [==============================] - 0s 2ms/step - loss: 0.4250 - accuracy: 0.7935 - val_loss: 0.3892 - val_accuracy: 0.7959\n",
      "\n",
      "Epoch 00017: saving model to ./Hasil Model Diabetes\\cp-0017.hdf5\n",
      "Epoch 18/50\n",
      "45/45 [==============================] - 0s 2ms/step - loss: 0.4286 - accuracy: 0.7907 - val_loss: 0.4724 - val_accuracy: 0.7653\n",
      "\n",
      "Epoch 00018: saving model to ./Hasil Model Diabetes\\cp-0018.hdf5\n",
      "Epoch 19/50\n",
      "45/45 [==============================] - 0s 2ms/step - loss: 0.4216 - accuracy: 0.7963 - val_loss: 0.5875 - val_accuracy: 0.7041\n",
      "\n",
      "Epoch 00019: saving model to ./Hasil Model Diabetes\\cp-0019.hdf5\n",
      "Epoch 20/50\n",
      "45/45 [==============================] - 0s 3ms/step - loss: 0.4262 - accuracy: 0.7837 - val_loss: 0.5444 - val_accuracy: 0.7143\n",
      "\n",
      "Epoch 00020: saving model to ./Hasil Model Diabetes\\cp-0020.hdf5\n",
      "Epoch 21/50\n",
      "45/45 [==============================] - 0s 4ms/step - loss: 0.4206 - accuracy: 0.7978 - val_loss: 0.4900 - val_accuracy: 0.7653\n",
      "\n",
      "Epoch 00021: saving model to ./Hasil Model Diabetes\\cp-0021.hdf5\n",
      "Epoch 22/50\n",
      "45/45 [==============================] - 0s 3ms/step - loss: 0.4214 - accuracy: 0.7893 - val_loss: 0.4704 - val_accuracy: 0.7551\n",
      "\n",
      "Epoch 00022: saving model to ./Hasil Model Diabetes\\cp-0022.hdf5\n",
      "Epoch 23/50\n",
      "45/45 [==============================] - 0s 3ms/step - loss: 0.4188 - accuracy: 0.7921 - val_loss: 0.3752 - val_accuracy: 0.8265\n",
      "\n",
      "Epoch 00023: saving model to ./Hasil Model Diabetes\\cp-0023.hdf5\n",
      "Epoch 24/50\n",
      "45/45 [==============================] - 0s 3ms/step - loss: 0.4239 - accuracy: 0.7949 - val_loss: 0.4100 - val_accuracy: 0.7857\n",
      "\n",
      "Epoch 00024: saving model to ./Hasil Model Diabetes\\cp-0024.hdf5\n",
      "Epoch 25/50\n",
      "45/45 [==============================] - 0s 3ms/step - loss: 0.4238 - accuracy: 0.7921 - val_loss: 0.4117 - val_accuracy: 0.7857\n",
      "\n",
      "Epoch 00025: saving model to ./Hasil Model Diabetes\\cp-0025.hdf5\n",
      "Epoch 26/50\n",
      "45/45 [==============================] - 0s 3ms/step - loss: 0.4245 - accuracy: 0.7935 - val_loss: 0.3741 - val_accuracy: 0.7959\n",
      "\n",
      "Epoch 00026: saving model to ./Hasil Model Diabetes\\cp-0026.hdf5\n",
      "Epoch 27/50\n",
      "45/45 [==============================] - 0s 3ms/step - loss: 0.4195 - accuracy: 0.7837 - val_loss: 0.3938 - val_accuracy: 0.8061\n",
      "\n",
      "Epoch 00027: saving model to ./Hasil Model Diabetes\\cp-0027.hdf5\n",
      "Epoch 28/50\n",
      "45/45 [==============================] - 0s 3ms/step - loss: 0.4224 - accuracy: 0.7907 - val_loss: 0.4245 - val_accuracy: 0.7959\n",
      "\n",
      "Epoch 00028: saving model to ./Hasil Model Diabetes\\cp-0028.hdf5\n",
      "Epoch 29/50\n",
      "45/45 [==============================] - 0s 3ms/step - loss: 0.4202 - accuracy: 0.7963 - val_loss: 0.4586 - val_accuracy: 0.7653\n",
      "\n",
      "Epoch 00029: saving model to ./Hasil Model Diabetes\\cp-0029.hdf5\n",
      "Epoch 30/50\n",
      "45/45 [==============================] - 0s 3ms/step - loss: 0.4182 - accuracy: 0.7921 - val_loss: 0.5919 - val_accuracy: 0.7041\n",
      "\n",
      "Epoch 00030: saving model to ./Hasil Model Diabetes\\cp-0030.hdf5\n",
      "Epoch 31/50\n",
      "45/45 [==============================] - 0s 2ms/step - loss: 0.4251 - accuracy: 0.7823 - val_loss: 0.5337 - val_accuracy: 0.7245\n",
      "\n",
      "Epoch 00031: saving model to ./Hasil Model Diabetes\\cp-0031.hdf5\n",
      "Epoch 32/50\n",
      "45/45 [==============================] - 0s 2ms/step - loss: 0.4184 - accuracy: 0.7992 - val_loss: 0.4862 - val_accuracy: 0.7551\n",
      "\n",
      "Epoch 00032: saving model to ./Hasil Model Diabetes\\cp-0032.hdf5\n",
      "Epoch 33/50\n",
      "45/45 [==============================] - 0s 2ms/step - loss: 0.4153 - accuracy: 0.7978 - val_loss: 0.4807 - val_accuracy: 0.7653\n",
      "\n",
      "Epoch 00033: saving model to ./Hasil Model Diabetes\\cp-0033.hdf5\n",
      "Epoch 34/50\n",
      "45/45 [==============================] - 0s 2ms/step - loss: 0.4184 - accuracy: 0.7963 - val_loss: 0.4372 - val_accuracy: 0.7857\n",
      "\n",
      "Epoch 00034: saving model to ./Hasil Model Diabetes\\cp-0034.hdf5\n",
      "Epoch 35/50\n",
      "45/45 [==============================] - 0s 2ms/step - loss: 0.4223 - accuracy: 0.7879 - val_loss: 0.5776 - val_accuracy: 0.7143\n",
      "\n",
      "Epoch 00035: saving model to ./Hasil Model Diabetes\\cp-0035.hdf5\n",
      "Epoch 36/50\n",
      "45/45 [==============================] - 0s 2ms/step - loss: 0.4189 - accuracy: 0.8034 - val_loss: 0.5411 - val_accuracy: 0.7143\n",
      "\n",
      "Epoch 00036: saving model to ./Hasil Model Diabetes\\cp-0036.hdf5\n",
      "Epoch 37/50\n",
      "45/45 [==============================] - 0s 2ms/step - loss: 0.4260 - accuracy: 0.7865 - val_loss: 0.5246 - val_accuracy: 0.7245\n",
      "\n",
      "Epoch 00037: saving model to ./Hasil Model Diabetes\\cp-0037.hdf5\n",
      "Epoch 38/50\n",
      "45/45 [==============================] - 0s 2ms/step - loss: 0.4130 - accuracy: 0.8006 - val_loss: 0.3707 - val_accuracy: 0.8265\n",
      "\n",
      "Epoch 00038: saving model to ./Hasil Model Diabetes\\cp-0038.hdf5\n",
      "Epoch 39/50\n",
      "45/45 [==============================] - 0s 2ms/step - loss: 0.4183 - accuracy: 0.7879 - val_loss: 0.5057 - val_accuracy: 0.7449\n",
      "\n",
      "Epoch 00039: saving model to ./Hasil Model Diabetes\\cp-0039.hdf5\n",
      "Epoch 40/50\n",
      "45/45 [==============================] - 0s 2ms/step - loss: 0.4133 - accuracy: 0.8034 - val_loss: 0.3775 - val_accuracy: 0.8163\n"
     ]
    },
    {
     "name": "stdout",
     "output_type": "stream",
     "text": [
      "\n",
      "Epoch 00040: saving model to ./Hasil Model Diabetes\\cp-0040.hdf5\n",
      "Epoch 41/50\n",
      "45/45 [==============================] - 0s 2ms/step - loss: 0.4172 - accuracy: 0.8048 - val_loss: 0.4778 - val_accuracy: 0.7551\n",
      "\n",
      "Epoch 00041: saving model to ./Hasil Model Diabetes\\cp-0041.hdf5\n",
      "Epoch 42/50\n",
      "45/45 [==============================] - 0s 2ms/step - loss: 0.4150 - accuracy: 0.8020 - val_loss: 0.3810 - val_accuracy: 0.8265\n",
      "\n",
      "Epoch 00042: saving model to ./Hasil Model Diabetes\\cp-0042.hdf5\n",
      "Epoch 43/50\n",
      "45/45 [==============================] - 0s 2ms/step - loss: 0.4141 - accuracy: 0.8020 - val_loss: 0.4178 - val_accuracy: 0.8061\n",
      "\n",
      "Epoch 00043: saving model to ./Hasil Model Diabetes\\cp-0043.hdf5\n",
      "Epoch 44/50\n",
      "45/45 [==============================] - 0s 2ms/step - loss: 0.4147 - accuracy: 0.7963 - val_loss: 0.5137 - val_accuracy: 0.7449\n",
      "\n",
      "Epoch 00044: saving model to ./Hasil Model Diabetes\\cp-0044.hdf5\n",
      "Epoch 45/50\n",
      "45/45 [==============================] - 0s 2ms/step - loss: 0.4137 - accuracy: 0.7865 - val_loss: 0.4751 - val_accuracy: 0.7653\n",
      "\n",
      "Epoch 00045: saving model to ./Hasil Model Diabetes\\cp-0045.hdf5\n",
      "Epoch 46/50\n",
      "45/45 [==============================] - 0s 2ms/step - loss: 0.4176 - accuracy: 0.7921 - val_loss: 0.3728 - val_accuracy: 0.8265\n",
      "\n",
      "Epoch 00046: saving model to ./Hasil Model Diabetes\\cp-0046.hdf5\n",
      "Epoch 47/50\n",
      "45/45 [==============================] - 0s 2ms/step - loss: 0.4136 - accuracy: 0.7907 - val_loss: 0.5368 - val_accuracy: 0.7143\n",
      "\n",
      "Epoch 00047: saving model to ./Hasil Model Diabetes\\cp-0047.hdf5\n",
      "Epoch 48/50\n",
      "45/45 [==============================] - 0s 2ms/step - loss: 0.4109 - accuracy: 0.7865 - val_loss: 0.3939 - val_accuracy: 0.8163\n",
      "\n",
      "Epoch 00048: saving model to ./Hasil Model Diabetes\\cp-0048.hdf5\n",
      "Epoch 49/50\n",
      "45/45 [==============================] - 0s 2ms/step - loss: 0.4127 - accuracy: 0.7893 - val_loss: 0.4096 - val_accuracy: 0.8061\n",
      "\n",
      "Epoch 00049: saving model to ./Hasil Model Diabetes\\cp-0049.hdf5\n",
      "Epoch 50/50\n",
      "45/45 [==============================] - 0s 2ms/step - loss: 0.4180 - accuracy: 0.7921 - val_loss: 0.4385 - val_accuracy: 0.7857\n",
      "\n",
      "Epoch 00050: saving model to ./Hasil Model Diabetes\\cp-0050.hdf5\n"
     ]
    }
   ],
   "source": [
    "history = models.fit(X_res_train,y_res, validation_split=0.12, epochs = 50, batch_size = 16, verbose=1, callbacks=[cp_callback])"
   ]
  },
  {
   "cell_type": "code",
   "execution_count": 45,
   "id": "b1852fd3",
   "metadata": {},
   "outputs": [],
   "source": [
    "models.load_weights('./Hasil Model Diabetes/cp-0049.hdf5')"
   ]
  },
  {
   "cell_type": "code",
   "execution_count": 46,
   "id": "57002a47",
   "metadata": {},
   "outputs": [
    {
     "name": "stdout",
     "output_type": "stream",
     "text": [
      "26/26 [==============================] - 0s 2ms/step - loss: 0.4081 - accuracy: 0.8025\n",
      "loss train: 0.40813761949539185\n",
      "acc train: 0.8024691343307495\n"
     ]
    }
   ],
   "source": [
    "loss, acc = model.evaluate(X_res_train,y_res)\n",
    "print(f'loss train: {loss}')\n",
    "print(f'acc train: {acc}')"
   ]
  },
  {
   "cell_type": "code",
   "execution_count": 47,
   "id": "e465c358",
   "metadata": {},
   "outputs": [
    {
     "name": "stdout",
     "output_type": "stream",
     "text": [
      "5/5 [==============================] - 0s 3ms/step - loss: 0.4979 - accuracy: 0.7727\n",
      "loss test: 0.49788516759872437\n",
      "acc test: 0.7727272510528564\n"
     ]
    }
   ],
   "source": [
    "loss, acc = model.evaluate(X_test,y_test)\n",
    "print(f'loss test: {loss}')\n",
    "print(f'acc test: {acc}')"
   ]
  },
  {
   "cell_type": "code",
   "execution_count": null,
   "id": "81c852de",
   "metadata": {},
   "outputs": [],
   "source": []
  }
 ],
 "metadata": {
  "kernelspec": {
   "display_name": "Python 3 (ipykernel)",
   "language": "python",
   "name": "python3"
  },
  "language_info": {
   "codemirror_mode": {
    "name": "ipython",
    "version": 3
   },
   "file_extension": ".py",
   "mimetype": "text/x-python",
   "name": "python",
   "nbconvert_exporter": "python",
   "pygments_lexer": "ipython3",
   "version": "3.9.7"
  }
 },
 "nbformat": 4,
 "nbformat_minor": 5
}
