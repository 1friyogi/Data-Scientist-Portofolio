{
 "cells": [
  {
   "cell_type": "code",
   "execution_count": 1,
   "metadata": {
    "id": "QN40paIHZf2O"
   },
   "outputs": [],
   "source": [
    "import tweepy\n",
    "import datetime"
   ]
  },
  {
   "cell_type": "code",
   "execution_count": 2,
   "metadata": {
    "id": "YpFy9GmzZpr9"
   },
   "outputs": [],
   "source": [
    "auth = tweepy.OAuthHandler('q9jYGFI2HqZioiubuKxQ9bFAJ','X2eISosnZV70TOpsSPxfpvt2gULC7jOGPxRPSLrJfHPwQpaqqh')\n",
    "auth.set_access_token('3237675992-x3FomVAVpa2zJQzy0lAJABHDjxCUeCH9qnfNuIk','5lonPdQ1PPNk4Tqke9qQDsHdcyOv4aiB5EEfz8VBdrGQo')"
   ]
  },
  {
   "cell_type": "code",
   "execution_count": 3,
   "metadata": {
    "id": "H92LwFPzZu05"
   },
   "outputs": [],
   "source": [
    "api = tweepy.API(auth,wait_on_rate_limit=True)"
   ]
  },
  {
   "cell_type": "code",
   "execution_count": 4,
   "metadata": {
    "colab": {
     "base_uri": "https://localhost:8080/"
    },
    "id": "TpH2md6HZxa_",
    "outputId": "312fb862-3625-4adc-d04c-396cdb14ede3"
   },
   "outputs": [
    {
     "data": {
      "text/plain": [
       "datetime.date(2021, 9, 30)"
      ]
     },
     "execution_count": 4,
     "metadata": {},
     "output_type": "execute_result"
    }
   ],
   "source": [
    "today = datetime.date.today()\n",
    "today"
   ]
  },
  {
   "cell_type": "code",
   "execution_count": 5,
   "metadata": {
    "colab": {
     "base_uri": "https://localhost:8080/"
    },
    "id": "SPpvctMmZxrp",
    "outputId": "f47c3db9-7aea-45ce-f6a6-a33c334cbfb1"
   },
   "outputs": [
    {
     "data": {
      "text/plain": [
       "datetime.date(2021, 9, 29)"
      ]
     },
     "execution_count": 5,
     "metadata": {},
     "output_type": "execute_result"
    }
   ],
   "source": [
    "yesterday = today - datetime.timedelta(days=1)\n",
    "yesterday"
   ]
  },
  {
   "cell_type": "code",
   "execution_count": 6,
   "metadata": {
    "id": "7FseRT2TZx2w"
   },
   "outputs": [],
   "source": [
    "tweet_list = tweepy.Cursor(api.search, q = \"#MyUniverse since:\" + str(yesterday) + \" until:\" + str(today),tweet_mode=\"extended\",lang=\"id\").items(100)"
   ]
  },
  {
   "cell_type": "code",
   "execution_count": 7,
   "metadata": {
    "id": "X1QBkcSHZ3F1"
   },
   "outputs": [],
   "source": [
    "output = []\n",
    "for tweet in tweet_list:\n",
    "    hasil = tweet._json\n",
    "    output.append(hasil)"
   ]
  },
  {
   "cell_type": "code",
   "execution_count": 14,
   "metadata": {
    "colab": {
     "base_uri": "https://localhost:8080/"
    },
    "id": "QI-eJ53TZ3BU",
    "outputId": "ee3d45d0-077e-44b2-f7d3-c4565c17ab14"
   },
   "outputs": [
    {
     "data": {
      "text/plain": [
       "{'contributors': None,\n",
       " 'coordinates': None,\n",
       " 'created_at': 'Wed Sep 29 23:59:57 +0000 2021',\n",
       " 'display_text_range': [0, 114],\n",
       " 'entities': {'hashtags': [{'indices': [64, 75], 'text': 'MyUniverse'},\n",
       "   {'indices': [76, 100], 'text': 'MyUniverse_ColdplayxBTS'},\n",
       "   {'indices': [101, 114], 'text': 'ColdplayXBTS'}],\n",
       "  'media': [{'display_url': 'pic.twitter.com/9ssndkiekg',\n",
       "    'expanded_url': 'https://twitter.com/LifeGoe55961432/status/1443364959702831104/photo/1',\n",
       "    'id': 1443364943588315137,\n",
       "    'id_str': '1443364943588315137',\n",
       "    'indices': [115, 138],\n",
       "    'media_url': 'http://pbs.twimg.com/media/FAfcxNfVUAETgSf.jpg',\n",
       "    'media_url_https': 'https://pbs.twimg.com/media/FAfcxNfVUAETgSf.jpg',\n",
       "    'sizes': {'large': {'h': 794, 'resize': 'fit', 'w': 720},\n",
       "     'medium': {'h': 794, 'resize': 'fit', 'w': 720},\n",
       "     'small': {'h': 680, 'resize': 'fit', 'w': 617},\n",
       "     'thumb': {'h': 150, 'resize': 'crop', 'w': 150}},\n",
       "    'type': 'photo',\n",
       "    'url': 'https://t.co/9ssndkiekg'}],\n",
       "  'symbols': [],\n",
       "  'urls': [],\n",
       "  'user_mentions': []},\n",
       " 'extended_entities': {'media': [{'display_url': 'pic.twitter.com/9ssndkiekg',\n",
       "    'expanded_url': 'https://twitter.com/LifeGoe55961432/status/1443364959702831104/photo/1',\n",
       "    'id': 1443364943588315137,\n",
       "    'id_str': '1443364943588315137',\n",
       "    'indices': [115, 138],\n",
       "    'media_url': 'http://pbs.twimg.com/media/FAfcxNfVUAETgSf.jpg',\n",
       "    'media_url_https': 'https://pbs.twimg.com/media/FAfcxNfVUAETgSf.jpg',\n",
       "    'sizes': {'large': {'h': 794, 'resize': 'fit', 'w': 720},\n",
       "     'medium': {'h': 794, 'resize': 'fit', 'w': 720},\n",
       "     'small': {'h': 680, 'resize': 'fit', 'w': 617},\n",
       "     'thumb': {'h': 150, 'resize': 'crop', 'w': 150}},\n",
       "    'type': 'photo',\n",
       "    'url': 'https://t.co/9ssndkiekg'}]},\n",
       " 'favorite_count': 0,\n",
       " 'favorited': False,\n",
       " 'full_text': 'Jantung masih aman???😭💜\\nMV nya bakal keren banget pasti aaaaa💜 \\n#MyUniverse #MyUniverse_ColdplayxBTS #ColdplayXBTS https://t.co/9ssndkiekg',\n",
       " 'geo': None,\n",
       " 'id': 1443364959702831104,\n",
       " 'id_str': '1443364959702831104',\n",
       " 'in_reply_to_screen_name': None,\n",
       " 'in_reply_to_status_id': None,\n",
       " 'in_reply_to_status_id_str': None,\n",
       " 'in_reply_to_user_id': None,\n",
       " 'in_reply_to_user_id_str': None,\n",
       " 'is_quote_status': False,\n",
       " 'lang': 'in',\n",
       " 'metadata': {'iso_language_code': 'in', 'result_type': 'recent'},\n",
       " 'place': None,\n",
       " 'possibly_sensitive': False,\n",
       " 'retweet_count': 0,\n",
       " 'retweeted': False,\n",
       " 'source': '<a href=\"http://twitter.com/download/android\" rel=\"nofollow\">Twitter for Android</a>',\n",
       " 'truncated': False,\n",
       " 'user': {'contributors_enabled': False,\n",
       "  'created_at': 'Mon Sep 13 10:06:01 +0000 2021',\n",
       "  'default_profile': True,\n",
       "  'default_profile_image': False,\n",
       "  'description': 'Love myself 🌈\\n#kpop',\n",
       "  'entities': {'description': {'urls': []}},\n",
       "  'favourites_count': 248,\n",
       "  'follow_request_sent': False,\n",
       "  'followers_count': 0,\n",
       "  'following': False,\n",
       "  'friends_count': 50,\n",
       "  'geo_enabled': False,\n",
       "  'has_extended_profile': True,\n",
       "  'id': 1437356738588516356,\n",
       "  'id_str': '1437356738588516356',\n",
       "  'is_translation_enabled': False,\n",
       "  'is_translator': False,\n",
       "  'lang': None,\n",
       "  'listed_count': 0,\n",
       "  'location': '',\n",
       "  'name': 'Tata_💜',\n",
       "  'notifications': False,\n",
       "  'profile_background_color': 'F5F8FA',\n",
       "  'profile_background_image_url': None,\n",
       "  'profile_background_image_url_https': None,\n",
       "  'profile_background_tile': False,\n",
       "  'profile_banner_url': 'https://pbs.twimg.com/profile_banners/1437356738588516356/1631598415',\n",
       "  'profile_image_url': 'http://pbs.twimg.com/profile_images/1443435692923625474/v_4I9md8_normal.jpg',\n",
       "  'profile_image_url_https': 'https://pbs.twimg.com/profile_images/1443435692923625474/v_4I9md8_normal.jpg',\n",
       "  'profile_link_color': '1DA1F2',\n",
       "  'profile_sidebar_border_color': 'C0DEED',\n",
       "  'profile_sidebar_fill_color': 'DDEEF6',\n",
       "  'profile_text_color': '333333',\n",
       "  'profile_use_background_image': True,\n",
       "  'protected': False,\n",
       "  'screen_name': 'LifeGoe55961432',\n",
       "  'statuses_count': 121,\n",
       "  'time_zone': None,\n",
       "  'translator_type': 'none',\n",
       "  'url': None,\n",
       "  'utc_offset': None,\n",
       "  'verified': False,\n",
       "  'withheld_in_countries': []}}"
      ]
     },
     "execution_count": 14,
     "metadata": {},
     "output_type": "execute_result"
    }
   ],
   "source": [
    "output[0]"
   ]
  },
  {
   "cell_type": "code",
   "execution_count": 15,
   "metadata": {
    "colab": {
     "base_uri": "https://localhost:8080/",
     "height": 36
    },
    "id": "u95Ashe1Z29g",
    "outputId": "06d6b923-86c9-4e2c-e24f-6a25598975be"
   },
   "outputs": [
    {
     "data": {
      "application/vnd.google.colaboratory.intrinsic+json": {
       "type": "string"
      },
      "text/plain": [
       "'Jantung masih aman???😭💜\\nMV nya bakal keren banget pasti aaaaa💜 \\n#MyUniverse #MyUniverse_ColdplayxBTS #ColdplayXBTS https://t.co/9ssndkiekg'"
      ]
     },
     "execution_count": 15,
     "metadata": {},
     "output_type": "execute_result"
    }
   ],
   "source": [
    "output[0]['full_text']"
   ]
  },
  {
   "cell_type": "code",
   "execution_count": null,
   "metadata": {
    "id": "aFLb93-JZ20T"
   },
   "outputs": [],
   "source": []
  }
 ],
 "metadata": {
  "colab": {
   "collapsed_sections": [],
   "name": "Crawling_Data_Twitter.ipynb",
   "provenance": []
  },
  "kernelspec": {
   "display_name": "Python 3 (ipykernel)",
   "language": "python",
   "name": "python3"
  },
  "language_info": {
   "codemirror_mode": {
    "name": "ipython",
    "version": 3
   },
   "file_extension": ".py",
   "mimetype": "text/x-python",
   "name": "python",
   "nbconvert_exporter": "python",
   "pygments_lexer": "ipython3",
   "version": "3.9.7"
  }
 },
 "nbformat": 4,
 "nbformat_minor": 1
}
