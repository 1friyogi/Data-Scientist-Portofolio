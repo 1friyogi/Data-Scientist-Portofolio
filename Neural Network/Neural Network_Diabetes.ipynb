{
 "cells": [
  {
   "cell_type": "markdown",
   "id": "0ea3c3ac",
   "metadata": {},
   "source": [
    "# Import Library"
   ]
  },
  {
   "cell_type": "code",
   "execution_count": 1,
   "id": "49becf00",
   "metadata": {},
   "outputs": [],
   "source": [
    "import pandas as pd\n",
    "import numpy as np\n",
    "import matplotlib.pyplot as plt\n",
    "import seaborn as sns"
   ]
  },
  {
   "cell_type": "markdown",
   "id": "cb02ffc0",
   "metadata": {},
   "source": [
    "# Load the Dataset"
   ]
  },
  {
   "cell_type": "code",
   "execution_count": 2,
   "id": "02ec2bfe",
   "metadata": {},
   "outputs": [
    {
     "data": {
      "text/html": [
       "<div>\n",
       "<style scoped>\n",
       "    .dataframe tbody tr th:only-of-type {\n",
       "        vertical-align: middle;\n",
       "    }\n",
       "\n",
       "    .dataframe tbody tr th {\n",
       "        vertical-align: top;\n",
       "    }\n",
       "\n",
       "    .dataframe thead th {\n",
       "        text-align: right;\n",
       "    }\n",
       "</style>\n",
       "<table border=\"1\" class=\"dataframe\">\n",
       "  <thead>\n",
       "    <tr style=\"text-align: right;\">\n",
       "      <th></th>\n",
       "      <th>Pregnancies</th>\n",
       "      <th>Glucose</th>\n",
       "      <th>BloodPressure</th>\n",
       "      <th>SkinThickness</th>\n",
       "      <th>Insulin</th>\n",
       "      <th>BMI</th>\n",
       "      <th>DiabetesPedigreeFunction</th>\n",
       "      <th>Age</th>\n",
       "      <th>Outcome</th>\n",
       "    </tr>\n",
       "  </thead>\n",
       "  <tbody>\n",
       "    <tr>\n",
       "      <th>0</th>\n",
       "      <td>6</td>\n",
       "      <td>148</td>\n",
       "      <td>72</td>\n",
       "      <td>35</td>\n",
       "      <td>0</td>\n",
       "      <td>33.6</td>\n",
       "      <td>0.627</td>\n",
       "      <td>50</td>\n",
       "      <td>1</td>\n",
       "    </tr>\n",
       "    <tr>\n",
       "      <th>1</th>\n",
       "      <td>1</td>\n",
       "      <td>85</td>\n",
       "      <td>66</td>\n",
       "      <td>29</td>\n",
       "      <td>0</td>\n",
       "      <td>26.6</td>\n",
       "      <td>0.351</td>\n",
       "      <td>31</td>\n",
       "      <td>0</td>\n",
       "    </tr>\n",
       "    <tr>\n",
       "      <th>2</th>\n",
       "      <td>8</td>\n",
       "      <td>183</td>\n",
       "      <td>64</td>\n",
       "      <td>0</td>\n",
       "      <td>0</td>\n",
       "      <td>23.3</td>\n",
       "      <td>0.672</td>\n",
       "      <td>32</td>\n",
       "      <td>1</td>\n",
       "    </tr>\n",
       "    <tr>\n",
       "      <th>3</th>\n",
       "      <td>1</td>\n",
       "      <td>89</td>\n",
       "      <td>66</td>\n",
       "      <td>23</td>\n",
       "      <td>94</td>\n",
       "      <td>28.1</td>\n",
       "      <td>0.167</td>\n",
       "      <td>21</td>\n",
       "      <td>0</td>\n",
       "    </tr>\n",
       "    <tr>\n",
       "      <th>4</th>\n",
       "      <td>0</td>\n",
       "      <td>137</td>\n",
       "      <td>40</td>\n",
       "      <td>35</td>\n",
       "      <td>168</td>\n",
       "      <td>43.1</td>\n",
       "      <td>2.288</td>\n",
       "      <td>33</td>\n",
       "      <td>1</td>\n",
       "    </tr>\n",
       "    <tr>\n",
       "      <th>...</th>\n",
       "      <td>...</td>\n",
       "      <td>...</td>\n",
       "      <td>...</td>\n",
       "      <td>...</td>\n",
       "      <td>...</td>\n",
       "      <td>...</td>\n",
       "      <td>...</td>\n",
       "      <td>...</td>\n",
       "      <td>...</td>\n",
       "    </tr>\n",
       "    <tr>\n",
       "      <th>763</th>\n",
       "      <td>10</td>\n",
       "      <td>101</td>\n",
       "      <td>76</td>\n",
       "      <td>48</td>\n",
       "      <td>180</td>\n",
       "      <td>32.9</td>\n",
       "      <td>0.171</td>\n",
       "      <td>63</td>\n",
       "      <td>0</td>\n",
       "    </tr>\n",
       "    <tr>\n",
       "      <th>764</th>\n",
       "      <td>2</td>\n",
       "      <td>122</td>\n",
       "      <td>70</td>\n",
       "      <td>27</td>\n",
       "      <td>0</td>\n",
       "      <td>36.8</td>\n",
       "      <td>0.340</td>\n",
       "      <td>27</td>\n",
       "      <td>0</td>\n",
       "    </tr>\n",
       "    <tr>\n",
       "      <th>765</th>\n",
       "      <td>5</td>\n",
       "      <td>121</td>\n",
       "      <td>72</td>\n",
       "      <td>23</td>\n",
       "      <td>112</td>\n",
       "      <td>26.2</td>\n",
       "      <td>0.245</td>\n",
       "      <td>30</td>\n",
       "      <td>0</td>\n",
       "    </tr>\n",
       "    <tr>\n",
       "      <th>766</th>\n",
       "      <td>1</td>\n",
       "      <td>126</td>\n",
       "      <td>60</td>\n",
       "      <td>0</td>\n",
       "      <td>0</td>\n",
       "      <td>30.1</td>\n",
       "      <td>0.349</td>\n",
       "      <td>47</td>\n",
       "      <td>1</td>\n",
       "    </tr>\n",
       "    <tr>\n",
       "      <th>767</th>\n",
       "      <td>1</td>\n",
       "      <td>93</td>\n",
       "      <td>70</td>\n",
       "      <td>31</td>\n",
       "      <td>0</td>\n",
       "      <td>30.4</td>\n",
       "      <td>0.315</td>\n",
       "      <td>23</td>\n",
       "      <td>0</td>\n",
       "    </tr>\n",
       "  </tbody>\n",
       "</table>\n",
       "<p>768 rows × 9 columns</p>\n",
       "</div>"
      ],
      "text/plain": [
       "     Pregnancies  Glucose  BloodPressure  SkinThickness  Insulin   BMI  \\\n",
       "0              6      148             72             35        0  33.6   \n",
       "1              1       85             66             29        0  26.6   \n",
       "2              8      183             64              0        0  23.3   \n",
       "3              1       89             66             23       94  28.1   \n",
       "4              0      137             40             35      168  43.1   \n",
       "..           ...      ...            ...            ...      ...   ...   \n",
       "763           10      101             76             48      180  32.9   \n",
       "764            2      122             70             27        0  36.8   \n",
       "765            5      121             72             23      112  26.2   \n",
       "766            1      126             60              0        0  30.1   \n",
       "767            1       93             70             31        0  30.4   \n",
       "\n",
       "     DiabetesPedigreeFunction  Age  Outcome  \n",
       "0                       0.627   50        1  \n",
       "1                       0.351   31        0  \n",
       "2                       0.672   32        1  \n",
       "3                       0.167   21        0  \n",
       "4                       2.288   33        1  \n",
       "..                        ...  ...      ...  \n",
       "763                     0.171   63        0  \n",
       "764                     0.340   27        0  \n",
       "765                     0.245   30        0  \n",
       "766                     0.349   47        1  \n",
       "767                     0.315   23        0  \n",
       "\n",
       "[768 rows x 9 columns]"
      ]
     },
     "execution_count": 2,
     "metadata": {},
     "output_type": "execute_result"
    }
   ],
   "source": [
    "data = pd.read_csv('diabetes.csv')\n",
    "data"
   ]
  },
  {
   "cell_type": "code",
   "execution_count": 3,
   "id": "366b5dc2",
   "metadata": {},
   "outputs": [
    {
     "name": "stdout",
     "output_type": "stream",
     "text": [
      "<class 'pandas.core.frame.DataFrame'>\n",
      "RangeIndex: 768 entries, 0 to 767\n",
      "Data columns (total 9 columns):\n",
      " #   Column                    Non-Null Count  Dtype  \n",
      "---  ------                    --------------  -----  \n",
      " 0   Pregnancies               768 non-null    int64  \n",
      " 1   Glucose                   768 non-null    int64  \n",
      " 2   BloodPressure             768 non-null    int64  \n",
      " 3   SkinThickness             768 non-null    int64  \n",
      " 4   Insulin                   768 non-null    int64  \n",
      " 5   BMI                       768 non-null    float64\n",
      " 6   DiabetesPedigreeFunction  768 non-null    float64\n",
      " 7   Age                       768 non-null    int64  \n",
      " 8   Outcome                   768 non-null    int64  \n",
      "dtypes: float64(2), int64(7)\n",
      "memory usage: 54.1 KB\n"
     ]
    }
   ],
   "source": [
    "data.info()"
   ]
  },
  {
   "cell_type": "code",
   "execution_count": 5,
   "id": "5c057bbb",
   "metadata": {},
   "outputs": [
    {
     "data": {
      "text/plain": [
       "Pregnancies                 0\n",
       "Glucose                     0\n",
       "BloodPressure               0\n",
       "SkinThickness               0\n",
       "Insulin                     0\n",
       "BMI                         0\n",
       "DiabetesPedigreeFunction    0\n",
       "Age                         0\n",
       "Outcome                     0\n",
       "dtype: int64"
      ]
     },
     "execution_count": 5,
     "metadata": {},
     "output_type": "execute_result"
    }
   ],
   "source": [
    "data.isnull().sum()"
   ]
  },
  {
   "cell_type": "code",
   "execution_count": 9,
   "id": "1617b052",
   "metadata": {},
   "outputs": [
    {
     "data": {
      "text/html": [
       "<div>\n",
       "<style scoped>\n",
       "    .dataframe tbody tr th:only-of-type {\n",
       "        vertical-align: middle;\n",
       "    }\n",
       "\n",
       "    .dataframe tbody tr th {\n",
       "        vertical-align: top;\n",
       "    }\n",
       "\n",
       "    .dataframe thead th {\n",
       "        text-align: right;\n",
       "    }\n",
       "</style>\n",
       "<table border=\"1\" class=\"dataframe\">\n",
       "  <thead>\n",
       "    <tr style=\"text-align: right;\">\n",
       "      <th></th>\n",
       "      <th>Pregnancies</th>\n",
       "      <th>Glucose</th>\n",
       "      <th>BloodPressure</th>\n",
       "      <th>SkinThickness</th>\n",
       "      <th>Insulin</th>\n",
       "      <th>BMI</th>\n",
       "      <th>DiabetesPedigreeFunction</th>\n",
       "      <th>Age</th>\n",
       "      <th>Outcome</th>\n",
       "    </tr>\n",
       "  </thead>\n",
       "  <tbody>\n",
       "    <tr>\n",
       "      <th>0</th>\n",
       "      <td>6</td>\n",
       "      <td>148</td>\n",
       "      <td>72</td>\n",
       "      <td>35</td>\n",
       "      <td>0</td>\n",
       "      <td>33.6</td>\n",
       "      <td>0.627</td>\n",
       "      <td>50</td>\n",
       "      <td>1</td>\n",
       "    </tr>\n",
       "    <tr>\n",
       "      <th>1</th>\n",
       "      <td>1</td>\n",
       "      <td>85</td>\n",
       "      <td>66</td>\n",
       "      <td>29</td>\n",
       "      <td>0</td>\n",
       "      <td>26.6</td>\n",
       "      <td>0.351</td>\n",
       "      <td>31</td>\n",
       "      <td>0</td>\n",
       "    </tr>\n",
       "    <tr>\n",
       "      <th>2</th>\n",
       "      <td>8</td>\n",
       "      <td>183</td>\n",
       "      <td>64</td>\n",
       "      <td>0</td>\n",
       "      <td>0</td>\n",
       "      <td>23.3</td>\n",
       "      <td>0.672</td>\n",
       "      <td>32</td>\n",
       "      <td>1</td>\n",
       "    </tr>\n",
       "    <tr>\n",
       "      <th>3</th>\n",
       "      <td>1</td>\n",
       "      <td>89</td>\n",
       "      <td>66</td>\n",
       "      <td>23</td>\n",
       "      <td>94</td>\n",
       "      <td>28.1</td>\n",
       "      <td>0.167</td>\n",
       "      <td>21</td>\n",
       "      <td>0</td>\n",
       "    </tr>\n",
       "    <tr>\n",
       "      <th>4</th>\n",
       "      <td>0</td>\n",
       "      <td>137</td>\n",
       "      <td>40</td>\n",
       "      <td>35</td>\n",
       "      <td>168</td>\n",
       "      <td>43.1</td>\n",
       "      <td>2.288</td>\n",
       "      <td>33</td>\n",
       "      <td>1</td>\n",
       "    </tr>\n",
       "    <tr>\n",
       "      <th>...</th>\n",
       "      <td>...</td>\n",
       "      <td>...</td>\n",
       "      <td>...</td>\n",
       "      <td>...</td>\n",
       "      <td>...</td>\n",
       "      <td>...</td>\n",
       "      <td>...</td>\n",
       "      <td>...</td>\n",
       "      <td>...</td>\n",
       "    </tr>\n",
       "    <tr>\n",
       "      <th>763</th>\n",
       "      <td>10</td>\n",
       "      <td>101</td>\n",
       "      <td>76</td>\n",
       "      <td>48</td>\n",
       "      <td>180</td>\n",
       "      <td>32.9</td>\n",
       "      <td>0.171</td>\n",
       "      <td>63</td>\n",
       "      <td>0</td>\n",
       "    </tr>\n",
       "    <tr>\n",
       "      <th>764</th>\n",
       "      <td>2</td>\n",
       "      <td>122</td>\n",
       "      <td>70</td>\n",
       "      <td>27</td>\n",
       "      <td>0</td>\n",
       "      <td>36.8</td>\n",
       "      <td>0.340</td>\n",
       "      <td>27</td>\n",
       "      <td>0</td>\n",
       "    </tr>\n",
       "    <tr>\n",
       "      <th>765</th>\n",
       "      <td>5</td>\n",
       "      <td>121</td>\n",
       "      <td>72</td>\n",
       "      <td>23</td>\n",
       "      <td>112</td>\n",
       "      <td>26.2</td>\n",
       "      <td>0.245</td>\n",
       "      <td>30</td>\n",
       "      <td>0</td>\n",
       "    </tr>\n",
       "    <tr>\n",
       "      <th>766</th>\n",
       "      <td>1</td>\n",
       "      <td>126</td>\n",
       "      <td>60</td>\n",
       "      <td>0</td>\n",
       "      <td>0</td>\n",
       "      <td>30.1</td>\n",
       "      <td>0.349</td>\n",
       "      <td>47</td>\n",
       "      <td>1</td>\n",
       "    </tr>\n",
       "    <tr>\n",
       "      <th>767</th>\n",
       "      <td>1</td>\n",
       "      <td>93</td>\n",
       "      <td>70</td>\n",
       "      <td>31</td>\n",
       "      <td>0</td>\n",
       "      <td>30.4</td>\n",
       "      <td>0.315</td>\n",
       "      <td>23</td>\n",
       "      <td>0</td>\n",
       "    </tr>\n",
       "  </tbody>\n",
       "</table>\n",
       "<p>768 rows × 9 columns</p>\n",
       "</div>"
      ],
      "text/plain": [
       "     Pregnancies  Glucose  BloodPressure  SkinThickness  Insulin   BMI  \\\n",
       "0              6      148             72             35        0  33.6   \n",
       "1              1       85             66             29        0  26.6   \n",
       "2              8      183             64              0        0  23.3   \n",
       "3              1       89             66             23       94  28.1   \n",
       "4              0      137             40             35      168  43.1   \n",
       "..           ...      ...            ...            ...      ...   ...   \n",
       "763           10      101             76             48      180  32.9   \n",
       "764            2      122             70             27        0  36.8   \n",
       "765            5      121             72             23      112  26.2   \n",
       "766            1      126             60              0        0  30.1   \n",
       "767            1       93             70             31        0  30.4   \n",
       "\n",
       "     DiabetesPedigreeFunction  Age  Outcome  \n",
       "0                       0.627   50        1  \n",
       "1                       0.351   31        0  \n",
       "2                       0.672   32        1  \n",
       "3                       0.167   21        0  \n",
       "4                       2.288   33        1  \n",
       "..                        ...  ...      ...  \n",
       "763                     0.171   63        0  \n",
       "764                     0.340   27        0  \n",
       "765                     0.245   30        0  \n",
       "766                     0.349   47        1  \n",
       "767                     0.315   23        0  \n",
       "\n",
       "[768 rows x 9 columns]"
      ]
     },
     "execution_count": 9,
     "metadata": {},
     "output_type": "execute_result"
    }
   ],
   "source": [
    "data[~data.duplicated()]"
   ]
  },
  {
   "cell_type": "markdown",
   "id": "5506d95f",
   "metadata": {},
   "source": [
    "# Data Visualization"
   ]
  },
  {
   "cell_type": "code",
   "execution_count": 10,
   "id": "b3a082eb",
   "metadata": {},
   "outputs": [
    {
     "data": {
      "text/plain": [
       "Index(['Pregnancies', 'Glucose', 'BloodPressure', 'SkinThickness', 'Insulin',\n",
       "       'BMI', 'DiabetesPedigreeFunction', 'Age', 'Outcome'],\n",
       "      dtype='object')"
      ]
     },
     "execution_count": 10,
     "metadata": {},
     "output_type": "execute_result"
    }
   ],
   "source": [
    "data.columns"
   ]
  },
  {
   "cell_type": "code",
   "execution_count": 12,
   "id": "5e8a36cd",
   "metadata": {},
   "outputs": [
    {
     "data": {
      "text/plain": [
       "<AxesSubplot:xlabel='Age', ylabel='Count'>"
      ]
     },
     "execution_count": 12,
     "metadata": {},
     "output_type": "execute_result"
    },
    {
     "data": {
      "image/png": "[encoded data removed]",
      "text/plain": [
       "<Figure size 1440x360 with 3 Axes>"
      ]
     },
     "metadata": {
      "needs_background": "light"
     },
     "output_type": "display_data"
    },
    {
     "data": {
      "image/png": "[encoded data removed]",
      "text/plain": [
       "<Figure size 1440x360 with 3 Axes>"
      ]
     },
     "metadata": {
      "needs_background": "light"
     },
     "output_type": "display_data"
    },
    {
     "data": {
      "image/png": "[encoded data removed]",
      "text/plain": [
       "<Figure size 1440x360 with 2 Axes>"
      ]
     },
     "metadata": {
      "needs_background": "light"
     },
     "output_type": "display_data"
    }
   ],
   "source": [
    "fig, ax = plt.subplots(1,3,figsize=(20,5))\n",
    "sns.histplot(data['Pregnancies'],ax=ax[0],kde=True)\n",
    "sns.histplot(data['Glucose'],ax=ax[1],kde=True)\n",
    "sns.histplot(data['BloodPressure'],ax=ax[2],kde=True)\n",
    "\n",
    "fig, ax = plt.subplots(1,3,figsize=(20,5))\n",
    "sns.histplot(data['SkinThickness'],ax=ax[0],kde=True)\n",
    "sns.histplot(data['Insulin'],ax=ax[1],kde=True)\n",
    "sns.histplot(data['BMI'],ax=ax[2],kde=True)\n",
    "\n",
    "fig, ax = plt.subplots(1,2,figsize=(20,5))\n",
    "sns.histplot(data['DiabetesPedigreeFunction'],ax=ax[0],kde=True)\n",
    "sns.histplot(data['Age'],ax=ax[1],kde=True)"
   ]
  },
  {
   "cell_type": "code",
   "execution_count": 14,
   "id": "6a3c1c6b",
   "metadata": {},
   "outputs": [
    {
     "data": {
      "text/plain": [
       "<AxesSubplot:xlabel='BMI', ylabel='Age'>"
      ]
     },
     "execution_count": 14,
     "metadata": {},
     "output_type": "execute_result"
    },
    {
     "data": {
      "image/png": "[encoded data removed]",
      "text/plain": [
       "<Figure size 432x288 with 1 Axes>"
      ]
     },
     "metadata": {
      "needs_background": "light"
     },
     "output_type": "display_data"
    }
   ],
   "source": [
    "sns.scatterplot(x='BMI',y='Age',hue='Outcome',data=data)"
   ]
  },
  {
   "cell_type": "code",
   "execution_count": 16,
   "id": "02db9a48",
   "metadata": {},
   "outputs": [
    {
     "data": {
      "text/plain": [
       "<AxesSubplot:xlabel='Outcome', ylabel='count'>"
      ]
     },
     "execution_count": 16,
     "metadata": {},
     "output_type": "execute_result"
    },
    {
     "data": {
      "image/png": "[encoded data removed]",
      "text/plain": [
       "<Figure size 432x288 with 1 Axes>"
      ]
     },
     "metadata": {
      "needs_background": "light"
     },
     "output_type": "display_data"
    }
   ],
   "source": [
    "sns.countplot(x='Outcome',data=data)"
   ]
  },
  {
   "cell_type": "code",
   "execution_count": 17,
   "id": "7c785f52",
   "metadata": {},
   "outputs": [
    {
     "data": {
      "text/plain": [
       "0    500\n",
       "1    268\n",
       "Name: Outcome, dtype: int64"
      ]
     },
     "execution_count": 17,
     "metadata": {},
     "output_type": "execute_result"
    }
   ],
   "source": [
    "data['Outcome'].value_counts()"
   ]
  },
  {
   "cell_type": "markdown",
   "id": "7ebd43cd",
   "metadata": {},
   "source": [
    "# Correlation Plot"
   ]
  },
  {
   "cell_type": "code",
   "execution_count": 19,
   "id": "2c40019c",
   "metadata": {},
   "outputs": [
    {
     "data": {
      "text/html": [
       "<div>\n",
       "<style scoped>\n",
       "    .dataframe tbody tr th:only-of-type {\n",
       "        vertical-align: middle;\n",
       "    }\n",
       "\n",
       "    .dataframe tbody tr th {\n",
       "        vertical-align: top;\n",
       "    }\n",
       "\n",
       "    .dataframe thead th {\n",
       "        text-align: right;\n",
       "    }\n",
       "</style>\n",
       "<table border=\"1\" class=\"dataframe\">\n",
       "  <thead>\n",
       "    <tr style=\"text-align: right;\">\n",
       "      <th></th>\n",
       "      <th>Pregnancies</th>\n",
       "      <th>Glucose</th>\n",
       "      <th>BloodPressure</th>\n",
       "      <th>SkinThickness</th>\n",
       "      <th>Insulin</th>\n",
       "      <th>BMI</th>\n",
       "      <th>DiabetesPedigreeFunction</th>\n",
       "      <th>Age</th>\n",
       "      <th>Outcome</th>\n",
       "    </tr>\n",
       "  </thead>\n",
       "  <tbody>\n",
       "    <tr>\n",
       "      <th>Pregnancies</th>\n",
       "      <td>1.000000</td>\n",
       "      <td>0.129459</td>\n",
       "      <td>0.141282</td>\n",
       "      <td>-0.081672</td>\n",
       "      <td>-0.073535</td>\n",
       "      <td>0.017683</td>\n",
       "      <td>-0.033523</td>\n",
       "      <td>0.544341</td>\n",
       "      <td>0.221898</td>\n",
       "    </tr>\n",
       "    <tr>\n",
       "      <th>Glucose</th>\n",
       "      <td>0.129459</td>\n",
       "      <td>1.000000</td>\n",
       "      <td>0.152590</td>\n",
       "      <td>0.057328</td>\n",
       "      <td>0.331357</td>\n",
       "      <td>0.221071</td>\n",
       "      <td>0.137337</td>\n",
       "      <td>0.263514</td>\n",
       "      <td>0.466581</td>\n",
       "    </tr>\n",
       "    <tr>\n",
       "      <th>BloodPressure</th>\n",
       "      <td>0.141282</td>\n",
       "      <td>0.152590</td>\n",
       "      <td>1.000000</td>\n",
       "      <td>0.207371</td>\n",
       "      <td>0.088933</td>\n",
       "      <td>0.281805</td>\n",
       "      <td>0.041265</td>\n",
       "      <td>0.239528</td>\n",
       "      <td>0.065068</td>\n",
       "    </tr>\n",
       "    <tr>\n",
       "      <th>SkinThickness</th>\n",
       "      <td>-0.081672</td>\n",
       "      <td>0.057328</td>\n",
       "      <td>0.207371</td>\n",
       "      <td>1.000000</td>\n",
       "      <td>0.436783</td>\n",
       "      <td>0.392573</td>\n",
       "      <td>0.183928</td>\n",
       "      <td>-0.113970</td>\n",
       "      <td>0.074752</td>\n",
       "    </tr>\n",
       "    <tr>\n",
       "      <th>Insulin</th>\n",
       "      <td>-0.073535</td>\n",
       "      <td>0.331357</td>\n",
       "      <td>0.088933</td>\n",
       "      <td>0.436783</td>\n",
       "      <td>1.000000</td>\n",
       "      <td>0.197859</td>\n",
       "      <td>0.185071</td>\n",
       "      <td>-0.042163</td>\n",
       "      <td>0.130548</td>\n",
       "    </tr>\n",
       "    <tr>\n",
       "      <th>BMI</th>\n",
       "      <td>0.017683</td>\n",
       "      <td>0.221071</td>\n",
       "      <td>0.281805</td>\n",
       "      <td>0.392573</td>\n",
       "      <td>0.197859</td>\n",
       "      <td>1.000000</td>\n",
       "      <td>0.140647</td>\n",
       "      <td>0.036242</td>\n",
       "      <td>0.292695</td>\n",
       "    </tr>\n",
       "    <tr>\n",
       "      <th>DiabetesPedigreeFunction</th>\n",
       "      <td>-0.033523</td>\n",
       "      <td>0.137337</td>\n",
       "      <td>0.041265</td>\n",
       "      <td>0.183928</td>\n",
       "      <td>0.185071</td>\n",
       "      <td>0.140647</td>\n",
       "      <td>1.000000</td>\n",
       "      <td>0.033561</td>\n",
       "      <td>0.173844</td>\n",
       "    </tr>\n",
       "    <tr>\n",
       "      <th>Age</th>\n",
       "      <td>0.544341</td>\n",
       "      <td>0.263514</td>\n",
       "      <td>0.239528</td>\n",
       "      <td>-0.113970</td>\n",
       "      <td>-0.042163</td>\n",
       "      <td>0.036242</td>\n",
       "      <td>0.033561</td>\n",
       "      <td>1.000000</td>\n",
       "      <td>0.238356</td>\n",
       "    </tr>\n",
       "    <tr>\n",
       "      <th>Outcome</th>\n",
       "      <td>0.221898</td>\n",
       "      <td>0.466581</td>\n",
       "      <td>0.065068</td>\n",
       "      <td>0.074752</td>\n",
       "      <td>0.130548</td>\n",
       "      <td>0.292695</td>\n",
       "      <td>0.173844</td>\n",
       "      <td>0.238356</td>\n",
       "      <td>1.000000</td>\n",
       "    </tr>\n",
       "  </tbody>\n",
       "</table>\n",
       "</div>"
      ],
      "text/plain": [
       "                          Pregnancies   Glucose  BloodPressure  SkinThickness  \\\n",
       "Pregnancies                  1.000000  0.129459       0.141282      -0.081672   \n",
       "Glucose                      0.129459  1.000000       0.152590       0.057328   \n",
       "BloodPressure                0.141282  0.152590       1.000000       0.207371   \n",
       "SkinThickness               -0.081672  0.057328       0.207371       1.000000   \n",
       "Insulin                     -0.073535  0.331357       0.088933       0.436783   \n",
       "BMI                          0.017683  0.221071       0.281805       0.392573   \n",
       "DiabetesPedigreeFunction    -0.033523  0.137337       0.041265       0.183928   \n",
       "Age                          0.544341  0.263514       0.239528      -0.113970   \n",
       "Outcome                      0.221898  0.466581       0.065068       0.074752   \n",
       "\n",
       "                           Insulin       BMI  DiabetesPedigreeFunction  \\\n",
       "Pregnancies              -0.073535  0.017683                 -0.033523   \n",
       "Glucose                   0.331357  0.221071                  0.137337   \n",
       "BloodPressure             0.088933  0.281805                  0.041265   \n",
       "SkinThickness             0.436783  0.392573                  0.183928   \n",
       "Insulin                   1.000000  0.197859                  0.185071   \n",
       "BMI                       0.197859  1.000000                  0.140647   \n",
       "DiabetesPedigreeFunction  0.185071  0.140647                  1.000000   \n",
       "Age                      -0.042163  0.036242                  0.033561   \n",
       "Outcome                   0.130548  0.292695                  0.173844   \n",
       "\n",
       "                               Age   Outcome  \n",
       "Pregnancies               0.544341  0.221898  \n",
       "Glucose                   0.263514  0.466581  \n",
       "BloodPressure             0.239528  0.065068  \n",
       "SkinThickness            -0.113970  0.074752  \n",
       "Insulin                  -0.042163  0.130548  \n",
       "BMI                       0.036242  0.292695  \n",
       "DiabetesPedigreeFunction  0.033561  0.173844  \n",
       "Age                       1.000000  0.238356  \n",
       "Outcome                   0.238356  1.000000  "
      ]
     },
     "execution_count": 19,
     "metadata": {},
     "output_type": "execute_result"
    }
   ],
   "source": [
    "data.corr()"
   ]
  },
  {
   "cell_type": "code",
   "execution_count": 18,
   "id": "4d668a6f",
   "metadata": {},
   "outputs": [
    {
     "data": {
      "text/plain": [
       "<AxesSubplot:>"
      ]
     },
     "execution_count": 18,
     "metadata": {},
     "output_type": "execute_result"
    },
    {
     "data": {
      "image/png": "[encoded data removed]",
      "text/plain": [
       "<Figure size 720x360 with 2 Axes>"
      ]
     },
     "metadata": {
      "needs_background": "light"
     },
     "output_type": "display_data"
    }
   ],
   "source": [
    "plt.figure(figsize=(10,5))\n",
    "sns.heatmap(data.corr(),annot=True,cmap='coolwarm')"
   ]
  },
  {
   "cell_type": "markdown",
   "id": "f5dd2473",
   "metadata": {},
   "source": [
    "# Train - Test Split"
   ]
  },
  {
   "cell_type": "code",
   "execution_count": 20,
   "id": "6aae4b34",
   "metadata": {},
   "outputs": [],
   "source": [
    "X = data.iloc[:,:-1]\n",
    "y = data.iloc[:,-1]"
   ]
  },
  {
   "cell_type": "code",
   "execution_count": 21,
   "id": "7561f082",
   "metadata": {},
   "outputs": [],
   "source": [
    "from sklearn.model_selection import train_test_split"
   ]
  },
  {
   "cell_type": "code",
   "execution_count": 22,
   "id": "5fc23047",
   "metadata": {},
   "outputs": [],
   "source": [
    "X_train, X_test, y_train, y_test = train_test_split(X,y,test_size=0.2,random_state=10)"
   ]
  },
  {
   "cell_type": "code",
   "execution_count": 23,
   "id": "775d3dd8",
   "metadata": {},
   "outputs": [],
   "source": [
    "# To check the Outcome distribution of class 0 or 1\n",
    "from collections import Counter"
   ]
  },
  {
   "cell_type": "code",
   "execution_count": 24,
   "id": "bfda0942",
   "metadata": {},
   "outputs": [
    {
     "data": {
      "text/plain": [
       "Counter({1: 209, 0: 405})"
      ]
     },
     "execution_count": 24,
     "metadata": {},
     "output_type": "execute_result"
    }
   ],
   "source": [
    "Counter(y_train)"
   ]
  },
  {
   "cell_type": "code",
   "execution_count": 25,
   "id": "88b7e42f",
   "metadata": {},
   "outputs": [
    {
     "data": {
      "text/plain": [
       "Counter({0: 95, 1: 59})"
      ]
     },
     "execution_count": 25,
     "metadata": {},
     "output_type": "execute_result"
    }
   ],
   "source": [
    "Counter(y_test)"
   ]
  },
  {
   "cell_type": "markdown",
   "id": "0e771018",
   "metadata": {},
   "source": [
    "# Balancing Data"
   ]
  },
  {
   "cell_type": "code",
   "execution_count": 26,
   "id": "5a40bc7a",
   "metadata": {},
   "outputs": [],
   "source": [
    "# Doing data balancing because on y_train it reaches 50%\n",
    "from imblearn.over_sampling import SMOTE"
   ]
  },
  {
   "cell_type": "code",
   "execution_count": 27,
   "id": "cad1c9fe",
   "metadata": {},
   "outputs": [],
   "source": [
    "sm = SMOTE()\n",
    "X_res, y_res = sm.fit_resample(X_train,y_train)"
   ]
  },
  {
   "cell_type": "code",
   "execution_count": 28,
   "id": "ae784756",
   "metadata": {},
   "outputs": [
    {
     "data": {
      "text/plain": [
       "Counter({1: 405, 0: 405})"
      ]
     },
     "execution_count": 28,
     "metadata": {},
     "output_type": "execute_result"
    }
   ],
   "source": [
    "Counter(y_res)"
   ]
  },
  {
   "cell_type": "markdown",
   "id": "42e9a502",
   "metadata": {},
   "source": [
    "# Data Preprocessing"
   ]
  },
  {
   "cell_type": "code",
   "execution_count": 30,
   "id": "e9548d69",
   "metadata": {},
   "outputs": [],
   "source": [
    "from sklearn.preprocessing import MinMaxScaler"
   ]
  },
  {
   "cell_type": "code",
   "execution_count": 31,
   "id": "f6f9b3a7",
   "metadata": {},
   "outputs": [],
   "source": [
    "scaler = MinMaxScaler()\n",
    "scaler.fit(X_res)\n",
    "X_res_train = scaler.transform(X_res)\n",
    "X_test = scaler.transform(X_test)"
   ]
  },
  {
   "cell_type": "code",
   "execution_count": 33,
   "id": "38218754",
   "metadata": {},
   "outputs": [
    {
     "data": {
      "text/plain": [
       "(array([[0.        , 0.81407035, 0.62295082, ..., 0.7928465 , 0.29077711,\n",
       "         0.06666667],\n",
       "        [0.11764706, 0.43718593, 0.        , ..., 0.43070045, 0.29675491,\n",
       "         0.06666667],\n",
       "        [0.        , 0.68844221, 0.55737705, ..., 0.36959762, 0.02775406,\n",
       "         0.        ],\n",
       "        ...,\n",
       "        [0.29411765, 0.8241206 , 0.59016393, ..., 0.39773304, 0.23114623,\n",
       "         0.46666667],\n",
       "        [0.23529412, 0.19095477, 0.55737705, ..., 0.57610265, 0.23604465,\n",
       "         0.21666667],\n",
       "        [0.41176471, 0.54271357, 0.64754098, ..., 0.53084763, 0.429488  ,\n",
       "         0.36666667]]),\n",
       " array([[0.23529412, 0.77386935, 0.59016393, ..., 0.46646796, 0.11101623,\n",
       "         0.26666667],\n",
       "        [0.11764706, 0.56281407, 0.70491803, ..., 0.57228018, 0.07173356,\n",
       "         0.11666667],\n",
       "        [0.05882353, 0.67839196, 0.44262295, ..., 0.39791356, 0.26003416,\n",
       "         0.68333333],\n",
       "        ...,\n",
       "        [0.47058824, 0.42713568, 0.45081967, ..., 0.36363636, 0.02476516,\n",
       "         0.35      ],\n",
       "        [0.29411765, 0.65326633, 0.67213115, ..., 0.58271237, 0.37489325,\n",
       "         0.26666667],\n",
       "        [0.17647059, 0.49748744, 0.44262295, ..., 0.38152012, 0.0324509 ,\n",
       "         0.05      ]]))"
      ]
     },
     "execution_count": 33,
     "metadata": {},
     "output_type": "execute_result"
    }
   ],
   "source": [
    "(X_res_train,X_test)"
   ]
  },
  {
   "cell_type": "markdown",
   "id": "b687d493",
   "metadata": {},
   "source": [
    "# Modelling"
   ]
  },
  {
   "cell_type": "code",
   "execution_count": 34,
   "id": "b2138037",
   "metadata": {},
   "outputs": [],
   "source": [
    "from keras.models import Sequential\n",
    "from keras.layers import Dense"
   ]
  },
  {
   "cell_type": "code",
   "execution_count": 35,
   "id": "dd975e1f",
   "metadata": {},
   "outputs": [],
   "source": [
    "model = Sequential()\n",
    "model.add(Dense(15,input_dim=8,activation='relu'))\n",
    "model.add(Dense(40,activation='relu'))\n",
    "model.add(Dense(2,activation='softmax'))"
   ]
  },
  {
   "cell_type": "code",
   "execution_count": 36,
   "id": "ad4f5dec",
   "metadata": {},
   "outputs": [
    {
     "name": "stdout",
     "output_type": "stream",
     "text": [
      "Model: \"sequential\"\n",
      "_________________________________________________________________\n",
      "Layer (type)                 Output Shape              Param #   \n",
      "=================================================================\n",
      "dense (Dense)                (None, 15)                135       \n",
      "_________________________________________________________________\n",
      "dense_1 (Dense)              (None, 40)                640       \n",
      "_________________________________________________________________\n",
      "dense_2 (Dense)              (None, 2)                 82        \n",
      "=================================================================\n",
      "Total params: 857\n",
      "Trainable params: 857\n",
      "Non-trainable params: 0\n",
      "_________________________________________________________________\n"
     ]
    }
   ],
   "source": [
    "model.summary()"
   ]
  },
  {
   "cell_type": "code",
   "execution_count": 41,
   "id": "8639ea49",
   "metadata": {},
   "outputs": [],
   "source": [
    "model.compile(loss='sparse_categorical_crossentropy',optimizer='adam',metrics=['accuracy'])"
   ]
  },
  {
   "cell_type": "code",
   "execution_count": 42,
   "id": "98698c44",
   "metadata": {},
   "outputs": [],
   "source": [
    "from keras.callbacks import ModelCheckpoint\n",
    "import os"
   ]
  },
  {
   "cell_type": "code",
   "execution_count": 43,
   "id": "2c9efbc4",
   "metadata": {},
   "outputs": [],
   "source": [
    "checkpoint_path = \"./Hasil Model/cp-{epoch:04d}.hdf5\"\n",
    "checkpoint_dir = os.path.dirname(checkpoint_path)\n",
    "\n",
    "cp_callback = ModelCheckpoint(\n",
    "    checkpoint_path, verbose=1, save_weights_only = True, save_freq = 'epoch'\n",
    ")"
   ]
  },
  {
   "cell_type": "code",
   "execution_count": 44,
   "id": "eb67855d",
   "metadata": {},
   "outputs": [
    {
     "name": "stdout",
     "output_type": "stream",
     "text": [
      "Epoch 1/50\n",
      "45/45 [==============================] - 1s 9ms/step - loss: 0.6845 - accuracy: 0.5198 - val_loss: 0.8235 - val_accuracy: 0.0204\n",
      "\n",
      "Epoch 00001: saving model to ./Hasil Model\\cp-0001.hdf5\n",
      "Epoch 2/50\n",
      "45/45 [==============================] - 0s 2ms/step - loss: 0.6659 - accuracy: 0.5576 - val_loss: 0.7718 - val_accuracy: 0.2551\n",
      "\n",
      "Epoch 00002: saving model to ./Hasil Model\\cp-0002.hdf5\n",
      "Epoch 3/50\n",
      "45/45 [==============================] - 0s 3ms/step - loss: 0.6355 - accuracy: 0.6691 - val_loss: 0.6585 - val_accuracy: 0.5918\n",
      "\n",
      "Epoch 00003: saving model to ./Hasil Model\\cp-0003.hdf5\n",
      "Epoch 4/50\n",
      "45/45 [==============================] - 0s 2ms/step - loss: 0.6202 - accuracy: 0.6960 - val_loss: 0.6585 - val_accuracy: 0.5918\n",
      "\n",
      "Epoch 00004: saving model to ./Hasil Model\\cp-0004.hdf5\n",
      "Epoch 5/50\n",
      "45/45 [==============================] - 0s 2ms/step - loss: 0.6040 - accuracy: 0.6951 - val_loss: 0.6201 - val_accuracy: 0.6224\n",
      "\n",
      "Epoch 00005: saving model to ./Hasil Model\\cp-0005.hdf5\n",
      "Epoch 6/50\n",
      "45/45 [==============================] - 0s 2ms/step - loss: 0.5790 - accuracy: 0.7232 - val_loss: 0.6366 - val_accuracy: 0.6224\n",
      "\n",
      "Epoch 00006: saving model to ./Hasil Model\\cp-0006.hdf5\n",
      "Epoch 7/50\n",
      "45/45 [==============================] - 0s 2ms/step - loss: 0.5574 - accuracy: 0.7325 - val_loss: 0.5766 - val_accuracy: 0.6837\n",
      "\n",
      "Epoch 00007: saving model to ./Hasil Model\\cp-0007.hdf5\n",
      "Epoch 8/50\n",
      "45/45 [==============================] - 0s 2ms/step - loss: 0.5663 - accuracy: 0.7045 - val_loss: 0.6151 - val_accuracy: 0.6429\n",
      "\n",
      "Epoch 00008: saving model to ./Hasil Model\\cp-0008.hdf5\n",
      "Epoch 9/50\n",
      "45/45 [==============================] - 0s 2ms/step - loss: 0.5618 - accuracy: 0.7064 - val_loss: 0.5716 - val_accuracy: 0.7041\n",
      "\n",
      "Epoch 00009: saving model to ./Hasil Model\\cp-0009.hdf5\n",
      "Epoch 10/50\n",
      "45/45 [==============================] - 0s 2ms/step - loss: 0.5452 - accuracy: 0.7053 - val_loss: 0.5703 - val_accuracy: 0.7041\n",
      "\n",
      "Epoch 00010: saving model to ./Hasil Model\\cp-0010.hdf5\n",
      "Epoch 11/50\n",
      "45/45 [==============================] - 0s 2ms/step - loss: 0.5145 - accuracy: 0.7634 - val_loss: 0.4843 - val_accuracy: 0.7857\n",
      "\n",
      "Epoch 00011: saving model to ./Hasil Model\\cp-0011.hdf5\n",
      "Epoch 12/50\n",
      "45/45 [==============================] - 0s 2ms/step - loss: 0.5132 - accuracy: 0.7494 - val_loss: 0.4863 - val_accuracy: 0.7755\n",
      "\n",
      "Epoch 00012: saving model to ./Hasil Model\\cp-0012.hdf5\n",
      "Epoch 13/50\n",
      "45/45 [==============================] - 0s 2ms/step - loss: 0.5075 - accuracy: 0.7471 - val_loss: 0.6552 - val_accuracy: 0.5918\n",
      "\n",
      "Epoch 00013: saving model to ./Hasil Model\\cp-0013.hdf5\n",
      "Epoch 14/50\n",
      "45/45 [==============================] - 0s 2ms/step - loss: 0.4969 - accuracy: 0.7704 - val_loss: 0.5720 - val_accuracy: 0.6735\n",
      "\n",
      "Epoch 00014: saving model to ./Hasil Model\\cp-0014.hdf5\n",
      "Epoch 15/50\n",
      "45/45 [==============================] - 0s 2ms/step - loss: 0.4902 - accuracy: 0.7875 - val_loss: 0.5106 - val_accuracy: 0.7347\n",
      "\n",
      "Epoch 00015: saving model to ./Hasil Model\\cp-0015.hdf5\n",
      "Epoch 16/50\n",
      "45/45 [==============================] - 0s 2ms/step - loss: 0.4840 - accuracy: 0.7714 - val_loss: 0.4992 - val_accuracy: 0.7449\n",
      "\n",
      "Epoch 00016: saving model to ./Hasil Model\\cp-0016.hdf5\n",
      "Epoch 17/50\n",
      "45/45 [==============================] - 0s 2ms/step - loss: 0.4901 - accuracy: 0.7539 - val_loss: 0.5081 - val_accuracy: 0.7245\n",
      "\n",
      "Epoch 00017: saving model to ./Hasil Model\\cp-0017.hdf5\n",
      "Epoch 18/50\n",
      "45/45 [==============================] - 0s 2ms/step - loss: 0.4864 - accuracy: 0.7654 - val_loss: 0.5615 - val_accuracy: 0.6837\n",
      "\n",
      "Epoch 00018: saving model to ./Hasil Model\\cp-0018.hdf5\n",
      "Epoch 19/50\n",
      "45/45 [==============================] - 0s 2ms/step - loss: 0.4761 - accuracy: 0.7795 - val_loss: 0.5559 - val_accuracy: 0.6735\n",
      "\n",
      "Epoch 00019: saving model to ./Hasil Model\\cp-0019.hdf5\n",
      "Epoch 20/50\n",
      "45/45 [==============================] - 0s 2ms/step - loss: 0.4868 - accuracy: 0.7585 - val_loss: 0.5399 - val_accuracy: 0.6939\n",
      "\n",
      "Epoch 00020: saving model to ./Hasil Model\\cp-0020.hdf5\n",
      "Epoch 21/50\n",
      "45/45 [==============================] - 0s 2ms/step - loss: 0.4614 - accuracy: 0.7675 - val_loss: 0.4245 - val_accuracy: 0.8265\n",
      "\n",
      "Epoch 00021: saving model to ./Hasil Model\\cp-0021.hdf5\n",
      "Epoch 22/50\n",
      "45/45 [==============================] - 0s 2ms/step - loss: 0.4606 - accuracy: 0.8051 - val_loss: 0.4989 - val_accuracy: 0.7245\n",
      "\n",
      "Epoch 00022: saving model to ./Hasil Model\\cp-0022.hdf5\n",
      "Epoch 23/50\n",
      "45/45 [==============================] - 0s 3ms/step - loss: 0.4552 - accuracy: 0.7812 - val_loss: 0.5690 - val_accuracy: 0.6735\n",
      "\n",
      "Epoch 00023: saving model to ./Hasil Model\\cp-0023.hdf5\n",
      "Epoch 24/50\n",
      "45/45 [==============================] - 0s 2ms/step - loss: 0.4905 - accuracy: 0.7584 - val_loss: 0.5103 - val_accuracy: 0.7041\n",
      "\n",
      "Epoch 00024: saving model to ./Hasil Model\\cp-0024.hdf5\n",
      "Epoch 25/50\n",
      "45/45 [==============================] - 0s 2ms/step - loss: 0.4602 - accuracy: 0.7726 - val_loss: 0.4829 - val_accuracy: 0.7245\n",
      "\n",
      "Epoch 00025: saving model to ./Hasil Model\\cp-0025.hdf5\n",
      "Epoch 26/50\n",
      "45/45 [==============================] - 0s 2ms/step - loss: 0.4436 - accuracy: 0.7788 - val_loss: 0.4608 - val_accuracy: 0.7551\n",
      "\n",
      "Epoch 00026: saving model to ./Hasil Model\\cp-0026.hdf5\n",
      "Epoch 27/50\n",
      "45/45 [==============================] - 0s 2ms/step - loss: 0.4336 - accuracy: 0.7942 - val_loss: 0.4748 - val_accuracy: 0.7347\n",
      "\n",
      "Epoch 00027: saving model to ./Hasil Model\\cp-0027.hdf5\n",
      "Epoch 28/50\n",
      "45/45 [==============================] - 0s 2ms/step - loss: 0.4523 - accuracy: 0.7915 - val_loss: 0.4549 - val_accuracy: 0.7653\n",
      "\n",
      "Epoch 00028: saving model to ./Hasil Model\\cp-0028.hdf5\n",
      "Epoch 29/50\n",
      "45/45 [==============================] - 0s 2ms/step - loss: 0.4669 - accuracy: 0.7754 - val_loss: 0.4992 - val_accuracy: 0.7245\n",
      "\n",
      "Epoch 00029: saving model to ./Hasil Model\\cp-0029.hdf5\n",
      "Epoch 30/50\n",
      "45/45 [==============================] - 0s 2ms/step - loss: 0.4399 - accuracy: 0.7734 - val_loss: 0.5064 - val_accuracy: 0.7041\n",
      "\n",
      "Epoch 00030: saving model to ./Hasil Model\\cp-0030.hdf5\n",
      "Epoch 31/50\n",
      "45/45 [==============================] - 0s 2ms/step - loss: 0.4582 - accuracy: 0.7791 - val_loss: 0.4222 - val_accuracy: 0.8265\n",
      "\n",
      "Epoch 00031: saving model to ./Hasil Model\\cp-0031.hdf5\n",
      "Epoch 32/50\n",
      "45/45 [==============================] - 0s 2ms/step - loss: 0.4745 - accuracy: 0.7705 - val_loss: 0.3953 - val_accuracy: 0.8776\n",
      "\n",
      "Epoch 00032: saving model to ./Hasil Model\\cp-0032.hdf5\n",
      "Epoch 33/50\n",
      "45/45 [==============================] - 0s 2ms/step - loss: 0.4522 - accuracy: 0.7880 - val_loss: 0.4564 - val_accuracy: 0.7755\n",
      "\n",
      "Epoch 00033: saving model to ./Hasil Model\\cp-0033.hdf5\n",
      "Epoch 34/50\n",
      "45/45 [==============================] - 0s 2ms/step - loss: 0.4759 - accuracy: 0.7560 - val_loss: 0.3234 - val_accuracy: 0.9082\n",
      "\n",
      "Epoch 00034: saving model to ./Hasil Model\\cp-0034.hdf5\n",
      "Epoch 35/50\n",
      "45/45 [==============================] - 0s 2ms/step - loss: 0.4635 - accuracy: 0.7752 - val_loss: 0.4046 - val_accuracy: 0.8571\n",
      "\n",
      "Epoch 00035: saving model to ./Hasil Model\\cp-0035.hdf5\n",
      "Epoch 36/50\n",
      "45/45 [==============================] - 0s 2ms/step - loss: 0.4683 - accuracy: 0.7898 - val_loss: 0.5000 - val_accuracy: 0.7449\n",
      "\n",
      "Epoch 00036: saving model to ./Hasil Model\\cp-0036.hdf5\n",
      "Epoch 37/50\n",
      "45/45 [==============================] - 0s 2ms/step - loss: 0.4609 - accuracy: 0.7806 - val_loss: 0.4086 - val_accuracy: 0.8265\n",
      "\n",
      "Epoch 00037: saving model to ./Hasil Model\\cp-0037.hdf5\n",
      "Epoch 38/50\n",
      "45/45 [==============================] - 0s 2ms/step - loss: 0.4239 - accuracy: 0.8055 - val_loss: 0.4364 - val_accuracy: 0.7959\n",
      "\n",
      "Epoch 00038: saving model to ./Hasil Model\\cp-0038.hdf5\n",
      "Epoch 39/50\n",
      "45/45 [==============================] - 0s 2ms/step - loss: 0.4502 - accuracy: 0.7983 - val_loss: 0.4018 - val_accuracy: 0.8571\n",
      "\n",
      "Epoch 00039: saving model to ./Hasil Model\\cp-0039.hdf5\n",
      "Epoch 40/50\n",
      "45/45 [==============================] - 0s 2ms/step - loss: 0.4454 - accuracy: 0.7779 - val_loss: 0.4120 - val_accuracy: 0.8367\n",
      "\n",
      "Epoch 00040: saving model to ./Hasil Model\\cp-0040.hdf5\n",
      "Epoch 41/50\n",
      "45/45 [==============================] - 0s 2ms/step - loss: 0.4521 - accuracy: 0.7881 - val_loss: 0.4200 - val_accuracy: 0.8265\n",
      "\n",
      "Epoch 00041: saving model to ./Hasil Model\\cp-0041.hdf5\n",
      "Epoch 42/50\n",
      "45/45 [==============================] - 0s 2ms/step - loss: 0.4055 - accuracy: 0.8104 - val_loss: 0.3674 - val_accuracy: 0.8673\n",
      "\n",
      "Epoch 00042: saving model to ./Hasil Model\\cp-0042.hdf5\n",
      "Epoch 43/50\n",
      "45/45 [==============================] - 0s 2ms/step - loss: 0.4643 - accuracy: 0.7712 - val_loss: 0.5004 - val_accuracy: 0.7347\n",
      "\n",
      "Epoch 00043: saving model to ./Hasil Model\\cp-0043.hdf5\n",
      "Epoch 44/50\n",
      "45/45 [==============================] - 0s 1ms/step - loss: 0.4123 - accuracy: 0.8103 - val_loss: 0.4093 - val_accuracy: 0.8367\n",
      "\n",
      "Epoch 00044: saving model to ./Hasil Model\\cp-0044.hdf5\n",
      "Epoch 45/50\n",
      "45/45 [==============================] - 0s 2ms/step - loss: 0.4448 - accuracy: 0.7760 - val_loss: 0.4006 - val_accuracy: 0.8469\n",
      "\n",
      "Epoch 00045: saving model to ./Hasil Model\\cp-0045.hdf5\n",
      "Epoch 46/50\n",
      "45/45 [==============================] - 0s 2ms/step - loss: 0.4388 - accuracy: 0.7918 - val_loss: 0.3448 - val_accuracy: 0.8776\n",
      "\n",
      "Epoch 00046: saving model to ./Hasil Model\\cp-0046.hdf5\n",
      "Epoch 47/50\n",
      "45/45 [==============================] - 0s 2ms/step - loss: 0.4443 - accuracy: 0.7998 - val_loss: 0.5323 - val_accuracy: 0.7143\n",
      "\n",
      "Epoch 00047: saving model to ./Hasil Model\\cp-0047.hdf5\n",
      "Epoch 48/50\n",
      "45/45 [==============================] - 0s 2ms/step - loss: 0.4741 - accuracy: 0.7882 - val_loss: 0.4414 - val_accuracy: 0.8061\n",
      "\n",
      "Epoch 00048: saving model to ./Hasil Model\\cp-0048.hdf5\n",
      "Epoch 49/50\n",
      "45/45 [==============================] - 0s 2ms/step - loss: 0.4462 - accuracy: 0.8027 - val_loss: 0.4317 - val_accuracy: 0.8061\n",
      "\n",
      "Epoch 00049: saving model to ./Hasil Model\\cp-0049.hdf5\n",
      "Epoch 50/50\n",
      "45/45 [==============================] - 0s 5ms/step - loss: 0.4554 - accuracy: 0.7855 - val_loss: 0.5009 - val_accuracy: 0.7347\n",
      "\n",
      "Epoch 00050: saving model to ./Hasil Model\\cp-0050.hdf5\n"
     ]
    }
   ],
   "source": [
    "history = model.fit(X_res_train,y_res, validation_split=0.12, epochs = 50, batch_size = 16, verbose=1, callbacks=[cp_callback])"
   ]
  },
  {
   "cell_type": "code",
   "execution_count": 45,
   "id": "ca0e395a",
   "metadata": {},
   "outputs": [
    {
     "data": {
      "image/png": "[encoded data removed]",
      "text/plain": [
       "<Figure size 432x288 with 1 Axes>"
      ]
     },
     "metadata": {
      "needs_background": "light"
     },
     "output_type": "display_data"
    }
   ],
   "source": [
    "plt.plot(history.history['loss'],label='train loss')\n",
    "plt.plot(history.history['val_loss'],label='val loss')\n",
    "plt.title('Loss')\n",
    "plt.xlabel('epoch')\n",
    "plt.ylabel('loss value')\n",
    "plt.show()"
   ]
  },
  {
   "cell_type": "code",
   "execution_count": 46,
   "id": "87f750d0",
   "metadata": {},
   "outputs": [
    {
     "data": {
      "image/png": "[encoded data removed]",
      "text/plain": [
       "<Figure size 432x288 with 1 Axes>"
      ]
     },
     "metadata": {
      "needs_background": "light"
     },
     "output_type": "display_data"
    }
   ],
   "source": [
    "plt.plot(history.history['accuracy'],label='train accuracy')\n",
    "plt.plot(history.history['val_accuracy'],label='val accuracy')\n",
    "plt.title('Accuracy')\n",
    "plt.xlabel('epoch')\n",
    "plt.ylabel('accuracy value')\n",
    "plt.show()"
   ]
  },
  {
   "cell_type": "markdown",
   "id": "a9a5b797",
   "metadata": {},
   "source": [
    "# Predict Class"
   ]
  },
  {
   "cell_type": "code",
   "execution_count": 48,
   "id": "7d502fe0",
   "metadata": {},
   "outputs": [
    {
     "data": {
      "text/plain": [
       "array([1, 0, 0, 0, 0, 0, 0, 0, 0, 0, 0, 0, 1, 0, 0, 1, 1, 0, 0, 1, 1, 1,\n",
       "       0, 1, 0, 1, 0, 0, 1, 1, 0, 0, 0, 0, 0, 0, 0, 0, 1, 0, 0, 0, 0, 0,\n",
       "       1, 0, 1, 0, 0, 0, 0, 1, 0, 0, 1, 0, 0, 0, 0, 0, 0, 0, 0, 1, 0, 1,\n",
       "       1, 0, 0, 1, 1, 0, 0, 0, 0, 0, 1, 1, 0, 0, 0, 1, 0, 0, 0, 1, 1, 1,\n",
       "       1, 0, 0, 0, 0, 0, 0, 0, 1, 0, 0, 0, 1, 1, 1, 0, 0, 1, 1, 1, 0, 1,\n",
       "       0, 1, 0, 0, 0, 0, 0, 1, 0, 1, 0, 0, 0, 0, 0, 0, 0, 0, 0, 0, 1, 0,\n",
       "       1, 0, 0, 0, 0, 1, 1, 1, 0, 0, 0, 0, 1, 0, 0, 1, 1, 1, 0, 0, 1, 0],\n",
       "      dtype=int64)"
      ]
     },
     "execution_count": 48,
     "metadata": {},
     "output_type": "execute_result"
    }
   ],
   "source": [
    "np.argmax(model.predict(X_test), axis=-1)"
   ]
  },
  {
   "cell_type": "code",
   "execution_count": 50,
   "id": "72bba21f",
   "metadata": {},
   "outputs": [
    {
     "data": {
      "text/plain": [
       "array([0, 0, 0, 1, 0, 0, 0, 1, 0, 0, 0, 0, 1, 0, 1, 0, 0, 0, 0, 1, 1, 0,\n",
       "       0, 1, 0, 1, 0, 1, 1, 1, 0, 0, 0, 0, 1, 0, 1, 0, 0, 0, 1, 1, 1, 0,\n",
       "       1, 0, 0, 0, 1, 0, 0, 1, 0, 0, 0, 0, 0, 0, 0, 0, 0, 0, 0, 1, 0, 0,\n",
       "       1, 0, 0, 1, 1, 1, 0, 1, 0, 0, 1, 1, 0, 1, 0, 1, 0, 0, 1, 1, 0, 1,\n",
       "       1, 0, 0, 1, 0, 0, 0, 0, 1, 0, 0, 0, 1, 1, 1, 0, 0, 0, 1, 1, 0, 0,\n",
       "       0, 1, 0, 0, 1, 0, 0, 1, 0, 1, 0, 0, 0, 0, 0, 1, 0, 1, 0, 0, 1, 1,\n",
       "       0, 0, 0, 1, 0, 1, 1, 1, 0, 0, 1, 0, 1, 0, 0, 1, 1, 1, 1, 0, 1, 0],\n",
       "      dtype=int64)"
      ]
     },
     "execution_count": 50,
     "metadata": {},
     "output_type": "execute_result"
    }
   ],
   "source": [
    "np.array(y_test)"
   ]
  },
  {
   "cell_type": "code",
   "execution_count": 51,
   "id": "e16ac8df",
   "metadata": {},
   "outputs": [
    {
     "name": "stdout",
     "output_type": "stream",
     "text": [
      "5/5 [==============================] - 0s 2ms/step - loss: 0.4674 - accuracy: 0.7792\n",
      "loss: 0.46737968921661377\n",
      "acc: 0.7792207598686218\n"
     ]
    }
   ],
   "source": [
    "loss, acc = model.evaluate(X_test,y_test)\n",
    "print(f'loss: {loss}')\n",
    "print(f'acc: {acc}')"
   ]
  },
  {
   "cell_type": "markdown",
   "id": "6c5fc7da",
   "metadata": {},
   "source": [
    "# Load Model"
   ]
  },
  {
   "cell_type": "code",
   "execution_count": 52,
   "id": "44d6f1aa",
   "metadata": {},
   "outputs": [],
   "source": [
    "models = model\n",
    "models.load_weights('./Hasil Model/cp-0044.hdf5')"
   ]
  },
  {
   "cell_type": "code",
   "execution_count": 54,
   "id": "35eb090f",
   "metadata": {},
   "outputs": [
    {
     "name": "stdout",
     "output_type": "stream",
     "text": [
      "26/26 [==============================] - 0s 676us/step - loss: 0.4381 - accuracy: 0.8025\n",
      "loss train: 0.43810877203941345\n",
      "acc train: 0.8024691343307495\n"
     ]
    }
   ],
   "source": [
    "loss, acc = model.evaluate(X_res_train,y_res)\n",
    "print(f'loss train: {loss}')\n",
    "print(f'acc train: {acc}')"
   ]
  },
  {
   "cell_type": "code",
   "execution_count": 56,
   "id": "7c4f19e5",
   "metadata": {},
   "outputs": [
    {
     "name": "stdout",
     "output_type": "stream",
     "text": [
      "5/5 [==============================] - 0s 998us/step - loss: 0.4675 - accuracy: 0.8052\n",
      "loss test: 0.46749210357666016\n",
      "acc test: 0.8051947951316833\n"
     ]
    }
   ],
   "source": [
    "loss, acc = model.evaluate(X_test,y_test)\n",
    "print(f'loss test: {loss}')\n",
    "print(f'acc test: {acc}')"
   ]
  },
  {
   "cell_type": "code",
   "execution_count": 57,
   "id": "416d4462",
   "metadata": {},
   "outputs": [
    {
     "data": {
      "text/plain": [
       "[array([[ 0.54724455,  0.0207137 , -0.0270311 ,  0.13421804,  0.37936938,\n",
       "          0.25849018,  0.46004525,  0.3851545 , -0.46233106, -0.31719625,\n",
       "         -0.01316075, -0.05592432,  0.5084169 , -0.1448279 , -0.3963664 ],\n",
       "        [ 0.50919735,  0.35965282,  0.07778482,  0.05233006,  0.4026959 ,\n",
       "          0.49446422, -0.47265399, -0.05760302, -0.20995018,  0.36842483,\n",
       "         -0.45636532, -0.06144128,  0.41511816,  0.16574611,  0.3795489 ],\n",
       "        [-0.10022633,  0.419548  ,  0.19024758,  0.32748508,  0.00139104,\n",
       "          0.02431474,  0.2997392 ,  0.33515778,  0.05560237, -0.47886717,\n",
       "          0.1406645 ,  0.19618163,  0.36064324,  0.01704703, -0.06307042],\n",
       "        [ 0.33515522,  0.00265414, -0.5704483 ,  0.286289  , -0.41453254,\n",
       "          0.37494165,  0.2985834 , -0.36615196, -0.43666416, -0.4229765 ,\n",
       "          0.2799361 , -0.2570239 ,  0.25155753,  0.376419  , -0.33688423],\n",
       "        [-0.5898242 , -0.06716016, -0.17441888,  0.12880558, -0.3952482 ,\n",
       "          0.24170402,  0.0286874 ,  0.255388  , -0.11795282, -0.32310003,\n",
       "          0.11155028, -0.29619446,  0.13334917,  0.01883696,  0.16906077],\n",
       "        [ 0.16299412, -0.3521062 ,  0.08609506, -0.14360645, -0.18978415,\n",
       "          0.5270162 , -0.03173953, -0.03160886, -0.28870606,  0.12695014,\n",
       "          0.01399929,  0.47934085,  0.11607128, -0.16593747,  0.35381487],\n",
       "        [ 0.45545673, -0.10699644, -0.11000554, -0.12223624,  0.02718209,\n",
       "          0.10260028,  0.5655951 , -0.40476492, -0.22927791,  0.00207491,\n",
       "         -0.4794256 , -0.053302  ,  0.2540196 ,  0.36730045, -0.3981747 ],\n",
       "        [ 0.6211161 ,  0.39555687, -0.758174  , -0.6820507 ,  0.48430112,\n",
       "         -0.5057417 , -0.1878898 , -0.7924604 , -0.4762786 , -0.15561071,\n",
       "          0.34532696, -0.05768763, -0.35014462,  0.42965302,  0.10737837]],\n",
       "       dtype=float32),\n",
       " array([-0.19668037, -0.19165842,  0.21062496,  0.1996158 , -0.11434212,\n",
       "        -0.1471478 ,  0.09080817,  0.14110963,  0.        , -0.08619507,\n",
       "         0.14639376, -0.02665008, -0.15544842, -0.13652451, -0.15264611],\n",
       "       dtype=float32),\n",
       " array([[-2.96383090e-02,  2.99160004e-01, -2.77275413e-01,\n",
       "          1.15621924e-01, -2.39695847e-01, -4.06553149e-01,\n",
       "         -4.43100363e-01,  3.57764691e-01,  2.14181934e-02,\n",
       "         -2.24423930e-01,  2.27954701e-01, -1.13361016e-01,\n",
       "          3.85545313e-01, -2.24488720e-01,  3.24104339e-01,\n",
       "         -3.45323026e-01, -2.18698695e-01, -1.99317947e-01,\n",
       "          1.71663254e-01, -3.82737637e-01, -1.42738074e-01,\n",
       "          3.26203018e-01, -2.59717822e-01,  1.86794698e-01,\n",
       "         -1.59523323e-01, -4.99258898e-02,  2.99380809e-01,\n",
       "         -4.94733214e-01, -3.78993377e-02,  7.08632320e-02,\n",
       "          1.84500307e-01, -1.78220198e-01,  4.16174531e-01,\n",
       "          2.61151820e-01,  4.10399318e-01, -1.18209116e-01,\n",
       "         -1.53314054e-01,  1.23562060e-01,  6.12795353e-02,\n",
       "         -3.08150291e-01],\n",
       "        [-1.67399675e-01,  2.27707941e-02,  1.58168972e-02,\n",
       "          4.65484932e-02, -3.43467236e-01,  3.01859260e-01,\n",
       "         -9.47290957e-02,  1.64299663e-02, -9.55405831e-02,\n",
       "          1.58929586e-01,  3.08828235e-01,  7.08266795e-02,\n",
       "          2.84965068e-01,  5.91607802e-02,  2.91973174e-01,\n",
       "         -2.99959570e-01, -2.81334855e-02, -3.74288857e-02,\n",
       "          3.17048505e-02, -2.25772798e-01, -4.20331746e-01,\n",
       "          2.74476975e-01,  1.81568146e-01,  2.18153730e-01,\n",
       "         -6.64079189e-02,  1.62854686e-01,  2.16190249e-01,\n",
       "         -1.44460008e-01,  1.18044809e-01,  8.87244716e-02,\n",
       "          3.22195262e-01,  1.79364145e-01, -5.37345856e-02,\n",
       "          2.05381781e-01, -3.09067704e-02, -2.77322948e-01,\n",
       "          8.48692190e-03,  2.62754887e-01,  4.71051633e-02,\n",
       "         -1.78285003e-01],\n",
       "        [ 3.05010498e-01, -2.85735458e-01, -1.89993441e-01,\n",
       "          2.70500276e-02, -3.48246954e-02, -3.01891677e-02,\n",
       "          2.46070176e-01,  2.02912182e-01, -2.73888916e-01,\n",
       "          9.99849960e-02,  1.74177736e-02,  2.36583889e-01,\n",
       "          1.30729526e-01,  4.29972857e-01, -3.40127319e-01,\n",
       "          4.91919726e-01, -1.40034840e-01, -2.78167248e-01,\n",
       "          5.17226085e-02,  3.05599868e-01, -1.70866117e-01,\n",
       "         -1.87680110e-01,  6.34332374e-02, -9.60955247e-02,\n",
       "          1.40645176e-01,  2.02529669e-01, -5.28419733e-01,\n",
       "          4.56217617e-01,  4.36268896e-01,  2.10894018e-01,\n",
       "         -1.98527128e-01, -2.16591671e-01, -1.91858783e-02,\n",
       "          5.25234714e-02,  1.11027993e-01,  1.25221103e-01,\n",
       "         -1.44013226e-01,  2.82725066e-01, -2.70846814e-01,\n",
       "          1.58542275e-01],\n",
       "        [ 2.19724983e-01,  1.98689535e-01, -2.90163398e-01,\n",
       "          3.49719375e-02,  2.68066078e-01, -3.79161127e-02,\n",
       "          2.43851691e-01, -1.29653111e-01, -6.64326325e-02,\n",
       "         -2.20186129e-01,  1.55418357e-02,  4.13868278e-01,\n",
       "          3.70972902e-02,  3.66292983e-01,  1.43824473e-01,\n",
       "          3.95836473e-01, -1.32396761e-02, -3.23396027e-02,\n",
       "          1.90611437e-01,  4.19673502e-01, -2.90292446e-02,\n",
       "         -4.11419958e-01, -7.61823729e-02,  2.74257183e-01,\n",
       "          1.37977079e-01, -9.89648849e-02, -3.84796500e-01,\n",
       "          3.72014910e-01,  4.05378252e-01,  9.13953036e-02,\n",
       "         -7.88250268e-02, -1.21132597e-01, -7.27643892e-02,\n",
       "          4.51940596e-02,  8.43189731e-02,  3.09393674e-01,\n",
       "          9.86676514e-02, -2.72712167e-02,  1.61027431e-01,\n",
       "          2.61613846e-01],\n",
       "        [ 2.19934791e-01,  1.75756529e-01, -4.95168567e-03,\n",
       "          1.19155884e-01, -4.16214943e-01,  2.26397902e-01,\n",
       "         -2.56973207e-01, -1.74261540e-01, -6.36659339e-02,\n",
       "          5.80200776e-02,  3.33499461e-01, -4.02981639e-02,\n",
       "         -9.93124470e-02, -3.36753190e-01,  1.42879725e-01,\n",
       "         -5.23563683e-01,  6.62227795e-02,  2.14252770e-02,\n",
       "          2.71635145e-01, -2.12487176e-01, -2.46527046e-01,\n",
       "          1.82670191e-01,  1.18488818e-01,  1.03579566e-01,\n",
       "          2.72615969e-01,  2.07163274e-01,  1.91725194e-01,\n",
       "          5.11593483e-02, -8.78320560e-02,  1.77303165e-01,\n",
       "          3.66897523e-01, -1.33927420e-01,  3.98553424e-02,\n",
       "          3.74774449e-02, -2.56662816e-01, -1.02091037e-01,\n",
       "         -8.75641182e-02,  2.47183904e-01, -1.84466884e-01,\n",
       "         -4.36220914e-01],\n",
       "        [-2.23891154e-01, -1.16159372e-01, -2.14475974e-01,\n",
       "          1.68306515e-01,  1.03104524e-01,  1.52427480e-01,\n",
       "          6.62348941e-02,  3.56432229e-01,  2.79559076e-01,\n",
       "         -8.29531401e-02, -3.21904838e-01, -3.12055260e-01,\n",
       "          4.42936361e-01, -1.89698845e-01, -5.15468866e-02,\n",
       "          6.12547025e-02,  3.12151730e-01, -2.87180215e-01,\n",
       "         -5.76366968e-02,  1.68469161e-01, -1.48947641e-01,\n",
       "         -1.62988082e-01,  1.87969252e-01,  3.65561485e-01,\n",
       "         -2.36371458e-01,  1.24831244e-01, -1.14863753e-01,\n",
       "         -1.38358057e-01,  6.32610172e-02, -2.12847248e-01,\n",
       "          1.27814546e-01, -5.54797053e-03,  4.09710735e-01,\n",
       "         -1.63281158e-01,  3.39486629e-01,  8.42879117e-02,\n",
       "         -1.63433217e-02,  3.69060040e-01, -1.94399565e-01,\n",
       "          2.23528333e-02],\n",
       "        [ 9.94824246e-02, -3.63239348e-01,  1.82476699e-01,\n",
       "          2.17140969e-02,  2.57188827e-02,  3.42808723e-01,\n",
       "         -1.61306635e-01,  2.51079351e-01, -1.17983073e-01,\n",
       "         -2.06532210e-01,  1.97316259e-01,  1.61369368e-01,\n",
       "         -2.16597527e-01,  5.24353236e-02,  7.05177709e-02,\n",
       "          8.55915323e-02, -4.60975438e-01, -2.03193426e-02,\n",
       "         -2.96087503e-01, -8.33537336e-03,  4.19615835e-01,\n",
       "         -1.54149458e-02,  1.28097892e-01, -3.11687380e-01,\n",
       "          1.98214322e-01, -6.52139038e-02,  1.99252933e-01,\n",
       "         -1.10487258e-02, -1.63289443e-01, -2.85725836e-02,\n",
       "          8.69485065e-02,  1.15509331e-02,  2.09969670e-01,\n",
       "          3.08400184e-01,  7.23900422e-02, -2.40744695e-01,\n",
       "         -2.87074566e-01, -7.48330280e-02, -6.32927120e-02,\n",
       "          3.43226731e-01],\n",
       "        [ 3.51898998e-01,  2.64686882e-01, -2.30673313e-01,\n",
       "         -3.48753184e-01,  9.56065953e-02, -1.60716325e-01,\n",
       "         -2.18448251e-01, -1.31352842e-01,  2.03490518e-02,\n",
       "         -2.35256717e-01, -1.23736992e-01,  1.88011825e-01,\n",
       "         -2.96151966e-01,  3.06406200e-01,  6.75543488e-05,\n",
       "          6.44534156e-02, -1.44023687e-01, -1.00686386e-01,\n",
       "          1.81107745e-01,  1.05850108e-01, -1.30550683e-01,\n",
       "         -3.19483541e-02, -1.46326736e-01, -3.18976104e-01,\n",
       "          1.73472777e-01,  2.05817208e-01, -3.21134299e-01,\n",
       "          4.66080636e-01, -1.85131118e-01, -1.25969023e-01,\n",
       "         -1.71787590e-01, -1.67367592e-01, -1.27448291e-01,\n",
       "         -1.21791475e-02, -2.59037495e-01,  1.30421236e-01,\n",
       "         -1.99315608e-01, -2.75476962e-01,  3.07993531e-01,\n",
       "          4.50825363e-01],\n",
       "        [-1.54470086e-01,  1.45057529e-01,  1.41180962e-01,\n",
       "         -5.95359206e-02,  5.98013997e-02,  2.02665389e-01,\n",
       "          4.77374196e-02,  1.97503686e-01,  1.09110355e-01,\n",
       "         -1.08169883e-01, -2.19972044e-01,  6.94244206e-02,\n",
       "          3.23993325e-01, -8.99691433e-02,  3.10232878e-01,\n",
       "         -1.97497010e-03,  1.94553912e-01, -2.66858459e-01,\n",
       "         -1.89365819e-01,  1.65101260e-01, -2.75891453e-01,\n",
       "         -1.67587057e-01,  9.82552171e-02, -1.04484916e-01,\n",
       "          6.35280907e-02, -9.38874483e-02, -1.98782310e-01,\n",
       "         -2.51609325e-01,  1.36714906e-01,  2.58414447e-01,\n",
       "         -3.54813039e-02,  3.16545665e-01,  1.57961577e-01,\n",
       "         -3.80471945e-02,  3.00688267e-01, -3.13266367e-01,\n",
       "          1.19788617e-01, -2.94654042e-01, -1.18464559e-01,\n",
       "          1.44403517e-01],\n",
       "        [-5.32055914e-01, -9.68208350e-03, -1.45223528e-01,\n",
       "          3.49692971e-01, -3.49161327e-01, -2.44092777e-01,\n",
       "         -3.47542197e-01,  2.42789268e-01,  6.16429925e-01,\n",
       "          3.07597190e-01,  1.98480591e-01,  1.41937494e-01,\n",
       "          4.33175653e-01, -2.61633515e-01,  1.46701008e-01,\n",
       "         -9.16873589e-02,  3.69619578e-01,  2.09809422e-01,\n",
       "         -3.81944090e-01, -4.07210261e-01,  2.44112670e-01,\n",
       "         -1.02687798e-01, -7.21657872e-02,  2.43323728e-01,\n",
       "          1.04786143e-01, -4.53802675e-01,  1.13312259e-01,\n",
       "         -3.29344124e-01, -4.92307872e-01, -1.56888902e-01,\n",
       "          1.50642902e-01, -2.58828372e-01,  2.03505084e-01,\n",
       "         -2.85177469e-01,  2.21817881e-01, -2.55075954e-02,\n",
       "         -3.09839308e-01, -3.35159265e-02, -2.45426297e-02,\n",
       "         -7.15768263e-02],\n",
       "        [-8.11296165e-01, -4.41000164e-01,  1.59773141e-01,\n",
       "         -2.21819565e-01, -6.88953474e-02,  2.25906163e-01,\n",
       "          3.59030306e-01, -3.96594316e-01, -3.33193541e-01,\n",
       "         -4.36188541e-02,  6.02786541e-01,  1.74297877e-02,\n",
       "         -3.96301419e-01,  3.07750791e-01, -5.66357933e-02,\n",
       "          1.72503501e-01,  5.76650202e-02, -1.45052806e-01,\n",
       "          4.75230128e-01,  7.46699423e-02,  1.83760971e-01,\n",
       "          4.84137595e-01,  5.00655361e-02,  3.78013998e-02,\n",
       "          3.28814864e-01,  9.17215869e-02,  3.85590792e-01,\n",
       "          1.86986998e-01, -2.07732499e-01,  1.96640700e-01,\n",
       "         -9.46515650e-02, -8.58231187e-02, -3.83760095e-01,\n",
       "          8.57677907e-02, -3.69479269e-01, -1.18714245e-02,\n",
       "         -2.58176476e-01, -2.36581743e-01, -1.72370479e-01,\n",
       "          8.24134648e-02],\n",
       "        [ 7.02957585e-02, -6.46909326e-02, -2.57648975e-01,\n",
       "         -2.74723992e-02,  7.04000145e-02,  2.37893865e-01,\n",
       "          2.17364803e-01,  1.76405624e-01,  7.12407380e-02,\n",
       "          7.13348538e-02, -2.16042921e-01,  5.13649639e-03,\n",
       "          3.89243543e-01,  1.55401275e-01,  2.07023710e-01,\n",
       "         -1.67641744e-01, -9.21307728e-02,  1.59085840e-01,\n",
       "         -1.13002330e-01, -3.25168908e-01, -1.59159854e-01,\n",
       "         -1.79073632e-01, -1.35591656e-01, -8.03125352e-02,\n",
       "         -1.33154154e-01,  8.17686543e-02,  1.92519948e-01,\n",
       "         -1.75987601e-01, -2.59950578e-01, -7.93844238e-02,\n",
       "          1.26615867e-01,  2.77003109e-01, -5.38091063e-02,\n",
       "          1.09826177e-01,  3.99062455e-01,  1.75556123e-01,\n",
       "         -3.02399784e-01,  3.71629931e-02, -2.06189737e-01,\n",
       "         -2.85922647e-01],\n",
       "        [-7.53058419e-02,  2.88839221e-01, -5.85331619e-02,\n",
       "          3.48486722e-01,  1.46945536e-01, -4.07248810e-02,\n",
       "          1.95706680e-01,  2.99766380e-03,  3.76708269e-01,\n",
       "          2.99345046e-01, -3.35519731e-01, -1.55853689e-01,\n",
       "          2.42099762e-01, -9.05775875e-02,  2.64081925e-01,\n",
       "         -8.49090517e-02, -2.55086452e-01, -3.26533675e-01,\n",
       "         -3.07073683e-01,  1.47330448e-01,  2.35587150e-01,\n",
       "         -1.89590394e-01, -3.32033277e-01,  2.76225686e-01,\n",
       "         -9.74107012e-02,  1.91859052e-01, -2.47259215e-01,\n",
       "          1.81799661e-02, -2.13276550e-01, -1.40227884e-01,\n",
       "          1.36890247e-01, -2.60954082e-01, -1.96288060e-02,\n",
       "         -3.87956917e-01, -1.80959821e-01, -8.58308747e-02,\n",
       "          6.86331615e-02, -1.69140235e-01, -7.39143491e-02,\n",
       "          7.16986731e-02],\n",
       "        [-5.39882720e-01,  1.66988701e-01, -2.65397519e-01,\n",
       "          3.11717808e-01,  4.43803333e-02,  1.62614197e-01,\n",
       "          2.69184828e-01,  2.46647432e-01,  3.36554311e-02,\n",
       "          1.77632749e-01,  1.72940329e-01,  2.25944310e-01,\n",
       "          8.76262318e-03, -6.50340617e-02, -9.91124660e-02,\n",
       "         -1.18785895e-01,  1.03368154e-02, -2.57177055e-01,\n",
       "         -3.89518589e-01,  2.16352977e-02, -3.38337779e-01,\n",
       "         -4.17526625e-02,  1.16698742e-01, -2.52282590e-01,\n",
       "          1.05427720e-01, -2.89015532e-01,  4.07009095e-01,\n",
       "         -2.42253125e-01, -2.81367153e-01,  1.28968760e-01,\n",
       "          1.20589808e-01, -1.57893136e-01,  1.04453944e-01,\n",
       "         -9.16417539e-02, -1.44467160e-01, -4.37510431e-01,\n",
       "          6.63987771e-02, -4.69399542e-02, -1.52158067e-01,\n",
       "         -1.96626335e-01],\n",
       "        [-4.25873131e-01,  1.89357370e-01, -3.41436267e-02,\n",
       "          5.88712215e-01, -7.41412118e-02, -3.90633345e-01,\n",
       "         -5.87404370e-01,  2.07240149e-01,  2.63072461e-01,\n",
       "          4.80237663e-01, -3.46980691e-01, -4.74395663e-01,\n",
       "          6.10623062e-01, -5.87405145e-01,  7.22705960e-01,\n",
       "         -3.65588844e-01,  3.17169964e-01,  1.17173821e-01,\n",
       "         -3.78917366e-01, -6.66027367e-01, -3.56554359e-01,\n",
       "         -4.70173270e-01, -7.15564191e-02,  2.56306380e-01,\n",
       "         -7.10026696e-02, -4.62031484e-01, -5.12085199e-01,\n",
       "         -4.50997204e-01, -4.94542867e-01, -3.48487318e-01,\n",
       "          6.44471526e-01,  1.95420980e-02,  4.82844889e-01,\n",
       "         -5.20366311e-01,  1.89316794e-01, -1.22785181e-01,\n",
       "          1.43697545e-01,  7.09210575e-01,  1.44173682e-01,\n",
       "         -1.08985886e-01]], dtype=float32),\n",
       " array([-0.08720282, -0.10576942,  0.        , -0.10154253,  0.11043939,\n",
       "         0.15588775,  0.1778893 , -0.13882042, -0.09175707,  0.05220032,\n",
       "         0.1431091 ,  0.19978504, -0.150846  ,  0.22307953, -0.12743555,\n",
       "         0.16173716, -0.03049557,  0.        ,  0.16361155,  0.19307092,\n",
       "         0.00620985,  0.15518574, -0.02229366, -0.16683978,  0.22663869,\n",
       "         0.04758691,  0.08817888,  0.21267197,  0.14130746,  0.17167167,\n",
       "        -0.05685877,  0.        , -0.11798783,  0.18913437, -0.12965657,\n",
       "         0.17258495, -0.05280985, -0.08848763,  0.        ,  0.21046264],\n",
       "       dtype=float32),\n",
       " array([[-0.35477796,  0.18513839],\n",
       "        [-0.51165366,  0.12091228],\n",
       "        [ 0.15638772,  0.24740955],\n",
       "        [-0.61580706,  0.61347944],\n",
       "        [ 0.40442958, -0.22616576],\n",
       "        [ 0.10404049, -0.37387154],\n",
       "        [ 0.2663762 , -0.10598197],\n",
       "        [-0.3052801 ,  0.24739487],\n",
       "        [-0.49014524,  0.5530356 ],\n",
       "        [-0.03281592,  0.4352128 ],\n",
       "        [ 0.61049855, -0.23141275],\n",
       "        [ 0.23252925, -0.67098796],\n",
       "        [-0.37120867,  0.13962367],\n",
       "        [ 0.7878547 , -0.6370356 ],\n",
       "        [-0.23841487,  0.20756072],\n",
       "        [ 0.64053875, -0.19812599],\n",
       "        [-0.20209524,  0.28862885],\n",
       "        [-0.04654446,  0.30971184],\n",
       "        [ 0.49872524, -0.47547445],\n",
       "        [ 0.5552315 , -0.4522388 ],\n",
       "        [-0.32587168,  0.51227117],\n",
       "        [ 0.4810481 , -0.5958946 ],\n",
       "        [-0.3656222 , -0.35235834],\n",
       "        [-0.05817148,  0.3792489 ],\n",
       "        [ 0.7053772 , -0.35697046],\n",
       "        [-0.24883771, -0.27091956],\n",
       "        [ 0.42355984, -0.718656  ],\n",
       "        [ 0.5030755 , -0.86416876],\n",
       "        [ 0.12157123, -0.55027276],\n",
       "        [ 0.13823253, -0.529342  ],\n",
       "        [-0.39393595, -0.01591541],\n",
       "        [-0.22860849, -0.3211831 ],\n",
       "        [-0.16450968,  0.47598305],\n",
       "        [ 0.47974604,  0.17273472],\n",
       "        [-0.12179577,  0.5746323 ],\n",
       "        [ 0.49743035, -0.1917742 ],\n",
       "        [ 0.07909096, -0.2979494 ],\n",
       "        [-0.48249874,  0.51516676],\n",
       "        [-0.09692481,  0.36035028],\n",
       "        [ 0.46624961, -0.54203165]], dtype=float32),\n",
       " array([ 0.12920979, -0.1292098 ], dtype=float32)]"
      ]
     },
     "execution_count": 57,
     "metadata": {},
     "output_type": "execute_result"
    }
   ],
   "source": [
    "models.get_weights()"
   ]
  },
  {
   "cell_type": "code",
   "execution_count": 58,
   "id": "87bec1d0",
   "metadata": {},
   "outputs": [
    {
     "name": "stdout",
     "output_type": "stream",
     "text": [
      "Epoch 1/50\n",
      "45/45 [==============================] - 0s 4ms/step - loss: 0.4504 - accuracy: 0.7865 - val_loss: 0.4662 - val_accuracy: 0.7653\n",
      "\n",
      "Epoch 00001: saving model to ./Hasil Model\\cp-0001.hdf5\n",
      "Epoch 2/50\n",
      "45/45 [==============================] - 0s 2ms/step - loss: 0.4466 - accuracy: 0.7921 - val_loss: 0.4392 - val_accuracy: 0.7959\n",
      "\n",
      "Epoch 00002: saving model to ./Hasil Model\\cp-0002.hdf5\n",
      "Epoch 3/50\n",
      "45/45 [==============================] - 0s 2ms/step - loss: 0.4452 - accuracy: 0.7865 - val_loss: 0.4453 - val_accuracy: 0.7857\n",
      "\n",
      "Epoch 00003: saving model to ./Hasil Model\\cp-0003.hdf5\n",
      "Epoch 4/50\n",
      "45/45 [==============================] - 0s 2ms/step - loss: 0.4459 - accuracy: 0.7963 - val_loss: 0.3742 - val_accuracy: 0.8571\n",
      "\n",
      "Epoch 00004: saving model to ./Hasil Model\\cp-0004.hdf5\n",
      "Epoch 5/50\n",
      "45/45 [==============================] - 0s 2ms/step - loss: 0.4446 - accuracy: 0.7935 - val_loss: 0.4734 - val_accuracy: 0.7551\n",
      "\n",
      "Epoch 00005: saving model to ./Hasil Model\\cp-0005.hdf5\n",
      "Epoch 6/50\n",
      "45/45 [==============================] - 0s 2ms/step - loss: 0.4430 - accuracy: 0.7949 - val_loss: 0.5928 - val_accuracy: 0.6429\n",
      "\n",
      "Epoch 00006: saving model to ./Hasil Model\\cp-0006.hdf5\n",
      "Epoch 7/50\n",
      "45/45 [==============================] - 0s 2ms/step - loss: 0.4426 - accuracy: 0.7935 - val_loss: 0.4090 - val_accuracy: 0.8265\n",
      "\n",
      "Epoch 00007: saving model to ./Hasil Model\\cp-0007.hdf5\n",
      "Epoch 8/50\n",
      "45/45 [==============================] - 0s 2ms/step - loss: 0.4438 - accuracy: 0.7935 - val_loss: 0.4277 - val_accuracy: 0.8163\n",
      "\n",
      "Epoch 00008: saving model to ./Hasil Model\\cp-0008.hdf5\n",
      "Epoch 9/50\n",
      "45/45 [==============================] - 0s 2ms/step - loss: 0.4441 - accuracy: 0.7963 - val_loss: 0.4471 - val_accuracy: 0.7857\n",
      "\n",
      "Epoch 00009: saving model to ./Hasil Model\\cp-0009.hdf5\n",
      "Epoch 10/50\n",
      "45/45 [==============================] - 0s 2ms/step - loss: 0.4369 - accuracy: 0.7935 - val_loss: 0.3388 - val_accuracy: 0.8673\n",
      "\n",
      "Epoch 00010: saving model to ./Hasil Model\\cp-0010.hdf5\n",
      "Epoch 11/50\n",
      "45/45 [==============================] - 0s 2ms/step - loss: 0.4450 - accuracy: 0.7935 - val_loss: 0.3664 - val_accuracy: 0.8571\n",
      "\n",
      "Epoch 00011: saving model to ./Hasil Model\\cp-0011.hdf5\n",
      "Epoch 12/50\n",
      "45/45 [==============================] - 0s 2ms/step - loss: 0.4417 - accuracy: 0.7921 - val_loss: 0.5167 - val_accuracy: 0.7245\n",
      "\n",
      "Epoch 00012: saving model to ./Hasil Model\\cp-0012.hdf5\n",
      "Epoch 13/50\n",
      "45/45 [==============================] - 0s 2ms/step - loss: 0.4403 - accuracy: 0.7949 - val_loss: 0.4382 - val_accuracy: 0.7959\n",
      "\n",
      "Epoch 00013: saving model to ./Hasil Model\\cp-0013.hdf5\n",
      "Epoch 14/50\n",
      "45/45 [==============================] - 0s 2ms/step - loss: 0.4396 - accuracy: 0.7865 - val_loss: 0.4163 - val_accuracy: 0.8061\n",
      "\n",
      "Epoch 00014: saving model to ./Hasil Model\\cp-0014.hdf5\n",
      "Epoch 15/50\n",
      "45/45 [==============================] - 0s 2ms/step - loss: 0.4398 - accuracy: 0.7893 - val_loss: 0.5065 - val_accuracy: 0.7143\n",
      "\n",
      "Epoch 00015: saving model to ./Hasil Model\\cp-0015.hdf5\n",
      "Epoch 16/50\n",
      "45/45 [==============================] - 0s 2ms/step - loss: 0.4421 - accuracy: 0.7935 - val_loss: 0.3847 - val_accuracy: 0.8367\n",
      "\n",
      "Epoch 00016: saving model to ./Hasil Model\\cp-0016.hdf5\n",
      "Epoch 17/50\n",
      "45/45 [==============================] - 0s 2ms/step - loss: 0.4398 - accuracy: 0.7907 - val_loss: 0.4328 - val_accuracy: 0.8061\n",
      "\n",
      "Epoch 00017: saving model to ./Hasil Model\\cp-0017.hdf5\n",
      "Epoch 18/50\n",
      "45/45 [==============================] - 0s 2ms/step - loss: 0.4387 - accuracy: 0.7851 - val_loss: 0.5074 - val_accuracy: 0.7245\n",
      "\n",
      "Epoch 00018: saving model to ./Hasil Model\\cp-0018.hdf5\n",
      "Epoch 19/50\n",
      "45/45 [==============================] - 0s 2ms/step - loss: 0.4367 - accuracy: 0.7963 - val_loss: 0.4070 - val_accuracy: 0.8265\n",
      "\n",
      "Epoch 00019: saving model to ./Hasil Model\\cp-0019.hdf5\n",
      "Epoch 20/50\n",
      "45/45 [==============================] - 0s 2ms/step - loss: 0.4385 - accuracy: 0.7865 - val_loss: 0.3668 - val_accuracy: 0.8469\n",
      "\n",
      "Epoch 00020: saving model to ./Hasil Model\\cp-0020.hdf5\n",
      "Epoch 21/50\n",
      "45/45 [==============================] - 0s 2ms/step - loss: 0.4433 - accuracy: 0.7907 - val_loss: 0.4398 - val_accuracy: 0.8061\n",
      "\n",
      "Epoch 00021: saving model to ./Hasil Model\\cp-0021.hdf5\n",
      "Epoch 22/50\n",
      "45/45 [==============================] - 0s 2ms/step - loss: 0.4396 - accuracy: 0.7767 - val_loss: 0.4869 - val_accuracy: 0.7347\n",
      "\n",
      "Epoch 00022: saving model to ./Hasil Model\\cp-0022.hdf5\n",
      "Epoch 23/50\n",
      "45/45 [==============================] - 0s 2ms/step - loss: 0.4405 - accuracy: 0.7907 - val_loss: 0.4071 - val_accuracy: 0.8265\n",
      "\n",
      "Epoch 00023: saving model to ./Hasil Model\\cp-0023.hdf5\n",
      "Epoch 24/50\n",
      "45/45 [==============================] - 0s 2ms/step - loss: 0.4374 - accuracy: 0.7978 - val_loss: 0.4085 - val_accuracy: 0.8163\n",
      "\n",
      "Epoch 00024: saving model to ./Hasil Model\\cp-0024.hdf5\n",
      "Epoch 25/50\n",
      "45/45 [==============================] - 0s 2ms/step - loss: 0.4311 - accuracy: 0.7921 - val_loss: 0.5752 - val_accuracy: 0.6633\n",
      "\n",
      "Epoch 00025: saving model to ./Hasil Model\\cp-0025.hdf5\n",
      "Epoch 26/50\n",
      "45/45 [==============================] - 0s 2ms/step - loss: 0.4501 - accuracy: 0.7837 - val_loss: 0.3971 - val_accuracy: 0.8163\n",
      "\n",
      "Epoch 00026: saving model to ./Hasil Model\\cp-0026.hdf5\n",
      "Epoch 27/50\n",
      "45/45 [==============================] - 0s 2ms/step - loss: 0.4376 - accuracy: 0.7893 - val_loss: 0.3556 - val_accuracy: 0.8469\n",
      "\n",
      "Epoch 00027: saving model to ./Hasil Model\\cp-0027.hdf5\n",
      "Epoch 28/50\n",
      "45/45 [==============================] - 0s 2ms/step - loss: 0.4394 - accuracy: 0.7865 - val_loss: 0.3832 - val_accuracy: 0.8265\n",
      "\n",
      "Epoch 00028: saving model to ./Hasil Model\\cp-0028.hdf5\n",
      "Epoch 29/50\n",
      "45/45 [==============================] - 0s 2ms/step - loss: 0.4374 - accuracy: 0.7921 - val_loss: 0.4200 - val_accuracy: 0.8163\n",
      "\n",
      "Epoch 00029: saving model to ./Hasil Model\\cp-0029.hdf5\n",
      "Epoch 30/50\n",
      "45/45 [==============================] - 0s 2ms/step - loss: 0.4333 - accuracy: 0.7978 - val_loss: 0.3606 - val_accuracy: 0.8367\n",
      "\n",
      "Epoch 00030: saving model to ./Hasil Model\\cp-0030.hdf5\n",
      "Epoch 31/50\n",
      "45/45 [==============================] - 0s 2ms/step - loss: 0.4390 - accuracy: 0.7879 - val_loss: 0.5257 - val_accuracy: 0.7245\n",
      "\n",
      "Epoch 00031: saving model to ./Hasil Model\\cp-0031.hdf5\n",
      "Epoch 32/50\n",
      "45/45 [==============================] - 0s 2ms/step - loss: 0.4354 - accuracy: 0.7865 - val_loss: 0.3469 - val_accuracy: 0.8469\n",
      "\n",
      "Epoch 00032: saving model to ./Hasil Model\\cp-0032.hdf5\n",
      "Epoch 33/50\n",
      "45/45 [==============================] - 0s 2ms/step - loss: 0.4328 - accuracy: 0.8006 - val_loss: 0.4239 - val_accuracy: 0.8061\n",
      "\n",
      "Epoch 00033: saving model to ./Hasil Model\\cp-0033.hdf5\n",
      "Epoch 34/50\n",
      "45/45 [==============================] - 0s 2ms/step - loss: 0.4370 - accuracy: 0.7963 - val_loss: 0.3498 - val_accuracy: 0.8469\n",
      "\n",
      "Epoch 00034: saving model to ./Hasil Model\\cp-0034.hdf5\n",
      "Epoch 35/50\n",
      "45/45 [==============================] - 0s 2ms/step - loss: 0.4345 - accuracy: 0.7921 - val_loss: 0.4555 - val_accuracy: 0.7959\n",
      "\n",
      "Epoch 00035: saving model to ./Hasil Model\\cp-0035.hdf5\n",
      "Epoch 36/50\n",
      "45/45 [==============================] - 0s 2ms/step - loss: 0.4338 - accuracy: 0.7949 - val_loss: 0.3850 - val_accuracy: 0.8265\n",
      "\n",
      "Epoch 00036: saving model to ./Hasil Model\\cp-0036.hdf5\n",
      "Epoch 37/50\n",
      "45/45 [==============================] - 0s 2ms/step - loss: 0.4344 - accuracy: 0.7851 - val_loss: 0.3910 - val_accuracy: 0.8061\n",
      "\n",
      "Epoch 00037: saving model to ./Hasil Model\\cp-0037.hdf5\n",
      "Epoch 38/50\n",
      "45/45 [==============================] - 0s 2ms/step - loss: 0.4379 - accuracy: 0.7809 - val_loss: 0.4866 - val_accuracy: 0.7245\n",
      "\n",
      "Epoch 00038: saving model to ./Hasil Model\\cp-0038.hdf5\n",
      "Epoch 39/50\n",
      "45/45 [==============================] - 0s 2ms/step - loss: 0.4347 - accuracy: 0.8006 - val_loss: 0.3993 - val_accuracy: 0.8265\n",
      "\n",
      "Epoch 00039: saving model to ./Hasil Model\\cp-0039.hdf5\n",
      "Epoch 40/50\n",
      "45/45 [==============================] - 0s 2ms/step - loss: 0.4329 - accuracy: 0.7949 - val_loss: 0.4018 - val_accuracy: 0.8265\n",
      "\n",
      "Epoch 00040: saving model to ./Hasil Model\\cp-0040.hdf5\n",
      "Epoch 41/50\n",
      "45/45 [==============================] - 0s 2ms/step - loss: 0.4324 - accuracy: 0.7978 - val_loss: 0.3780 - val_accuracy: 0.8265\n",
      "\n",
      "Epoch 00041: saving model to ./Hasil Model\\cp-0041.hdf5\n",
      "Epoch 42/50\n",
      "45/45 [==============================] - 0s 2ms/step - loss: 0.4346 - accuracy: 0.7921 - val_loss: 0.3753 - val_accuracy: 0.8265\n",
      "\n",
      "Epoch 00042: saving model to ./Hasil Model\\cp-0042.hdf5\n",
      "Epoch 43/50\n",
      "45/45 [==============================] - 0s 2ms/step - loss: 0.4289 - accuracy: 0.7963 - val_loss: 0.4186 - val_accuracy: 0.8061\n",
      "\n",
      "Epoch 00043: saving model to ./Hasil Model\\cp-0043.hdf5\n",
      "Epoch 44/50\n",
      "45/45 [==============================] - 0s 2ms/step - loss: 0.4286 - accuracy: 0.8076 - val_loss: 0.4219 - val_accuracy: 0.8061\n",
      "\n",
      "Epoch 00044: saving model to ./Hasil Model\\cp-0044.hdf5\n",
      "Epoch 45/50\n",
      "45/45 [==============================] - 0s 2ms/step - loss: 0.4299 - accuracy: 0.7851 - val_loss: 0.3677 - val_accuracy: 0.8265\n",
      "\n",
      "Epoch 00045: saving model to ./Hasil Model\\cp-0045.hdf5\n",
      "Epoch 46/50\n",
      "45/45 [==============================] - 0s 2ms/step - loss: 0.4286 - accuracy: 0.7921 - val_loss: 0.5237 - val_accuracy: 0.7245\n",
      "\n",
      "Epoch 00046: saving model to ./Hasil Model\\cp-0046.hdf5\n",
      "Epoch 47/50\n",
      "45/45 [==============================] - 0s 2ms/step - loss: 0.4285 - accuracy: 0.7893 - val_loss: 0.4849 - val_accuracy: 0.7347\n",
      "\n",
      "Epoch 00047: saving model to ./Hasil Model\\cp-0047.hdf5\n",
      "Epoch 48/50\n",
      "45/45 [==============================] - 0s 2ms/step - loss: 0.4335 - accuracy: 0.7823 - val_loss: 0.4372 - val_accuracy: 0.7959\n",
      "\n",
      "Epoch 00048: saving model to ./Hasil Model\\cp-0048.hdf5\n",
      "Epoch 49/50\n",
      "45/45 [==============================] - 0s 2ms/step - loss: 0.4248 - accuracy: 0.8104 - val_loss: 0.3447 - val_accuracy: 0.8469\n",
      "\n",
      "Epoch 00049: saving model to ./Hasil Model\\cp-0049.hdf5\n",
      "Epoch 50/50\n",
      "45/45 [==============================] - 0s 2ms/step - loss: 0.4288 - accuracy: 0.7963 - val_loss: 0.3419 - val_accuracy: 0.8469\n",
      "\n",
      "Epoch 00050: saving model to ./Hasil Model\\cp-0050.hdf5\n"
     ]
    }
   ],
   "source": [
    "history = models.fit(X_res_train,y_res, validation_split=0.12, epochs = 50, batch_size = 16, verbose=1, callbacks=[cp_callback])"
   ]
  },
  {
   "cell_type": "code",
   "execution_count": 59,
   "id": "b1852fd3",
   "metadata": {},
   "outputs": [],
   "source": [
    "models.load_weights('./Hasil Model/cp-0049.hdf5')"
   ]
  },
  {
   "cell_type": "code",
   "execution_count": 60,
   "id": "57002a47",
   "metadata": {},
   "outputs": [
    {
     "name": "stdout",
     "output_type": "stream",
     "text": [
      "26/26 [==============================] - 0s 997us/step - loss: 0.4167 - accuracy: 0.8025\n",
      "loss train: 0.4166898727416992\n",
      "acc train: 0.8024691343307495\n"
     ]
    }
   ],
   "source": [
    "loss, acc = model.evaluate(X_res_train,y_res)\n",
    "print(f'loss train: {loss}')\n",
    "print(f'acc train: {acc}')"
   ]
  },
  {
   "cell_type": "code",
   "execution_count": 61,
   "id": "e465c358",
   "metadata": {},
   "outputs": [
    {
     "name": "stdout",
     "output_type": "stream",
     "text": [
      "5/5 [==============================] - 0s 997us/step - loss: 0.4700 - accuracy: 0.7987\n",
      "loss test: 0.4700304865837097\n",
      "acc test: 0.798701286315918\n"
     ]
    }
   ],
   "source": [
    "loss, acc = model.evaluate(X_test,y_test)\n",
    "print(f'loss test: {loss}')\n",
    "print(f'acc test: {acc}')"
   ]
  },
  {
   "cell_type": "code",
   "execution_count": null,
   "id": "81c852de",
   "metadata": {},
   "outputs": [],
   "source": []
  }
 ],
 "metadata": {
  "kernelspec": {
   "display_name": "Python 3 (ipykernel)",
   "language": "python",
   "name": "python3"
  },
  "language_info": {
   "codemirror_mode": {
    "name": "ipython",
    "version": 3
   },
   "file_extension": ".py",
   "mimetype": "text/x-python",
   "name": "python",
   "nbconvert_exporter": "python",
   "pygments_lexer": "ipython3",
   "version": "3.9.7"
  }
 },
 "nbformat": 4,
 "nbformat_minor": 5
}
